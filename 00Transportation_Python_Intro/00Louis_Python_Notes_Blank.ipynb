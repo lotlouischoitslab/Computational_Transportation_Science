{
 "cells": [
  {
   "cell_type": "markdown",
   "id": "be937855",
   "metadata": {},
   "source": [
    "# Louis' Python Notes"
   ]
  },
  {
   "cell_type": "markdown",
   "id": "56e9f67a",
   "metadata": {},
   "source": [
    "## 0. Basic Variable Types"
   ]
  },
  {
   "cell_type": "code",
   "execution_count": null,
   "id": "a9d8383f",
   "metadata": {},
   "outputs": [],
   "source": []
  },
  {
   "cell_type": "code",
   "execution_count": null,
   "id": "972fe2f0",
   "metadata": {},
   "outputs": [],
   "source": []
  },
  {
   "cell_type": "code",
   "execution_count": null,
   "id": "bafaeef9",
   "metadata": {},
   "outputs": [],
   "source": []
  },
  {
   "cell_type": "code",
   "execution_count": null,
   "id": "d814a61e",
   "metadata": {},
   "outputs": [],
   "source": []
  },
  {
   "cell_type": "code",
   "execution_count": null,
   "id": "3cad6772",
   "metadata": {},
   "outputs": [],
   "source": []
  },
  {
   "cell_type": "code",
   "execution_count": null,
   "id": "39ac2321",
   "metadata": {},
   "outputs": [],
   "source": []
  },
  {
   "cell_type": "code",
   "execution_count": null,
   "id": "c57280f7",
   "metadata": {},
   "outputs": [],
   "source": []
  },
  {
   "cell_type": "code",
   "execution_count": null,
   "id": "d02836db",
   "metadata": {},
   "outputs": [],
   "source": []
  },
  {
   "cell_type": "code",
   "execution_count": null,
   "id": "54675613",
   "metadata": {},
   "outputs": [],
   "source": []
  },
  {
   "cell_type": "markdown",
   "id": "185b7b5f",
   "metadata": {},
   "source": [
    "## 1. Python Functions & Basic Data Structures"
   ]
  },
  {
   "cell_type": "code",
   "execution_count": null,
   "id": "f2730089",
   "metadata": {},
   "outputs": [],
   "source": []
  },
  {
   "cell_type": "code",
   "execution_count": null,
   "id": "ac678ded",
   "metadata": {},
   "outputs": [],
   "source": []
  },
  {
   "cell_type": "code",
   "execution_count": null,
   "id": "bdde7804",
   "metadata": {},
   "outputs": [],
   "source": []
  },
  {
   "cell_type": "code",
   "execution_count": null,
   "id": "9b0e0c88",
   "metadata": {},
   "outputs": [],
   "source": []
  },
  {
   "cell_type": "code",
   "execution_count": null,
   "id": "97cc7060",
   "metadata": {},
   "outputs": [],
   "source": []
  },
  {
   "cell_type": "code",
   "execution_count": null,
   "id": "3fbda4f8",
   "metadata": {},
   "outputs": [],
   "source": []
  },
  {
   "cell_type": "code",
   "execution_count": null,
   "id": "2f9f2470",
   "metadata": {},
   "outputs": [],
   "source": []
  },
  {
   "cell_type": "code",
   "execution_count": null,
   "id": "c7cca707",
   "metadata": {},
   "outputs": [],
   "source": []
  },
  {
   "cell_type": "code",
   "execution_count": null,
   "id": "4737baba",
   "metadata": {},
   "outputs": [],
   "source": []
  },
  {
   "cell_type": "code",
   "execution_count": null,
   "id": "92a159bf",
   "metadata": {},
   "outputs": [],
   "source": []
  },
  {
   "cell_type": "code",
   "execution_count": null,
   "id": "2178bcb8",
   "metadata": {},
   "outputs": [],
   "source": [
    " "
   ]
  },
  {
   "cell_type": "code",
   "execution_count": null,
   "id": "5506ebdc",
   "metadata": {},
   "outputs": [],
   "source": [
    " "
   ]
  },
  {
   "cell_type": "code",
   "execution_count": null,
   "id": "364eb7e8",
   "metadata": {},
   "outputs": [],
   "source": [
    " "
   ]
  },
  {
   "cell_type": "markdown",
   "id": "a7bc5bb0",
   "metadata": {},
   "source": [
    "## 2. Python Functions"
   ]
  },
  {
   "cell_type": "code",
   "execution_count": null,
   "id": "578196dc",
   "metadata": {},
   "outputs": [],
   "source": [
    " "
   ]
  },
  {
   "cell_type": "code",
   "execution_count": null,
   "id": "c58ee669",
   "metadata": {},
   "outputs": [],
   "source": [
    " "
   ]
  },
  {
   "cell_type": "code",
   "execution_count": null,
   "id": "5e1d6c96",
   "metadata": {},
   "outputs": [],
   "source": [
    " "
   ]
  },
  {
   "cell_type": "code",
   "execution_count": null,
   "id": "24cedd73",
   "metadata": {},
   "outputs": [],
   "source": [
    " "
   ]
  },
  {
   "cell_type": "code",
   "execution_count": null,
   "id": "8e5822d3",
   "metadata": {},
   "outputs": [],
   "source": [
    " "
   ]
  },
  {
   "cell_type": "code",
   "execution_count": null,
   "id": "e4fe4d28",
   "metadata": {},
   "outputs": [],
   "source": [
    " "
   ]
  },
  {
   "cell_type": "code",
   "execution_count": null,
   "id": "aa98da23",
   "metadata": {},
   "outputs": [],
   "source": [
    " "
   ]
  },
  {
   "cell_type": "code",
   "execution_count": null,
   "id": "c57221ca",
   "metadata": {},
   "outputs": [],
   "source": [
    " "
   ]
  },
  {
   "cell_type": "code",
   "execution_count": null,
   "id": "c62a0742",
   "metadata": {},
   "outputs": [],
   "source": [
    " "
   ]
  },
  {
   "cell_type": "code",
   "execution_count": null,
   "id": "309baf98",
   "metadata": {},
   "outputs": [],
   "source": [
    " "
   ]
  },
  {
   "cell_type": "markdown",
   "id": "3c701e3e",
   "metadata": {},
   "source": [
    "### 3. Python Dictionaries & Data Frames"
   ]
  },
  {
   "cell_type": "code",
   "execution_count": null,
   "id": "d725c125",
   "metadata": {},
   "outputs": [],
   "source": [
    " "
   ]
  },
  {
   "cell_type": "code",
   "execution_count": null,
   "id": "e5654f4b",
   "metadata": {},
   "outputs": [],
   "source": [
    " "
   ]
  },
  {
   "cell_type": "code",
   "execution_count": null,
   "id": "660c8c40",
   "metadata": {},
   "outputs": [],
   "source": [
    " "
   ]
  },
  {
   "cell_type": "code",
   "execution_count": null,
   "id": "4f150b3d",
   "metadata": {},
   "outputs": [],
   "source": [
    " "
   ]
  },
  {
   "cell_type": "code",
   "execution_count": null,
   "id": "45173e3b",
   "metadata": {},
   "outputs": [],
   "source": []
  },
  {
   "cell_type": "code",
   "execution_count": null,
   "id": "d9a6c802",
   "metadata": {},
   "outputs": [],
   "source": [
    " "
   ]
  },
  {
   "cell_type": "code",
   "execution_count": null,
   "id": "0bed3fa5",
   "metadata": {},
   "outputs": [],
   "source": [
    " "
   ]
  },
  {
   "cell_type": "code",
   "execution_count": null,
   "id": "ef923043",
   "metadata": {},
   "outputs": [],
   "source": [
    " "
   ]
  },
  {
   "cell_type": "code",
   "execution_count": null,
   "id": "8390715b",
   "metadata": {},
   "outputs": [],
   "source": [
    " "
   ]
  },
  {
   "cell_type": "code",
   "execution_count": null,
   "id": "996c98a7",
   "metadata": {},
   "outputs": [],
   "source": [
    " "
   ]
  },
  {
   "cell_type": "code",
   "execution_count": null,
   "id": "419920fa",
   "metadata": {},
   "outputs": [],
   "source": [
    " "
   ]
  },
  {
   "cell_type": "markdown",
   "id": "c1b0eb34",
   "metadata": {},
   "source": [
    "# 4. Plotting in Python "
   ]
  },
  {
   "cell_type": "code",
   "execution_count": null,
   "id": "dfa1698f",
   "metadata": {},
   "outputs": [],
   "source": [
    " "
   ]
  },
  {
   "cell_type": "code",
   "execution_count": null,
   "id": "6838f198",
   "metadata": {},
   "outputs": [],
   "source": [
    " "
   ]
  },
  {
   "cell_type": "code",
   "execution_count": null,
   "id": "890989f0",
   "metadata": {},
   "outputs": [],
   "source": [
    " "
   ]
  },
  {
   "cell_type": "code",
   "execution_count": null,
   "id": "065c12cf",
   "metadata": {},
   "outputs": [],
   "source": [
    " "
   ]
  },
  {
   "cell_type": "code",
   "execution_count": null,
   "id": "4a237a3b",
   "metadata": {},
   "outputs": [],
   "source": [
    " "
   ]
  },
  {
   "cell_type": "markdown",
   "id": "4c51584c",
   "metadata": {},
   "source": [
    "## Horizontal Display"
   ]
  },
  {
   "cell_type": "code",
   "execution_count": null,
   "id": "13f05740",
   "metadata": {},
   "outputs": [],
   "source": [
    " "
   ]
  },
  {
   "cell_type": "markdown",
   "id": "d9c89ed3",
   "metadata": {},
   "source": [
    "## Vertical Display"
   ]
  },
  {
   "cell_type": "code",
   "execution_count": null,
   "id": "f886118c",
   "metadata": {},
   "outputs": [],
   "source": [
    " "
   ]
  },
  {
   "cell_type": "code",
   "execution_count": null,
   "id": "a90df32d",
   "metadata": {},
   "outputs": [],
   "source": [
    " "
   ]
  },
  {
   "cell_type": "code",
   "execution_count": null,
   "id": "f3a5ebfb",
   "metadata": {},
   "outputs": [],
   "source": [
    " "
   ]
  },
  {
   "cell_type": "code",
   "execution_count": null,
   "id": "f2c1c038",
   "metadata": {},
   "outputs": [],
   "source": [
    " "
   ]
  },
  {
   "cell_type": "code",
   "execution_count": null,
   "id": "f87f4c25",
   "metadata": {},
   "outputs": [],
   "source": [
    " "
   ]
  },
  {
   "cell_type": "code",
   "execution_count": null,
   "id": "b7af2e5c",
   "metadata": {},
   "outputs": [],
   "source": [
    " "
   ]
  },
  {
   "cell_type": "code",
   "execution_count": null,
   "id": "a84830f6",
   "metadata": {},
   "outputs": [],
   "source": [
    " "
   ]
  },
  {
   "cell_type": "code",
   "execution_count": null,
   "id": "038f8b2f",
   "metadata": {},
   "outputs": [],
   "source": [
    " "
   ]
  },
  {
   "cell_type": "markdown",
   "id": "8c472f88",
   "metadata": {},
   "source": [
    "## KTX (한국고속철도) Trajectory Curve Plotting"
   ]
  },
  {
   "cell_type": "code",
   "execution_count": null,
   "id": "16800689",
   "metadata": {},
   "outputs": [],
   "source": [
    " "
   ]
  },
  {
   "cell_type": "code",
   "execution_count": null,
   "id": "e59739d7",
   "metadata": {},
   "outputs": [],
   "source": [
    " "
   ]
  },
  {
   "cell_type": "code",
   "execution_count": null,
   "id": "6ebd82d7",
   "metadata": {},
   "outputs": [],
   "source": [
    " "
   ]
  },
  {
   "cell_type": "markdown",
   "id": "105cd527",
   "metadata": {},
   "source": [
    "## SRT (수서/수도권고속철도) Trajectory Curve Plotting"
   ]
  },
  {
   "cell_type": "code",
   "execution_count": null,
   "id": "9dc0a42e",
   "metadata": {},
   "outputs": [],
   "source": [
    " "
   ]
  },
  {
   "cell_type": "code",
   "execution_count": null,
   "id": "30864e65",
   "metadata": {},
   "outputs": [],
   "source": [
    " "
   ]
  },
  {
   "cell_type": "code",
   "execution_count": null,
   "id": "e6010551",
   "metadata": {},
   "outputs": [],
   "source": [
    " "
   ]
  },
  {
   "cell_type": "markdown",
   "id": "8943392f",
   "metadata": {},
   "source": [
    "### Combine KTX (한국고속철도) and SRT (수서/수도권고속철도) Trajectory Curves Together!"
   ]
  },
  {
   "cell_type": "code",
   "execution_count": null,
   "id": "beb8d0f8",
   "metadata": {},
   "outputs": [],
   "source": [
    " "
   ]
  },
  {
   "cell_type": "code",
   "execution_count": null,
   "id": "0eec1f41",
   "metadata": {},
   "outputs": [],
   "source": [
    " "
   ]
  },
  {
   "cell_type": "markdown",
   "id": "4b412d0e",
   "metadata": {},
   "source": [
    "# 5. Mathematics"
   ]
  },
  {
   "cell_type": "markdown",
   "id": "fb9ca6ca",
   "metadata": {},
   "source": [
    "## Calculus"
   ]
  },
  {
   "cell_type": "markdown",
   "id": "71766f4f",
   "metadata": {},
   "source": [
    "### Displacement $x(t)$ "
   ]
  },
  {
   "cell_type": "markdown",
   "id": "bef1b55b",
   "metadata": {},
   "source": [
    "$$x(t) = v_it+\\frac{1}{2}at^2$$"
   ]
  },
  {
   "cell_type": "markdown",
   "id": "8c7229f1",
   "metadata": {},
   "source": [
    "### Compute Velocity $v(t)$"
   ]
  },
  {
   "cell_type": "markdown",
   "id": "35fa5344",
   "metadata": {},
   "source": [
    "$$ v(t) = \\frac{dx}{dt}$$"
   ]
  },
  {
   "cell_type": "markdown",
   "id": "d9b68856",
   "metadata": {},
   "source": [
    "### Compute Acceleration a(t)"
   ]
  },
  {
   "cell_type": "markdown",
   "id": "85c1f8c4",
   "metadata": {},
   "source": [
    "$$ a(t) = \\frac{dv}{dt} $$"
   ]
  },
  {
   "cell_type": "code",
   "execution_count": null,
   "id": "62468d72",
   "metadata": {},
   "outputs": [],
   "source": [
    " "
   ]
  },
  {
   "cell_type": "markdown",
   "id": "520c4766",
   "metadata": {},
   "source": [
    "## Derivatives"
   ]
  },
  {
   "cell_type": "code",
   "execution_count": null,
   "id": "dd063af4",
   "metadata": {},
   "outputs": [],
   "source": [
    " "
   ]
  },
  {
   "cell_type": "code",
   "execution_count": null,
   "id": "16d684f7",
   "metadata": {},
   "outputs": [],
   "source": [
    " "
   ]
  },
  {
   "cell_type": "code",
   "execution_count": null,
   "id": "22859e1c",
   "metadata": {},
   "outputs": [],
   "source": [
    " "
   ]
  },
  {
   "cell_type": "markdown",
   "id": "f53e9c7d",
   "metadata": {},
   "source": [
    "## Compute $x(t)$ , $v(t)$ and $a(t)$ respectively when t = 3 seconds."
   ]
  },
  {
   "cell_type": "code",
   "execution_count": null,
   "id": "a27a47b4",
   "metadata": {},
   "outputs": [],
   "source": [
    " "
   ]
  },
  {
   "cell_type": "code",
   "execution_count": null,
   "id": "3bcd1cfc",
   "metadata": {},
   "outputs": [],
   "source": [
    " "
   ]
  },
  {
   "cell_type": "code",
   "execution_count": null,
   "id": "ed0107a2",
   "metadata": {},
   "outputs": [],
   "source": [
    " "
   ]
  },
  {
   "cell_type": "markdown",
   "id": "14540a0c",
   "metadata": {},
   "source": [
    "$$ f(\\theta)= \\sin{\\theta}$$"
   ]
  },
  {
   "cell_type": "markdown",
   "id": "716f3378",
   "metadata": {},
   "source": [
    "$$ \\frac{df}{d\\theta} = \\cos{\\theta}$$"
   ]
  },
  {
   "cell_type": "code",
   "execution_count": null,
   "id": "929609e8",
   "metadata": {},
   "outputs": [],
   "source": [
    " "
   ]
  },
  {
   "cell_type": "code",
   "execution_count": null,
   "id": "12e494c6",
   "metadata": {},
   "outputs": [],
   "source": [
    " "
   ]
  },
  {
   "cell_type": "markdown",
   "id": "e1c26477",
   "metadata": {},
   "source": [
    "$$ \\frac{df}{d\\theta} = \\cos{\\theta} $$ "
   ]
  },
  {
   "cell_type": "markdown",
   "id": "93801486",
   "metadata": {},
   "source": [
    "$$ \\theta = \\frac{\\pi}{4} $$"
   ]
  },
  {
   "cell_type": "code",
   "execution_count": null,
   "id": "8373caa7",
   "metadata": {},
   "outputs": [],
   "source": [
    " "
   ]
  },
  {
   "cell_type": "markdown",
   "id": "24faff5a",
   "metadata": {},
   "source": [
    "# Partial Differentiation"
   ]
  },
  {
   "cell_type": "markdown",
   "id": "64c62c85",
   "metadata": {},
   "source": [
    "$ f(x,y) = x^2 + y^2 $"
   ]
  },
  {
   "cell_type": "markdown",
   "id": "9ad1b353",
   "metadata": {},
   "source": [
    "$\\frac{\\partial f}{\\partial x} = 2x$"
   ]
  },
  {
   "cell_type": "markdown",
   "id": "d958ed83",
   "metadata": {},
   "source": [
    "$\\frac{\\partial f}{\\partial y} = 2y$"
   ]
  },
  {
   "cell_type": "code",
   "execution_count": null,
   "id": "d4508962",
   "metadata": {},
   "outputs": [],
   "source": [
    " "
   ]
  },
  {
   "cell_type": "code",
   "execution_count": null,
   "id": "fa648198",
   "metadata": {},
   "outputs": [],
   "source": [
    " "
   ]
  },
  {
   "cell_type": "markdown",
   "id": "c25631cd",
   "metadata": {},
   "source": [
    "# Single Integration"
   ]
  },
  {
   "cell_type": "markdown",
   "id": "36107c67",
   "metadata": {},
   "source": [
    "$$\\ \\int_{a}^{b} x^2 dx \\$$"
   ]
  },
  {
   "cell_type": "markdown",
   "id": "4b75d585",
   "metadata": {},
   "source": [
    "$$\\Delta{x} = \\int_{t_i}^{t_f} (v_i+ at)dt$$"
   ]
  },
  {
   "cell_type": "markdown",
   "id": "0f2f832e",
   "metadata": {},
   "source": [
    "**Compute the change in displacement when $t_i = 0$ and $t_f = 5$ with $v_i$ = 5 m/s and $a$ = 2 m/s^2**"
   ]
  },
  {
   "cell_type": "code",
   "execution_count": null,
   "id": "2ff14b47",
   "metadata": {},
   "outputs": [],
   "source": [
    " "
   ]
  },
  {
   "cell_type": "code",
   "execution_count": null,
   "id": "50343bab",
   "metadata": {},
   "outputs": [],
   "source": [
    " "
   ]
  },
  {
   "cell_type": "code",
   "execution_count": null,
   "id": "1a0662dc",
   "metadata": {},
   "outputs": [],
   "source": [
    " "
   ]
  },
  {
   "cell_type": "code",
   "execution_count": null,
   "id": "515f8cf8",
   "metadata": {},
   "outputs": [],
   "source": [
    " "
   ]
  },
  {
   "cell_type": "code",
   "execution_count": null,
   "id": "d2597f26",
   "metadata": {},
   "outputs": [],
   "source": [
    " "
   ]
  },
  {
   "cell_type": "markdown",
   "id": "ef778b18",
   "metadata": {},
   "source": [
    "$$\\ \\int_{0}^{\\frac{\\pi}{4}} \\cos{\\theta} d\\theta \\$$"
   ]
  },
  {
   "cell_type": "code",
   "execution_count": null,
   "id": "2405a143",
   "metadata": {},
   "outputs": [],
   "source": [
    " "
   ]
  },
  {
   "cell_type": "code",
   "execution_count": null,
   "id": "59da4a77",
   "metadata": {},
   "outputs": [],
   "source": [
    " "
   ]
  },
  {
   "cell_type": "code",
   "execution_count": null,
   "id": "652fe9d3",
   "metadata": {},
   "outputs": [],
   "source": [
    " "
   ]
  },
  {
   "cell_type": "markdown",
   "id": "4b77ad00",
   "metadata": {},
   "source": [
    "# Double Integration "
   ]
  },
  {
   "cell_type": "markdown",
   "id": "0578f9b1",
   "metadata": {},
   "source": [
    "$$\\ \\int_{c}^{d} \\int_{a}^{b} x^2+y^2 dxdy \\$$"
   ]
  },
  {
   "cell_type": "markdown",
   "id": "69bea0fd",
   "metadata": {},
   "source": [
    "$$\\ \\int_{1}^{3} \\int_{2}^{5} x^2+y^2 dxdy \\$$"
   ]
  },
  {
   "cell_type": "code",
   "execution_count": null,
   "id": "1f089b72",
   "metadata": {},
   "outputs": [],
   "source": [
    " "
   ]
  },
  {
   "cell_type": "code",
   "execution_count": null,
   "id": "72a090bc",
   "metadata": {},
   "outputs": [],
   "source": [
    " "
   ]
  },
  {
   "cell_type": "code",
   "execution_count": null,
   "id": "a0252db4",
   "metadata": {},
   "outputs": [],
   "source": [
    " "
   ]
  },
  {
   "cell_type": "code",
   "execution_count": null,
   "id": "213c8ee2",
   "metadata": {},
   "outputs": [],
   "source": [
    " "
   ]
  },
  {
   "cell_type": "markdown",
   "id": "a5bd96b8",
   "metadata": {},
   "source": [
    "$$\\ \\int_{0}^{\\frac{\\pi}{3}} \\int_{2}^{5} r^3\\sin{\\theta} drd\\theta \\$$"
   ]
  },
  {
   "cell_type": "code",
   "execution_count": null,
   "id": "e4883de3",
   "metadata": {},
   "outputs": [],
   "source": [
    " "
   ]
  },
  {
   "cell_type": "markdown",
   "id": "80a0b76b",
   "metadata": {},
   "source": [
    "# Linear Algebra"
   ]
  },
  {
   "cell_type": "code",
   "execution_count": null,
   "id": "4c0838cd",
   "metadata": {},
   "outputs": [],
   "source": [
    " "
   ]
  },
  {
   "cell_type": "markdown",
   "id": "57aab9de",
   "metadata": {},
   "source": [
    "### Matrix Scalar Multiplication"
   ]
  },
  {
   "cell_type": "markdown",
   "id": "9edcb460",
   "metadata": {},
   "source": [
    "$A = \n",
    "\\begin{bmatrix}\n",
    "1 & 2  \\\\\n",
    "1 & 0 \\\\\n",
    "\\end{bmatrix}\n",
    "$"
   ]
  },
  {
   "cell_type": "markdown",
   "id": "63b6d0e0",
   "metadata": {},
   "source": [
    "Find $2A$"
   ]
  },
  {
   "cell_type": "code",
   "execution_count": null,
   "id": "f5102db6",
   "metadata": {},
   "outputs": [],
   "source": [
    " "
   ]
  },
  {
   "cell_type": "markdown",
   "id": "7693781c",
   "metadata": {},
   "source": [
    "### Matrix Dot Product"
   ]
  },
  {
   "cell_type": "markdown",
   "id": "5912c05a",
   "metadata": {},
   "source": [
    "$A = \n",
    "\\begin{bmatrix}\n",
    "1 & 2  \\\\\n",
    "1 & 0 \\\\\n",
    "\\end{bmatrix}\n",
    "$"
   ]
  },
  {
   "cell_type": "markdown",
   "id": "3673d680",
   "metadata": {},
   "source": [
    "$v = \n",
    "\\begin{bmatrix}\n",
    "1  \\\\\n",
    "2 \\\\\n",
    "\\end{bmatrix}\n",
    "$"
   ]
  },
  {
   "cell_type": "markdown",
   "id": "5c29b57e",
   "metadata": {},
   "source": [
    "$ans = \\mathbf{A} \\cdot \\mathbf{v}$"
   ]
  },
  {
   "cell_type": "code",
   "execution_count": null,
   "id": "2b96fa7b",
   "metadata": {},
   "outputs": [],
   "source": [
    " "
   ]
  },
  {
   "cell_type": "markdown",
   "id": "8b1f48eb",
   "metadata": {},
   "source": [
    "$u = \n",
    "\\begin{bmatrix}\n",
    "5  \\\\\n",
    "2 \\\\\n",
    "\\end{bmatrix}\n",
    "$\n",
    "\n",
    "$v = \n",
    "\\begin{bmatrix}\n",
    "3 \\\\\n",
    "7 \\\\\n",
    "\\end{bmatrix}\n",
    "$\n",
    "\n",
    "$ans = \\mathbf{u} \\cdot \\mathbf{v}$"
   ]
  },
  {
   "cell_type": "code",
   "execution_count": null,
   "id": "997bc7d1",
   "metadata": {},
   "outputs": [],
   "source": [
    " "
   ]
  },
  {
   "cell_type": "markdown",
   "id": "dd2ac9a4",
   "metadata": {},
   "source": [
    "### Matrix Cross Product"
   ]
  },
  {
   "cell_type": "markdown",
   "id": "c131b7d1",
   "metadata": {},
   "source": [
    "$v1 = \n",
    "\\begin{bmatrix}\n",
    "1 \\\\\n",
    "2 \\\\ \n",
    "3\n",
    "\\end{bmatrix}\n",
    "$\n",
    "\n",
    "$v2 = \n",
    "\\begin{bmatrix}\n",
    "4 \\\\\n",
    "5 \\\\ \n",
    "6\n",
    "\\end{bmatrix}\n",
    "$\n",
    "\n",
    "$ans = \\mathbf{v1} \\times \\mathbf{v2}$"
   ]
  },
  {
   "cell_type": "code",
   "execution_count": null,
   "id": "de227648",
   "metadata": {},
   "outputs": [],
   "source": [
    " "
   ]
  },
  {
   "cell_type": "markdown",
   "id": "86db5bc7",
   "metadata": {},
   "source": [
    "### Solving Matrices"
   ]
  },
  {
   "cell_type": "markdown",
   "id": "5f8dd89d",
   "metadata": {},
   "source": [
    "$A = \n",
    "\\begin{bmatrix}\n",
    "1 & 2  \\\\\n",
    "1 & 0 \\\\\n",
    "\\end{bmatrix}\n",
    "$"
   ]
  },
  {
   "cell_type": "markdown",
   "id": "cb8096f2",
   "metadata": {},
   "source": [
    "$b = \n",
    "\\begin{bmatrix}\n",
    "3  \\\\\n",
    "5 \\\\\n",
    "\\end{bmatrix}\n",
    "$"
   ]
  },
  {
   "cell_type": "markdown",
   "id": "139a2754",
   "metadata": {},
   "source": [
    "$ Ax = b $"
   ]
  },
  {
   "cell_type": "code",
   "execution_count": null,
   "id": "f06f0088",
   "metadata": {},
   "outputs": [],
   "source": [
    " "
   ]
  },
  {
   "cell_type": "markdown",
   "id": "986f9b97",
   "metadata": {},
   "source": [
    "\\begin{align*}\n",
    "2x + 3y + z &= 10 \\\\\n",
    "4x - y + z &= 2 \\\\ \n",
    "3x + y - z &= 3\n",
    "\\end{align*}"
   ]
  },
  {
   "cell_type": "code",
   "execution_count": null,
   "id": "f2e0e5de",
   "metadata": {},
   "outputs": [],
   "source": [
    " "
   ]
  },
  {
   "cell_type": "markdown",
   "id": "e00a34a7",
   "metadata": {},
   "source": [
    "### Hint:\n",
    "\n",
    "$A = \n",
    "\\begin{bmatrix}\n",
    "2 & 3 & 1  \\\\\n",
    "4 & -1 & 1 \\\\\n",
    "3 & 1 & -1\n",
    "\\end{bmatrix}\n",
    "$\n",
    "\n",
    "$b = \n",
    "\\begin{bmatrix}\n",
    "10 \\\\\n",
    "2 \\\\\n",
    "3 \n",
    "\\end{bmatrix}\n",
    "$\n",
    "\n",
    "\n",
    "$ Ax = b $"
   ]
  },
  {
   "cell_type": "code",
   "execution_count": null,
   "id": "0ebe4508",
   "metadata": {},
   "outputs": [],
   "source": [
    " "
   ]
  },
  {
   "cell_type": "code",
   "execution_count": null,
   "id": "aecd772f",
   "metadata": {},
   "outputs": [],
   "source": [
    " "
   ]
  },
  {
   "cell_type": "code",
   "execution_count": null,
   "id": "d84e88a9",
   "metadata": {},
   "outputs": [],
   "source": [
    " "
   ]
  },
  {
   "cell_type": "code",
   "execution_count": null,
   "id": "fa4b91ff",
   "metadata": {},
   "outputs": [],
   "source": [
    " "
   ]
  },
  {
   "cell_type": "markdown",
   "id": "1dd4fd27",
   "metadata": {},
   "source": [
    "## Eigenvalues & Eigenvectors"
   ]
  },
  {
   "cell_type": "code",
   "execution_count": null,
   "id": "09d745cf",
   "metadata": {},
   "outputs": [],
   "source": [
    " "
   ]
  },
  {
   "cell_type": "code",
   "execution_count": null,
   "id": "9ae4e2f5",
   "metadata": {},
   "outputs": [],
   "source": [
    " "
   ]
  },
  {
   "cell_type": "code",
   "execution_count": null,
   "id": "e8cccbcc",
   "metadata": {},
   "outputs": [],
   "source": [
    " "
   ]
  },
  {
   "cell_type": "code",
   "execution_count": null,
   "id": "1a9757a3",
   "metadata": {},
   "outputs": [],
   "source": [
    " "
   ]
  },
  {
   "cell_type": "markdown",
   "id": "dd384454",
   "metadata": {},
   "source": [
    "### Linear Optimization"
   ]
  },
  {
   "cell_type": "markdown",
   "id": "183bdabe",
   "metadata": {},
   "source": [
    "\\begin{alignat*}{2}\n",
    "\\text{Minimize:} \\quad & -2x - 3y \\\\\n",
    "\\text{Subject to:} \\quad & x + y &\\leq 5 \\\\\n",
    "                        & x - 2y &\\leq 2 \\\\\n",
    "                        & -x + y &\\leq 3 \\\\\n",
    "                        & x &\\geq 0 \\\\\n",
    "                        & y &\\geq 0\n",
    "\\end{alignat*}"
   ]
  },
  {
   "cell_type": "code",
   "execution_count": null,
   "id": "801d049c",
   "metadata": {},
   "outputs": [],
   "source": [
    " "
   ]
  },
  {
   "cell_type": "markdown",
   "id": "2edf5e8f",
   "metadata": {},
   "source": [
    "\\begin{alignat*}{2}\n",
    "\\text{Maximize:} \\quad & x  + 2y \\\\\n",
    "\\text{Subject to:} \\quad & -x + y &\\leq 1 \\\\\n",
    "                        & 2x + 2y &\\leq 6 \\\\\n",
    "                        & x &\\geq 0 \\\\\n",
    "                        & y &\\geq 0\n",
    "\\end{alignat*}"
   ]
  },
  {
   "cell_type": "code",
   "execution_count": null,
   "id": "1788ac49",
   "metadata": {},
   "outputs": [],
   "source": [
    " "
   ]
  },
  {
   "cell_type": "code",
   "execution_count": null,
   "id": "341137ca",
   "metadata": {},
   "outputs": [],
   "source": [
    " "
   ]
  },
  {
   "cell_type": "markdown",
   "id": "878aab92",
   "metadata": {},
   "source": [
    "# Summation"
   ]
  },
  {
   "cell_type": "markdown",
   "id": "5ca94eff",
   "metadata": {},
   "source": [
    "### $ \\sum_{i=0}^{5}i^2 $"
   ]
  },
  {
   "cell_type": "code",
   "execution_count": null,
   "id": "97727f48",
   "metadata": {},
   "outputs": [],
   "source": [
    " "
   ]
  },
  {
   "cell_type": "markdown",
   "id": "5670b9ea",
   "metadata": {},
   "source": [
    "# Product"
   ]
  },
  {
   "cell_type": "markdown",
   "id": "3ec95b7c",
   "metadata": {},
   "source": [
    "### $ \\Pi_{i=1}^{5}i^2 $"
   ]
  },
  {
   "cell_type": "code",
   "execution_count": null,
   "id": "e96c948d",
   "metadata": {},
   "outputs": [],
   "source": [
    " "
   ]
  },
  {
   "cell_type": "markdown",
   "id": "87469769",
   "metadata": {},
   "source": [
    "# Probability and Statistics"
   ]
  },
  {
   "cell_type": "markdown",
   "id": "52b6e746",
   "metadata": {},
   "source": [
    "## Normal Distribtution"
   ]
  },
  {
   "cell_type": "markdown",
   "id": "b00a3112",
   "metadata": {},
   "source": [
    "### Probability Density Function (PDF):\n",
    "\n",
    "$ f(x|\\mu,\\sigma) = \\frac{1}{\\sqrt{2\\pi\\sigma^2}}e^{-\\frac{(x-\\mu)^2}{2\\sigma^2}} $\n"
   ]
  },
  {
   "cell_type": "code",
   "execution_count": null,
   "id": "e5e76165",
   "metadata": {},
   "outputs": [],
   "source": [
    " "
   ]
  },
  {
   "cell_type": "markdown",
   "id": "a1699adc",
   "metadata": {},
   "source": [
    "### Cumulative Distributive Function (CDF): \n",
    "$ F(x|\\mu,\\sigma) = \\frac{1}{2}\\left[1 + \\text{erf}\\left(\\frac{x-\\mu}{\\sqrt{2\\sigma^2}}\\right)\\right] $"
   ]
  },
  {
   "cell_type": "code",
   "execution_count": null,
   "id": "ee3b3474",
   "metadata": {},
   "outputs": [],
   "source": [
    " "
   ]
  },
  {
   "cell_type": "markdown",
   "id": "601a0c22",
   "metadata": {},
   "source": [
    "## Uniform Distribution"
   ]
  },
  {
   "cell_type": "markdown",
   "id": "0eb7df9b",
   "metadata": {},
   "source": [
    "### Probability Density Function (PDF):\n",
    "\n",
    "$ f(x|a,b) = \\frac{1}{b-a} \\quad \\text{for } a \\leq x \\leq b $"
   ]
  },
  {
   "cell_type": "code",
   "execution_count": null,
   "id": "51fc2132",
   "metadata": {},
   "outputs": [],
   "source": [
    " "
   ]
  },
  {
   "cell_type": "markdown",
   "id": "15779900",
   "metadata": {},
   "source": [
    "### Cumulative Distributive Function (CDF): \n",
    "$\n",
    "F(x|a,b) = \\begin{cases} \n",
    "             0 & \\text{for } x < a \\\\\n",
    "             \\frac{x-a}{b-a} & \\text{for } a \\leq x \\leq b \\\\\n",
    "             1 & \\text{for } x > b\n",
    "           \\end{cases}\n",
    "$"
   ]
  },
  {
   "cell_type": "code",
   "execution_count": null,
   "id": "fd1eca51",
   "metadata": {},
   "outputs": [],
   "source": [
    " "
   ]
  },
  {
   "cell_type": "markdown",
   "id": "fa429a4d",
   "metadata": {},
   "source": [
    "## Exponential Distribution"
   ]
  },
  {
   "cell_type": "markdown",
   "id": "b56939f9",
   "metadata": {},
   "source": [
    "### Probability Density Function (PDF):\n",
    "\n",
    "$ f(x|\\lambda) = \\lambda e^{-\\lambda x} \\quad \\text{for } x \\geq 0 $"
   ]
  },
  {
   "cell_type": "code",
   "execution_count": null,
   "id": "ca649226",
   "metadata": {},
   "outputs": [],
   "source": [
    " "
   ]
  },
  {
   "cell_type": "markdown",
   "id": "7e7fe7c6",
   "metadata": {},
   "source": [
    "### Cumulative Distributive Function (CDF):\n",
    "\n",
    "$F(x|\\lambda) = 1 - e^{-\\lambda x} \\quad \\text{for } x \\geq 0 $"
   ]
  },
  {
   "cell_type": "code",
   "execution_count": null,
   "id": "67a81346",
   "metadata": {},
   "outputs": [],
   "source": [
    " "
   ]
  },
  {
   "cell_type": "markdown",
   "id": "418f6dc5",
   "metadata": {},
   "source": [
    "## Poisson Distribution"
   ]
  },
  {
   "cell_type": "markdown",
   "id": "076a52d6",
   "metadata": {},
   "source": [
    "### Probability Density Function (PDF):\n",
    "\n",
    "$ P(X=k|\\lambda) = \\frac{e^{-\\lambda}\\lambda^k}{k!} \\quad \\text{for } k = 0, 1, 2, \\ldots $"
   ]
  },
  {
   "cell_type": "code",
   "execution_count": null,
   "id": "85744050",
   "metadata": {},
   "outputs": [],
   "source": [
    " "
   ]
  },
  {
   "cell_type": "markdown",
   "id": "c1adfa8d",
   "metadata": {},
   "source": [
    "### Cumulative Distributive Function (CDF):\n",
    "\n",
    "$ F(X=k|\\lambda) = \\sum_{i=0}^{k} \\frac{e^{-\\lambda}\\lambda^i}{i!} \\quad \\text{for } k = 0, 1, 2, \\ldots $"
   ]
  },
  {
   "cell_type": "code",
   "execution_count": null,
   "id": "11633c0e",
   "metadata": {},
   "outputs": [],
   "source": [
    " "
   ]
  },
  {
   "cell_type": "markdown",
   "id": "13d69281",
   "metadata": {},
   "source": [
    "## Binomial Distribution"
   ]
  },
  {
   "cell_type": "markdown",
   "id": "3d54a62b",
   "metadata": {},
   "source": [
    "### Probability Density Function (PDF):\n",
    "$ P(X=k|n,p) = \\binom{n}{k} p^k (1-p)^{n-k} \\quad \\text{for } k = 0, 1, 2, \\ldots, n $"
   ]
  },
  {
   "cell_type": "code",
   "execution_count": null,
   "id": "3954ba70",
   "metadata": {},
   "outputs": [],
   "source": [
    " "
   ]
  },
  {
   "cell_type": "markdown",
   "id": "59d03ebb",
   "metadata": {},
   "source": [
    "### Cumulative Distributive Function (CDF):\n",
    "$ F(X=k|n,p) = \\sum_{i=0}^{k} \\binom{n}{i} p^i (1-p)^{n-i} \\quad \\text{for } k = 0, 1, 2, \\ldots, n $"
   ]
  },
  {
   "cell_type": "code",
   "execution_count": null,
   "id": "ae6b038e",
   "metadata": {},
   "outputs": [],
   "source": [
    " "
   ]
  },
  {
   "cell_type": "code",
   "execution_count": null,
   "id": "e6f86af6",
   "metadata": {},
   "outputs": [],
   "source": []
  }
 ],
 "metadata": {
  "kernelspec": {
   "display_name": "Python 3 (ipykernel)",
   "language": "python",
   "name": "python3"
  },
  "language_info": {
   "codemirror_mode": {
    "name": "ipython",
    "version": 3
   },
   "file_extension": ".py",
   "mimetype": "text/x-python",
   "name": "python",
   "nbconvert_exporter": "python",
   "pygments_lexer": "ipython3",
   "version": "3.9.13"
  }
 },
 "nbformat": 4,
 "nbformat_minor": 5
}
