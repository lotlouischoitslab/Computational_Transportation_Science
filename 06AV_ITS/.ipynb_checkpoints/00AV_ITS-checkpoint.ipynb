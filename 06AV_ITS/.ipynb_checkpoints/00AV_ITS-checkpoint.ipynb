{
 "cells": [
  {
   "cell_type": "code",
   "execution_count": 1,
   "id": "8a371fb7",
   "metadata": {},
   "outputs": [],
   "source": [
    "import numpy as np\n",
    "import pandas as pd"
   ]
  },
  {
   "cell_type": "markdown",
   "id": "2518bc68",
   "metadata": {},
   "source": [
    "## Autonomous Vehicles and Intelligent Transportation Systems (ITS)"
   ]
  },
  {
   "cell_type": "markdown",
   "id": "39ca0b4e",
   "metadata": {},
   "source": [
    "### Path Optimization Problems"
   ]
  },
  {
   "cell_type": "code",
   "execution_count": null,
   "id": "cdcab89d",
   "metadata": {},
   "outputs": [],
   "source": []
  }
 ],
 "metadata": {
  "kernelspec": {
   "display_name": "Python 3 (ipykernel)",
   "language": "python",
   "name": "python3"
  },
  "language_info": {
   "codemirror_mode": {
    "name": "ipython",
    "version": 3
   },
   "file_extension": ".py",
   "mimetype": "text/x-python",
   "name": "python",
   "nbconvert_exporter": "python",
   "pygments_lexer": "ipython3",
   "version": "3.9.13"
  }
 },
 "nbformat": 4,
 "nbformat_minor": 5
}
