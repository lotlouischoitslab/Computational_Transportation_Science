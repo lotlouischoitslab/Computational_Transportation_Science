{
 "cells": [
  {
   "cell_type": "code",
   "execution_count": 1,
   "id": "b978ff67",
   "metadata": {},
   "outputs": [],
   "source": [
    "import numpy as np\n",
    "import pandas as pd\n",
    "import matplotlib.pyplot as plt\n",
    "%matplotlib inline"
   ]
  },
  {
   "cell_type": "markdown",
   "id": "e95810a0",
   "metadata": {},
   "source": [
    "### Fundamental Diagrams\n",
    "\n",
    "There are 3 fundamental diagrams transportation engineers must know"
   ]
  },
  {
   "cell_type": "markdown",
   "id": "aab5efc8",
   "metadata": {},
   "source": [
    "### Greenshields Model\n",
    "\n",
    "$$v(k) = v_f(1-\\frac{k}{k_j})$$"
   ]
  },
  {
   "cell_type": "markdown",
   "id": "3e0f2ba2",
   "metadata": {},
   "source": []
  }
 ],
 "metadata": {
  "kernelspec": {
   "display_name": "Python 3 (ipykernel)",
   "language": "python",
   "name": "python3"
  },
  "language_info": {
   "codemirror_mode": {
    "name": "ipython",
    "version": 3
   },
   "file_extension": ".py",
   "mimetype": "text/x-python",
   "name": "python",
   "nbconvert_exporter": "python",
   "pygments_lexer": "ipython3",
   "version": "3.9.13"
  }
 },
 "nbformat": 4,
 "nbformat_minor": 5
}
