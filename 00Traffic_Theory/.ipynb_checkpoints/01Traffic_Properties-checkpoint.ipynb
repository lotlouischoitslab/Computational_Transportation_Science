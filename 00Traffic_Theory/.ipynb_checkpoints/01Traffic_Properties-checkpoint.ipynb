{
 "cells": [
  {
   "cell_type": "code",
   "execution_count": 1,
   "id": "a9010591",
   "metadata": {},
   "outputs": [],
   "source": [
    "import numpy as np\n",
    "import pandas as pd\n",
    "import matplotlib.pyplot as plt\n",
    "%matplotlib inline"
   ]
  },
  {
   "cell_type": "markdown",
   "id": "3ee3e9ab",
   "metadata": {},
   "source": [
    "# Traffic Properties"
   ]
  },
  {
   "cell_type": "markdown",
   "id": "68a8ede2",
   "metadata": {},
   "source": [
    "### Macroscopic Traffic Properties\n",
    "\n",
    "Density (k): Number of vehicles per length </br>\n",
    "Flow (q): Traffic flow measured in vehicles per hour </br>\n",
    "Mean Speed (v): Speed of the vehicle measured in km per hour"
   ]
  },
  {
   "cell_type": "markdown",
   "id": "83ec1fe3",
   "metadata": {},
   "source": [
    "### Microscopic Traffic Properties\n",
    "\n",
    "Headway (h): is the time between two vehicles passing a point </br>\n",
    "Spacing (s): is the space between two vehicles measured front to front </br>\n",
    "Speed (v): is the slope of the distance time trajectory"
   ]
  },
  {
   "cell_type": "markdown",
   "id": "d5ba2e2d",
   "metadata": {},
   "source": [
    "### Mesoscopic Traffic Modeling\n",
    "Measuring traffic models describe traffic flow in probabilistic distribtutions and come in handy for traffic simulation using Carla Simulator or PTV Vissim."
   ]
  },
  {
   "cell_type": "markdown",
   "id": "865abff6",
   "metadata": {},
   "source": [
    "### Traffic Flow Theory\n",
    "\n",
    "$$q = k\\overline{v_s}$$\n",
    "\n",
    "where q is the traffic flow measured in vehicles per hour, k is the traffic density measured in vehicles per kilometer and vs which is the average space-mean speed measured in kilometers per hour."
   ]
  },
  {
   "cell_type": "markdown",
   "id": "40f00a91",
   "metadata": {},
   "source": [
    "### Headway\n",
    "\n",
    "$$\\overline{h} = \\frac{1}{N} \\sum_{i=0}^{N} h_i$$"
   ]
  },
  {
   "cell_type": "markdown",
   "id": "72cdf2d9",
   "metadata": {},
   "source": [
    "We can then rewrite the traffic flow theory formula as\n",
    "$$q = \\frac{1}{\\overline{h}}$$"
   ]
  },
  {
   "cell_type": "markdown",
   "id": "f07a3f2d",
   "metadata": {},
   "source": [
    "### Spacing\n",
    "$$s = \\frac{1}{\\overline{k}}$$"
   ]
  },
  {
   "cell_type": "markdown",
   "id": "7ebe115e",
   "metadata": {},
   "source": [
    "Stationary Observer: Number of vehicles measured by a period of time at one fixed location </br>\n",
    "Overhead Observer: Number of vehicles measured by a period of given length"
   ]
  },
  {
   "cell_type": "markdown",
   "id": "b8ff485f",
   "metadata": {},
   "source": [
    "### Time-mean Speed\n",
    "\n",
    "$$\\overline{v_t} = \\frac{1}{N} \\sum_{i=1}^{N}v_i$$\n",
    "\n",
    "where N is the number of vehicles counted by the stationary observer"
   ]
  },
  {
   "cell_type": "markdown",
   "id": "0b58dd36",
   "metadata": {},
   "source": [
    "$$\\overline{v_t}=\\frac{\\sum_{i=1}^N q_iv_i}{\\sum_{i=1}^Nq_i}$$"
   ]
  },
  {
   "cell_type": "markdown",
   "id": "68e21045",
   "metadata": {},
   "source": [
    "### Space-mean Speed\n",
    "\n",
    "$$\\overline{v_s} = \\frac{1}{M} \\sum_{i=1}^{M} v_j$$\n",
    "where M is the number of vehicles counted by an overhead observer\n",
    "\n",
    "$$\\overline{v_s} = \\frac{N}{\\sum_{i=1}^N\\frac{1}{v_i}} \\\\$$\n",
    "$$or$$\n",
    "\n",
    "$$\\overline{v_s} = \\frac{\\sum_{i=1}^N q_i}{\\sum_{i=1}^N k_i} $$"
   ]
  },
  {
   "cell_type": "markdown",
   "id": "9f0f5278",
   "metadata": {},
   "source": [
    "# IMPORTANT!\n",
    "\n",
    "#### Time-Mean Speed is ALWAYS greater or equal to Space-Mean Speed!\n",
    "\n",
    "$$v_t \\geq v_s$$"
   ]
  },
  {
   "cell_type": "markdown",
   "id": "9b1b2daa",
   "metadata": {},
   "source": [
    "### But why? Well let's take a look at this relation!"
   ]
  },
  {
   "cell_type": "markdown",
   "id": "65eb00c5",
   "metadata": {},
   "source": [
    "$$v_t = v_s + \\frac{\\sigma^2}{v_s}$$"
   ]
  },
  {
   "cell_type": "markdown",
   "id": "029d94e9",
   "metadata": {},
   "source": [
    "$$v_s = v_t - \\frac{\\sigma^2}{v_t}$$"
   ]
  },
  {
   "cell_type": "markdown",
   "id": "ab0ee26d",
   "metadata": {},
   "source": [
    "where vt is the time-mean speed and vs is the space-mean speed, sigma is the standard deviation of vi"
   ]
  },
  {
   "cell_type": "markdown",
   "id": "45459e33",
   "metadata": {},
   "source": [
    "As seen above, the sigma for the time-mean speed cannot be negative so vt is always greater or equal to vs."
   ]
  },
  {
   "cell_type": "markdown",
   "id": "69a803e9",
   "metadata": {},
   "source": [
    "## Traffic Capacity Analysis Example"
   ]
  },
  {
   "cell_type": "code",
   "execution_count": 2,
   "id": "7df8d210",
   "metadata": {},
   "outputs": [
    {
     "data": {
      "text/html": [
       "<div>\n",
       "<style scoped>\n",
       "    .dataframe tbody tr th:only-of-type {\n",
       "        vertical-align: middle;\n",
       "    }\n",
       "\n",
       "    .dataframe tbody tr th {\n",
       "        vertical-align: top;\n",
       "    }\n",
       "\n",
       "    .dataframe thead th {\n",
       "        text-align: right;\n",
       "    }\n",
       "</style>\n",
       "<table border=\"1\" class=\"dataframe\">\n",
       "  <thead>\n",
       "    <tr style=\"text-align: right;\">\n",
       "      <th></th>\n",
       "      <th>Speed in km/hr</th>\n",
       "    </tr>\n",
       "    <tr>\n",
       "      <th>Vehicle Number</th>\n",
       "      <th></th>\n",
       "    </tr>\n",
       "  </thead>\n",
       "  <tbody>\n",
       "    <tr>\n",
       "      <th>1</th>\n",
       "      <td>90</td>\n",
       "    </tr>\n",
       "    <tr>\n",
       "      <th>2</th>\n",
       "      <td>55</td>\n",
       "    </tr>\n",
       "    <tr>\n",
       "      <th>3</th>\n",
       "      <td>110</td>\n",
       "    </tr>\n",
       "    <tr>\n",
       "      <th>4</th>\n",
       "      <td>95</td>\n",
       "    </tr>\n",
       "    <tr>\n",
       "      <th>5</th>\n",
       "      <td>70</td>\n",
       "    </tr>\n",
       "    <tr>\n",
       "      <th>6</th>\n",
       "      <td>80</td>\n",
       "    </tr>\n",
       "    <tr>\n",
       "      <th>7</th>\n",
       "      <td>96</td>\n",
       "    </tr>\n",
       "    <tr>\n",
       "      <th>8</th>\n",
       "      <td>80</td>\n",
       "    </tr>\n",
       "    <tr>\n",
       "      <th>9</th>\n",
       "      <td>65</td>\n",
       "    </tr>\n",
       "    <tr>\n",
       "      <th>10</th>\n",
       "      <td>50</td>\n",
       "    </tr>\n",
       "  </tbody>\n",
       "</table>\n",
       "</div>"
      ],
      "text/plain": [
       "                Speed in km/hr\n",
       "Vehicle Number                \n",
       "1                           90\n",
       "2                           55\n",
       "3                          110\n",
       "4                           95\n",
       "5                           70\n",
       "6                           80\n",
       "7                           96\n",
       "8                           80\n",
       "9                           65\n",
       "10                          50"
      ]
     },
     "execution_count": 2,
     "metadata": {},
     "output_type": "execute_result"
    }
   ],
   "source": [
    "d = {\n",
    "    'Vehicle Number':[i for i in range(1,11)],\n",
    "    'Speed in km/hr':[90,55,110,95,70,80,96,80,65,50]\n",
    "}\n",
    "\n",
    "data = pd.DataFrame(d)\n",
    "data = data.set_index('Vehicle Number')\n",
    "data"
   ]
  },
  {
   "cell_type": "markdown",
   "id": "48259b98",
   "metadata": {},
   "source": [
    "The table above is showing the speed of all 10 cars observed by Louis at a toll gate. Louis a stationary observer who has also recorded the traffic data in 30 second period. Calculate the time-mean speed, space-mean speed, flow rate and the density of the vehicles passing the toll gate."
   ]
  },
  {
   "cell_type": "code",
   "execution_count": 3,
   "id": "386c40e0",
   "metadata": {},
   "outputs": [
    {
     "name": "stdout",
     "output_type": "stream",
     "text": [
      "Time-mean speed in km/hr is 79.1\n"
     ]
    }
   ],
   "source": [
    "#Time-mean speed:\n",
    "vt = np.mean(data['Speed in km/hr'])\n",
    "print('Time-mean speed in km/hr is',vt)"
   ]
  },
  {
   "cell_type": "code",
   "execution_count": 4,
   "id": "55639966",
   "metadata": {},
   "outputs": [
    {
     "name": "stdout",
     "output_type": "stream",
     "text": [
      "Space-mean speed in km/hr is 74.6\n"
     ]
    }
   ],
   "source": [
    "#Space-mean speed:\n",
    "N = len(data['Speed in km/hr'])\n",
    "vs = round(N/np.sum(1/data['Speed in km/hr']),1)\n",
    "print('Space-mean speed in km/hr is',vs)"
   ]
  },
  {
   "cell_type": "code",
   "execution_count": 5,
   "id": "a706f3df",
   "metadata": {},
   "outputs": [],
   "source": [
    "#function to convert time from seconds to hours\n",
    "def converter(sec):\n",
    "    return sec/3600"
   ]
  },
  {
   "cell_type": "code",
   "execution_count": 6,
   "id": "0eb723e0",
   "metadata": {},
   "outputs": [
    {
     "name": "stdout",
     "output_type": "stream",
     "text": [
      "Flow rate in vehicles per hour is 120.0\n"
     ]
    }
   ],
   "source": [
    "#Flow rate:\n",
    "headway = 30 #seconds\n",
    "converted = converter(headway)\n",
    "q = 1/converted\n",
    "print('Flow rate in vehicles per hour is',q)"
   ]
  },
  {
   "cell_type": "code",
   "execution_count": 7,
   "id": "57c5b7a8",
   "metadata": {},
   "outputs": [
    {
     "name": "stdout",
     "output_type": "stream",
     "text": [
      "Density in vehicles per kilometer is 1.61\n"
     ]
    }
   ],
   "source": [
    "#Density\n",
    "#We know have the values for q and vs, so we can compute the density easily\n",
    "k = q/vs\n",
    "print('Density in vehicles per kilometer is',round(k,2))"
   ]
  },
  {
   "cell_type": "markdown",
   "id": "1b3cf8ca",
   "metadata": {},
   "source": [
    "Now let's say that Louis has decided to deploy a bunch of autonomous trucks on the road. Louis has set each truck's speed to be 100 kilometers per hour and set a density of 10 vehicles per kilometers for these trucks. Find the new flow and space mean speed of the road."
   ]
  },
  {
   "cell_type": "code",
   "execution_count": 8,
   "id": "9ec148c5",
   "metadata": {},
   "outputs": [
    {
     "name": "stdout",
     "output_type": "stream",
     "text": [
      "Total flow in vehicles per hour is 1120.0\n"
     ]
    }
   ],
   "source": [
    "#We first compute the macroscopic properties of the truck\n",
    "vtruck = 100\n",
    "ktruck = 10\n",
    "qtruck = ktruck*vtruck\n",
    "\n",
    "#Add to the qcar we have\n",
    "qcar = q\n",
    "qtot = qcar+qtruck\n",
    "print('Total flow in vehicles per hour is',qtot)"
   ]
  },
  {
   "cell_type": "code",
   "execution_count": 9,
   "id": "91f7763c",
   "metadata": {},
   "outputs": [
    {
     "name": "stdout",
     "output_type": "stream",
     "text": [
      "Total space-mean speed in kilometes per hour is 96.48\n"
     ]
    }
   ],
   "source": [
    "#Total space-mean speed\n",
    "kcar = k\n",
    "ktot = kcar+ktruck\n",
    "vstotal = qtot/ktot\n",
    "print('Total space-mean speed in kilometes per hour is',round(vstotal,2))"
   ]
  },
  {
   "cell_type": "code",
   "execution_count": null,
   "id": "a5bd8797",
   "metadata": {},
   "outputs": [],
   "source": []
  }
 ],
 "metadata": {
  "kernelspec": {
   "display_name": "Python 3 (ipykernel)",
   "language": "python",
   "name": "python3"
  },
  "language_info": {
   "codemirror_mode": {
    "name": "ipython",
    "version": 3
   },
   "file_extension": ".py",
   "mimetype": "text/x-python",
   "name": "python",
   "nbconvert_exporter": "python",
   "pygments_lexer": "ipython3",
   "version": "3.9.13"
  }
 },
 "nbformat": 4,
 "nbformat_minor": 5
}
