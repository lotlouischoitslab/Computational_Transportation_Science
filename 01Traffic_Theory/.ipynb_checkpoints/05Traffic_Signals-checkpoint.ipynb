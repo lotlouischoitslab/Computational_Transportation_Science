{
 "cells": [
  {
   "cell_type": "code",
   "execution_count": 1,
   "id": "85eaece0",
   "metadata": {},
   "outputs": [],
   "source": [
    "import numpy as np\n",
    "import pandas as pd\n",
    "import matplotlib.pyplot as plt\n",
    "%matplotlib inline"
   ]
  },
  {
   "cell_type": "markdown",
   "id": "6ee40bc0",
   "metadata": {},
   "source": [
    "# Traffic Signals"
   ]
  },
  {
   "cell_type": "markdown",
   "id": "b5f53f4a",
   "metadata": {},
   "source": [
    "**Lee Mujin Traffic Light Song (이무진 신호등): https://www.youtube.com/watch?v=SK6Sm2Ki9tI**"
   ]
  },
  {
   "cell_type": "markdown",
   "id": "26900e76",
   "metadata": {},
   "source": [
    "- Indication: Illumination of one or more signal colors (green, yellow,red) \n",
    "- Cycle: One complete sequence (green->yellow->red)"
   ]
  },
  {
   "cell_type": "code",
   "execution_count": null,
   "id": "c9e8e794",
   "metadata": {},
   "outputs": [],
   "source": []
  }
 ],
 "metadata": {
  "kernelspec": {
   "display_name": "Python 3 (ipykernel)",
   "language": "python",
   "name": "python3"
  },
  "language_info": {
   "codemirror_mode": {
    "name": "ipython",
    "version": 3
   },
   "file_extension": ".py",
   "mimetype": "text/x-python",
   "name": "python",
   "nbconvert_exporter": "python",
   "pygments_lexer": "ipython3",
   "version": "3.9.13"
  }
 },
 "nbformat": 4,
 "nbformat_minor": 5
}
