{
 "cells": [
  {
   "cell_type": "code",
   "execution_count": 2,
   "id": "6a312089",
   "metadata": {},
   "outputs": [],
   "source": [
    "import numpy as np\n",
    "import pandas as pd\n",
    "import matplotlib.pyplot as plt\n",
    "%matplotlib inline"
   ]
  },
  {
   "cell_type": "markdown",
   "id": "7989b29e",
   "metadata": {},
   "source": [
    "# Traffic Signals"
   ]
  },
  {
   "cell_type": "markdown",
   "id": "45fd383f",
   "metadata": {},
   "source": [
    "![title](korean_traffic_light.png)"
   ]
  },
  {
   "cell_type": "markdown",
   "id": "165413b1",
   "metadata": {},
   "source": [
    "![title](smart_traffic_light.png)"
   ]
  },
  {
   "cell_type": "markdown",
   "id": "6deb39fd",
   "metadata": {},
   "source": [
    "**Traffic Light Song by Lee Mujin (이무진 신호등): https://www.youtube.com/watch?v=SK6Sm2Ki9tI**"
   ]
  },
  {
   "cell_type": "markdown",
   "id": "7300ac5a",
   "metadata": {},
   "source": [
    "- Indication: Illumination of one or more signal colors (green, yellow,red) \n",
    "- Cycle: One complete sequence (green->yellow->red)\n",
    "- Cycle Length: C, time to complete one cycle\n",
    "- Green time: G, time with green indication\n",
    "- Yellow time: Y, time with yellow indication\n",
    "- Red time: R, time with red indication\n",
    "- All-red time aka Clearance Interval: Time when all directional approaches have red indication"
   ]
  },
  {
   "cell_type": "markdown",
   "id": "fcd47403",
   "metadata": {},
   "source": [
    "**Loss Time $$t_L = t_{cl} + t_{sl}$$**"
   ]
  },
  {
   "cell_type": "markdown",
   "id": "780f4a4c",
   "metadata": {},
   "source": [
    "**$t_{sl}$ : Startup lost time. Time between when light turns green and then when vehicles start moving**"
   ]
  },
  {
   "cell_type": "markdown",
   "id": "d4f79b1d",
   "metadata": {},
   "source": [
    "**$t_{cl}$ : Clearance lost time. Lost time at the end of cycle including the ALL-RED time!**"
   ]
  },
  {
   "cell_type": "markdown",
   "id": "ece9c17c",
   "metadata": {},
   "source": [
    "**Signal Capacity\n",
    "$$c = s \\frac{g}{C}$$**"
   ]
  },
  {
   "cell_type": "markdown",
   "id": "a41f283d",
   "metadata": {},
   "source": [
    "- g: Effective Green Time\n",
    "- r: Effective Red Time\n",
    "- Signal Capacity c: Maximum hourly volume that can pass through intersection\n",
    "- Staturation Flow s"
   ]
  },
  {
   "cell_type": "markdown",
   "id": "d5b772a6",
   "metadata": {},
   "source": [
    "$$ s= \\frac{3600}{h}$$"
   ]
  },
  {
   "cell_type": "markdown",
   "id": "7d5723f7",
   "metadata": {},
   "source": [
    "- If h is the saturation headway measured in seconds per vehicle, we would use the formula above"
   ]
  },
  {
   "cell_type": "markdown",
   "id": "e51b0177",
   "metadata": {},
   "source": [
    "# Traffic Signal Example"
   ]
  },
  {
   "cell_type": "markdown",
   "id": "038fbd9c",
   "metadata": {},
   "source": [
    "Louis, the RSO president of ITE@UIUC has decided to go to Sidney Lu Mechanical Engineering Building and measure the northbound and southbound traffic. Louis has determined that the arrival rate is 1800 vehicles per hour and the discharge rate is 3600 vehicles per hour. He has assigned his friends in ITE@UIUC to do the following analysis:"
   ]
  },
  {
   "cell_type": "markdown",
   "id": "0f6be0f8",
   "metadata": {},
   "source": [
    "If the effective red time is 50 seconds, what is the minimum effective time g such that there will not be queues carried over to the next signal cycle?"
   ]
  },
  {
   "cell_type": "code",
   "execution_count": 9,
   "id": "debafca9",
   "metadata": {},
   "outputs": [],
   "source": [
    "#We need to first convert 1800 vehicles per hour and 3600 vehicles per hour.\n",
    "#They need to have the time measurement in seconds \n",
    "\n",
    "def converter(rate):\n",
    "    answer = rate/3600\n",
    "    return answer"
   ]
  },
  {
   "cell_type": "code",
   "execution_count": 10,
   "id": "41ec6eb2",
   "metadata": {},
   "outputs": [
    {
     "name": "stdout",
     "output_type": "stream",
     "text": [
      "Arrival Rate: 0.5 veh/sec\n",
      "Departure Rate: 1.0 veh/sec\n"
     ]
    }
   ],
   "source": [
    "arrival = converter(1800)\n",
    "departure = converter(3600)\n",
    "print('Arrival Rate:',arrival,'veh/sec')\n",
    "print('Departure Rate:',departure,'veh/sec')"
   ]
  },
  {
   "cell_type": "code",
   "execution_count": 11,
   "id": "822358d1",
   "metadata": {},
   "outputs": [],
   "source": [
    "#Departure won't happen until 50 seconds later\n",
    "#we know that A(t) = 0.5t\n",
    "#we know that D(t) = t\n",
    "#but we are not done yet. Arrival will accumulate but departure won't for 50 seconds\n",
    "#What do we do?\n",
    "#A(t) = 0.5t <- this remains\n",
    "#D(t) = (t-50) we are going to shift D(t) 50 seconds to the right let's see the data plot!"
   ]
  },
  {
   "cell_type": "code",
   "execution_count": 32,
   "id": "92b81423",
   "metadata": {},
   "outputs": [
    {
     "ename": "AttributeError",
     "evalue": "'numpy.ndarray' object has no attribute 'idx'",
     "output_type": "error",
     "traceback": [
      "\u001b[1;31m---------------------------------------------------------------------------\u001b[0m",
      "\u001b[1;31mAttributeError\u001b[0m                            Traceback (most recent call last)",
      "\u001b[1;32m~\\AppData\\Local\\Temp\\ipykernel_31300\\3825947443.py\u001b[0m in \u001b[0;36m<module>\u001b[1;34m\u001b[0m\n\u001b[0;32m      9\u001b[0m \u001b[0mplt\u001b[0m\u001b[1;33m.\u001b[0m\u001b[0mplot\u001b[0m\u001b[1;33m(\u001b[0m\u001b[0mtimes\u001b[0m\u001b[1;33m,\u001b[0m\u001b[0ma\u001b[0m\u001b[1;33m,\u001b[0m\u001b[0mlabel\u001b[0m\u001b[1;33m=\u001b[0m\u001b[1;34m'Arrival'\u001b[0m\u001b[1;33m,\u001b[0m\u001b[0mcolor\u001b[0m\u001b[1;33m=\u001b[0m\u001b[1;34m'red'\u001b[0m\u001b[1;33m)\u001b[0m\u001b[1;33m\u001b[0m\u001b[1;33m\u001b[0m\u001b[0m\n\u001b[0;32m     10\u001b[0m \u001b[0mplt\u001b[0m\u001b[1;33m.\u001b[0m\u001b[0mplot\u001b[0m\u001b[1;33m(\u001b[0m\u001b[0mtimes\u001b[0m\u001b[1;33m,\u001b[0m\u001b[0md\u001b[0m\u001b[1;33m,\u001b[0m\u001b[0mlabel\u001b[0m\u001b[1;33m=\u001b[0m\u001b[1;34m'Departure'\u001b[0m\u001b[1;33m,\u001b[0m\u001b[0mcolor\u001b[0m\u001b[1;33m=\u001b[0m\u001b[1;34m'green'\u001b[0m\u001b[1;33m)\u001b[0m\u001b[1;33m\u001b[0m\u001b[1;33m\u001b[0m\u001b[0m\n\u001b[1;32m---> 11\u001b[1;33m \u001b[0md_stop\u001b[0m \u001b[1;33m=\u001b[0m \u001b[1;33m[\u001b[0m\u001b[1;36m0\u001b[0m \u001b[1;32mfor\u001b[0m \u001b[0mi\u001b[0m \u001b[1;32min\u001b[0m \u001b[0mrange\u001b[0m\u001b[1;33m(\u001b[0m\u001b[0mtimes\u001b[0m\u001b[1;33m.\u001b[0m\u001b[0midx\u001b[0m\u001b[1;33m(\u001b[0m\u001b[0meffective_red_time\u001b[0m\u001b[1;33m)\u001b[0m\u001b[1;33m)\u001b[0m\u001b[1;33m]\u001b[0m\u001b[1;33m\u001b[0m\u001b[1;33m\u001b[0m\u001b[0m\n\u001b[0m\u001b[0;32m     12\u001b[0m \u001b[0mplt\u001b[0m\u001b[1;33m.\u001b[0m\u001b[0mplot\u001b[0m\u001b[1;33m(\u001b[0m\u001b[0mtimes\u001b[0m\u001b[1;33m[\u001b[0m\u001b[1;33m:\u001b[0m\u001b[0mlen\u001b[0m\u001b[1;33m(\u001b[0m\u001b[0md_stop\u001b[0m\u001b[1;33m)\u001b[0m\u001b[1;33m]\u001b[0m\u001b[1;33m,\u001b[0m\u001b[0md_stop\u001b[0m\u001b[1;33m,\u001b[0m\u001b[0mcolor\u001b[0m\u001b[1;33m=\u001b[0m\u001b[1;34m'green'\u001b[0m\u001b[1;33m)\u001b[0m\u001b[1;33m\u001b[0m\u001b[1;33m\u001b[0m\u001b[0m\n\u001b[0;32m     13\u001b[0m \u001b[1;33m\u001b[0m\u001b[0m\n",
      "\u001b[1;31mAttributeError\u001b[0m: 'numpy.ndarray' object has no attribute 'idx'"
     ]
    },
    {
     "data": {
      "image/png": "[encoded data removed]",
      "text/plain": [
       "<Figure size 640x480 with 1 Axes>"
      ]
     },
     "metadata": {},
     "output_type": "display_data"
    }
   ],
   "source": [
    "effective_red_time = 50 #effective red time is 50 seconds\n",
    "times = np.linspace(0,100)\n",
    "a = arrival*times\n",
    "d = departure*(times-effective_red_time)\n",
    "\n",
    "plt.title('Arrival vs Departure')\n",
    "plt.xlabel('Time in seconds')\n",
    "plt.ylabel('Vehicles')\n",
    "plt.plot(times,a,label='Arrival',color='red')\n",
    "plt.plot(times,d,label='Departure',color='green')\n",
    "d_stop = [0 for i in range(indeffective_red_time))]\n",
    "plt.plot(times[:len(d_stop)],d_stop,color='green')\n",
    "\n",
    "plt.gca().set_ylim(bottom=0)\n",
    "plt.legend()"
   ]
  },
  {
   "cell_type": "code",
   "execution_count": 27,
   "id": "bd6fcdd0",
   "metadata": {},
   "outputs": [
    {
     "data": {
      "text/plain": [
       "25"
      ]
     },
     "execution_count": 27,
     "metadata": {},
     "output_type": "execute_result"
    }
   ],
   "source": [
    "len(times)//2"
   ]
  },
  {
   "cell_type": "code",
   "execution_count": 6,
   "id": "af517694",
   "metadata": {},
   "outputs": [],
   "source": [
    "from sympy import *\n",
    "t = symbols('t')\n",
    "eq1 = arrival*t\n",
    "eq2 = departure*(t-effective_red_time)"
   ]
  },
  {
   "cell_type": "code",
   "execution_count": 7,
   "id": "da2e3f1b",
   "metadata": {},
   "outputs": [
    {
     "data": {
      "text/latex": [
       "$\\displaystyle 0.5 t$"
      ],
      "text/plain": [
       "0.5*t"
      ]
     },
     "execution_count": 7,
     "metadata": {},
     "output_type": "execute_result"
    }
   ],
   "source": [
    "eq1 #arrival rate"
   ]
  },
  {
   "cell_type": "code",
   "execution_count": 8,
   "id": "b2ea4a5b",
   "metadata": {},
   "outputs": [
    {
     "data": {
      "text/latex": [
       "$\\displaystyle 1.0 t - 50.0$"
      ],
      "text/plain": [
       "1.0*t - 50.0"
      ]
     },
     "execution_count": 8,
     "metadata": {},
     "output_type": "execute_result"
    }
   ],
   "source": [
    "eq2 #departure rate"
   ]
  },
  {
   "cell_type": "markdown",
   "id": "5d3646cd",
   "metadata": {},
   "source": [
    "**Now what is the minimum effective green time?\n",
    "First we need to solve where the two lines intersect**"
   ]
  },
  {
   "cell_type": "markdown",
   "id": "17006e78",
   "metadata": {},
   "source": [
    "**Let's set up the equation!\n",
    "$$A(t) = D(t)$$**\n",
    "$$0.5t = 1.0t - 50$$\n",
    "$$0.5t = 50$$\n",
    "$$t = 100$$"
   ]
  },
  {
   "cell_type": "code",
   "execution_count": 9,
   "id": "33167f12",
   "metadata": {},
   "outputs": [
    {
     "name": "stdout",
     "output_type": "stream",
     "text": [
      "Queue dissipates at 100.000000000000 seconds.\n",
      "Minimum Effective Green Time is 50.0000000000000 seconds.\n"
     ]
    }
   ],
   "source": [
    "answer = solve(eq1-eq2,t)\n",
    "print('Queue dissipates at',answer[0],'seconds.')\n",
    "\n",
    "ttotal = answer[0]\n",
    "min_eff_green = ttotal-effective_red_time\n",
    "print('Minimum Effective Green Time is',min_eff_green,'seconds.')"
   ]
  },
  {
   "cell_type": "markdown",
   "id": "00b33276",
   "metadata": {},
   "source": [
    "**Total Delay?**"
   ]
  },
  {
   "cell_type": "markdown",
   "id": "7acb6490",
   "metadata": {},
   "source": [
    "We need to just simply find the area under the curve"
   ]
  },
  {
   "cell_type": "code",
   "execution_count": 10,
   "id": "df1c184e",
   "metadata": {},
   "outputs": [],
   "source": [
    "from sklearn.metrics import auc"
   ]
  },
  {
   "cell_type": "code",
   "execution_count": 33,
   "id": "fc60de9b",
   "metadata": {},
   "outputs": [
    {
     "data": {
      "text/plain": [
       "2500.0"
      ]
     },
     "execution_count": 33,
     "metadata": {},
     "output_type": "execute_result"
    }
   ],
   "source": [
    "arrival_area = auc(times,a)\n",
    "arrival_area"
   ]
  },
  {
   "cell_type": "code",
   "execution_count": 34,
   "id": "eb961aae",
   "metadata": {},
   "outputs": [],
   "source": [
    "depart_result = []\n",
    "counter = 0\n",
    "for i in d:\n",
    "    if i >= 0:\n",
    "        depart_result.append(i)\n",
    "        counter+=1"
   ]
  },
  {
   "cell_type": "code",
   "execution_count": 35,
   "id": "fa86598c",
   "metadata": {},
   "outputs": [
    {
     "data": {
      "text/plain": [
       "1249.4793835901705"
      ]
     },
     "execution_count": 35,
     "metadata": {},
     "output_type": "execute_result"
    }
   ],
   "source": [
    "depart_area = auc(times[counter:],depart_result)\n",
    "depart_area"
   ]
  },
  {
   "cell_type": "code",
   "execution_count": 38,
   "id": "5474500f",
   "metadata": {},
   "outputs": [
    {
     "name": "stdout",
     "output_type": "stream",
     "text": [
      "Total Delay is 1250.52 seconds\n"
     ]
    }
   ],
   "source": [
    "delay = arrival_area-depart_area\n",
    "print('Total Delay is',round(delay,2),'seconds')"
   ]
  },
  {
   "cell_type": "code",
   "execution_count": null,
   "id": "688beffe",
   "metadata": {},
   "outputs": [],
   "source": []
  }
 ],
 "metadata": {
  "kernelspec": {
   "display_name": "Python 3 (ipykernel)",
   "language": "python",
   "name": "python3"
  },
  "language_info": {
   "codemirror_mode": {
    "name": "ipython",
    "version": 3
   },
   "file_extension": ".py",
   "mimetype": "text/x-python",
   "name": "python",
   "nbconvert_exporter": "python",
   "pygments_lexer": "ipython3",
   "version": "3.9.13"
  }
 },
 "nbformat": 4,
 "nbformat_minor": 5
}
