{
 "cells": [
  {
   "cell_type": "markdown",
   "id": "fd45ccc2",
   "metadata": {},
   "source": [
    "# Welcome to Transportation Engineering!\n",
    "# 교통공학에 오신 것을 진심으로 환영합니다!"
   ]
  },
  {
   "cell_type": "markdown",
   "id": "f3613317",
   "metadata": {},
   "source": [
    "![image](images/waymo.png)"
   ]
  },
  {
   "cell_type": "markdown",
   "id": "c5d90cf1",
   "metadata": {},
   "source": [
    "## Waymo's Jaguar Autonomous Car Model"
   ]
  },
  {
   "cell_type": "markdown",
   "id": "1c2b2ce4",
   "metadata": {},
   "source": [
    "![image](images/autonomous_vehicle.png)"
   ]
  },
  {
   "cell_type": "markdown",
   "id": "348f828d",
   "metadata": {},
   "source": [
    "## Optimus Autonomous Vehicle"
   ]
  },
  {
   "cell_type": "markdown",
   "id": "47560032",
   "metadata": {},
   "source": [
    "![images](images/its.png)"
   ]
  },
  {
   "cell_type": "markdown",
   "id": "c140c779",
   "metadata": {},
   "source": [
    "## Intelligent Transportation Systems (ITS)"
   ]
  },
  {
   "cell_type": "markdown",
   "id": "daacc4c7",
   "metadata": {},
   "source": [
    "![images](images/adaptive_traffic.png)"
   ]
  },
  {
   "cell_type": "markdown",
   "id": "fee3458e",
   "metadata": {},
   "source": [
    "## Adaptive Traffic Signal Controllers"
   ]
  },
  {
   "cell_type": "markdown",
   "id": "57b3427d",
   "metadata": {},
   "source": [
    "![images](images/automated_public_transit.png)"
   ]
  },
  {
   "cell_type": "markdown",
   "id": "5bc47db6",
   "metadata": {},
   "source": [
    "## Automated Public Transportation Systems"
   ]
  },
  {
   "cell_type": "markdown",
   "id": "d1f0690a",
   "metadata": {},
   "source": [
    "![images](images/incheon.png)"
   ]
  },
  {
   "cell_type": "markdown",
   "id": "da89ce1e",
   "metadata": {},
   "source": [
    "## Incheon International Airport 인천국제공항"
   ]
  },
  {
   "cell_type": "markdown",
   "id": "c5b96309",
   "metadata": {},
   "source": [
    "![images](images/highway1.png)"
   ]
  },
  {
   "cell_type": "markdown",
   "id": "6457b342",
   "metadata": {},
   "source": [
    "## Highway Network"
   ]
  },
  {
   "cell_type": "markdown",
   "id": "14d2c9df",
   "metadata": {},
   "source": [
    "![images](images/highway3.png)"
   ]
  },
  {
   "cell_type": "markdown",
   "id": "dcf08ec5",
   "metadata": {},
   "source": [
    "## Smart Highway "
   ]
  },
  {
   "cell_type": "markdown",
   "id": "3f906e7d",
   "metadata": {},
   "source": [
    "![image](images/ktx_eum_info.png)"
   ]
  },
  {
   "cell_type": "markdown",
   "id": "a1bd05bf",
   "metadata": {},
   "source": [
    "## KTX-EUM High-Speed Trains"
   ]
  },
  {
   "cell_type": "markdown",
   "id": "4cc6bd5b",
   "metadata": {},
   "source": [
    "![image](images/auto_train.jpeg)"
   ]
  },
  {
   "cell_type": "markdown",
   "id": "1f9dfd2d",
   "metadata": {},
   "source": [
    "## Autonomous Trains"
   ]
  },
  {
   "cell_type": "code",
   "execution_count": null,
   "id": "9fa1b27d",
   "metadata": {},
   "outputs": [],
   "source": []
  }
 ],
 "metadata": {
  "kernelspec": {
   "display_name": "Python 3 (ipykernel)",
   "language": "python",
   "name": "python3"
  },
  "language_info": {
   "codemirror_mode": {
    "name": "ipython",
    "version": 3
   },
   "file_extension": ".py",
   "mimetype": "text/x-python",
   "name": "python",
   "nbconvert_exporter": "python",
   "pygments_lexer": "ipython3",
   "version": "3.9.13"
  }
 },
 "nbformat": 4,
 "nbformat_minor": 5
}
