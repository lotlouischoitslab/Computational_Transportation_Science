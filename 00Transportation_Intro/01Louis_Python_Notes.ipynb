{
 "cells": [
  {
   "cell_type": "markdown",
   "id": "79e0cd9a",
   "metadata": {},
   "source": [
    "# Louis' Python Notes"
   ]
  },
  {
   "cell_type": "markdown",
   "id": "56e9f67a",
   "metadata": {},
   "source": [
    "## 0. Basic Variable Types"
   ]
  },
  {
   "cell_type": "code",
   "execution_count": 1,
   "id": "a9d8383f",
   "metadata": {},
   "outputs": [
    {
     "data": {
      "text/plain": [
       "8"
      ]
     },
     "execution_count": 1,
     "metadata": {},
     "output_type": "execute_result"
    }
   ],
   "source": [
    "#Arithmetic\n",
    "a = 5\n",
    "b = 3\n",
    "a+b #addition"
   ]
  },
  {
   "cell_type": "code",
   "execution_count": 2,
   "id": "972fe2f0",
   "metadata": {},
   "outputs": [
    {
     "data": {
      "text/plain": [
       "2"
      ]
     },
     "execution_count": 2,
     "metadata": {},
     "output_type": "execute_result"
    }
   ],
   "source": [
    "a-b #subtraction"
   ]
  },
  {
   "cell_type": "code",
   "execution_count": 3,
   "id": "bafaeef9",
   "metadata": {},
   "outputs": [
    {
     "data": {
      "text/plain": [
       "15"
      ]
     },
     "execution_count": 3,
     "metadata": {},
     "output_type": "execute_result"
    }
   ],
   "source": [
    "a*b #multiplication"
   ]
  },
  {
   "cell_type": "code",
   "execution_count": 4,
   "id": "d814a61e",
   "metadata": {},
   "outputs": [
    {
     "data": {
      "text/plain": [
       "1.6666666666666667"
      ]
     },
     "execution_count": 4,
     "metadata": {},
     "output_type": "execute_result"
    }
   ],
   "source": [
    "a/b #division"
   ]
  },
  {
   "cell_type": "code",
   "execution_count": 5,
   "id": "3cad6772",
   "metadata": {},
   "outputs": [
    {
     "data": {
      "text/plain": [
       "1"
      ]
     },
     "execution_count": 5,
     "metadata": {},
     "output_type": "execute_result"
    }
   ],
   "source": [
    "a//b #integer division"
   ]
  },
  {
   "cell_type": "code",
   "execution_count": 6,
   "id": "39ac2321",
   "metadata": {},
   "outputs": [
    {
     "data": {
      "text/plain": [
       "2"
      ]
     },
     "execution_count": 6,
     "metadata": {},
     "output_type": "execute_result"
    }
   ],
   "source": [
    "a%b #remainder"
   ]
  },
  {
   "cell_type": "code",
   "execution_count": 7,
   "id": "c57280f7",
   "metadata": {},
   "outputs": [
    {
     "data": {
      "text/plain": [
       "1.67"
      ]
     },
     "execution_count": 7,
     "metadata": {},
     "output_type": "execute_result"
    }
   ],
   "source": [
    "#round to 2 decimal places\n",
    "result = a/b\n",
    "k = 2 \n",
    "round(result,k)"
   ]
  },
  {
   "cell_type": "code",
   "execution_count": 8,
   "id": "d02836db",
   "metadata": {},
   "outputs": [
    {
     "name": "stdout",
     "output_type": "stream",
     "text": [
      "Louis is 22 years old.\n"
     ]
    }
   ],
   "source": [
    "age = 22 #how to format certain strings\n",
    "print(f'Louis is {age} years old.')"
   ]
  },
  {
   "cell_type": "code",
   "execution_count": 9,
   "id": "54675613",
   "metadata": {},
   "outputs": [
    {
     "name": "stdout",
     "output_type": "stream",
     "text": [
      "Louis Sungwoo Cho UIUC\n"
     ]
    }
   ],
   "source": [
    "name = 'Louis Sungwoo Cho' #strings\n",
    "school = 'UIUC'\n",
    "print(name,school) #comma adds a space between two variables when printing in python"
   ]
  },
  {
   "cell_type": "markdown",
   "id": "185b7b5f",
   "metadata": {},
   "source": [
    "## 1. Python Functions & Basic Data Structures"
   ]
  },
  {
   "cell_type": "code",
   "execution_count": 10,
   "id": "f2730089",
   "metadata": {},
   "outputs": [],
   "source": [
    "louis_list = [] #this is a list"
   ]
  },
  {
   "cell_type": "code",
   "execution_count": 11,
   "id": "ac678ded",
   "metadata": {},
   "outputs": [
    {
     "data": {
      "text/plain": [
       "[0]"
      ]
     },
     "execution_count": 11,
     "metadata": {},
     "output_type": "execute_result"
    }
   ],
   "source": [
    "louis_list.append(0) #append 0 to list\n",
    "louis_list"
   ]
  },
  {
   "cell_type": "code",
   "execution_count": 12,
   "id": "bdde7804",
   "metadata": {},
   "outputs": [
    {
     "data": {
      "text/plain": [
       "[0, 0, 1, 2, 3, 4, 5, 6, 7, 8, 9]"
      ]
     },
     "execution_count": 12,
     "metadata": {},
     "output_type": "execute_result"
    }
   ],
   "source": [
    "for i in range(10):\n",
    "    louis_list.append(i)\n",
    "louis_list"
   ]
  },
  {
   "cell_type": "code",
   "execution_count": 13,
   "id": "2e299c2c",
   "metadata": {},
   "outputs": [
    {
     "data": {
      "text/plain": [
       "[0, 1, 2, 3, 4, 5, 6, 7, 8, 9]"
      ]
     },
     "execution_count": 13,
     "metadata": {},
     "output_type": "execute_result"
    }
   ],
   "source": [
    "louis_list.pop(0) #remove the element at the 0th index\n",
    "louis_list"
   ]
  },
  {
   "cell_type": "code",
   "execution_count": 14,
   "id": "06630a2a",
   "metadata": {},
   "outputs": [
    {
     "data": {
      "text/plain": [
       "[0, 2, 3, 4, 5, 6, 7, 8, 9]"
      ]
     },
     "execution_count": 14,
     "metadata": {},
     "output_type": "execute_result"
    }
   ],
   "source": [
    "louis_list.pop(1) #remove the elemt at the 1th index\n",
    "louis_list"
   ]
  },
  {
   "cell_type": "code",
   "execution_count": 15,
   "id": "a372887b",
   "metadata": {},
   "outputs": [
    {
     "data": {
      "text/plain": [
       "[0, 2, 3, 4, 5, 3, 6, 7, 8, 9]"
      ]
     },
     "execution_count": 15,
     "metadata": {},
     "output_type": "execute_result"
    }
   ],
   "source": [
    "louis_list.insert(5,3) #insert 3 at position 5\n",
    "louis_list"
   ]
  },
  {
   "cell_type": "code",
   "execution_count": 16,
   "id": "2f9f2470",
   "metadata": {},
   "outputs": [
    {
     "data": {
      "text/plain": [
       "[1, 2, 4, 5, 5, 6, 7]"
      ]
     },
     "execution_count": 16,
     "metadata": {},
     "output_type": "execute_result"
    }
   ],
   "source": [
    "unsorted = [5,1,7,6,2,4,5] #Python sort function\n",
    "sorted_ = sorted(unsorted)\n",
    "sorted_"
   ]
  },
  {
   "cell_type": "code",
   "execution_count": 17,
   "id": "5e0e0687",
   "metadata": {},
   "outputs": [
    {
     "name": "stdout",
     "output_type": "stream",
     "text": [
      "Index: 0 | Value: 1\n",
      "Index: 1 | Value: 2\n",
      "Index: 2 | Value: 4\n",
      "Index: 3 | Value: 5\n",
      "Index: 4 | Value: 5\n",
      "Index: 5 | Value: 6\n",
      "Index: 6 | Value: 7\n"
     ]
    }
   ],
   "source": [
    "for key,val in enumerate(sorted_): #If you want to print out the index of the array and the value at the same time, we call enumerate\n",
    "    print(f'Index: {key} | Value: {val}')"
   ]
  },
  {
   "cell_type": "code",
   "execution_count": 18,
   "id": "0ed509c9",
   "metadata": {},
   "outputs": [
    {
     "data": {
      "text/plain": [
       "1"
      ]
     },
     "execution_count": 18,
     "metadata": {},
     "output_type": "execute_result"
    }
   ],
   "source": [
    "#Tuples:\n",
    "a = (1,2)\n",
    "b = (3,4)\n",
    "# a.append(3) Note this will not work because tuples are immutable\n",
    "a[0] #Get's the first element "
   ]
  },
  {
   "cell_type": "code",
   "execution_count": 19,
   "id": "8d9ae6c2",
   "metadata": {},
   "outputs": [],
   "source": [
    "c= (5,6)\n",
    "d = (7,8)\n",
    "e = (9,10)"
   ]
  },
  {
   "cell_type": "code",
   "execution_count": 20,
   "id": "bae31c1a",
   "metadata": {},
   "outputs": [
    {
     "name": "stdout",
     "output_type": "stream",
     "text": [
      "Tuple 0: (1, 2)\n",
      "Tuple 1: (3, 4)\n",
      "Tuple 2: (5, 6)\n",
      "Tuple 3: (7, 8)\n",
      "Tuple 4: (9, 10)\n"
     ]
    }
   ],
   "source": [
    "tup_list = [a,b,c,d,e]\n",
    "for key,t in enumerate(tup_list):\n",
    "    print(f'Tuple {key}: {t}')"
   ]
  },
  {
   "cell_type": "markdown",
   "id": "81d43502",
   "metadata": {},
   "source": [
    "## 2. Python Functions"
   ]
  },
  {
   "cell_type": "code",
   "execution_count": 21,
   "id": "578196dc",
   "metadata": {},
   "outputs": [],
   "source": [
    "#How to define a function in Python\n",
    "#Always start off by writing 'def'\n",
    "#def() inside the parenthesis, you will put the variables\n",
    "\n",
    "#Compute Fibonnacci Number f[i] = f[i-1] + f[i-2]\n",
    "\n",
    "def fib(n):\n",
    "    f = [0 for i in range(n)] #initializes 0 for n times for an array\n",
    "    f[0] = 0 #sets the first element to 0\n",
    "    f[1] = 1 #sets the second element to 1\n",
    "    \n",
    "    for i in range(2,n): #for i in range 2 to the index of the last element n-1\n",
    "        f[i] = f[i-1]+f[i-2] #assign the variable\n",
    "        \n",
    "    return f[n-1] #return the last element of the variable"
   ]
  },
  {
   "cell_type": "code",
   "execution_count": 22,
   "id": "c58ee669",
   "metadata": {},
   "outputs": [
    {
     "data": {
      "text/plain": [
       "13"
      ]
     },
     "execution_count": 22,
     "metadata": {},
     "output_type": "execute_result"
    }
   ],
   "source": [
    "answer = fib(8)\n",
    "answer"
   ]
  },
  {
   "cell_type": "code",
   "execution_count": 23,
   "id": "5e1d6c96",
   "metadata": {},
   "outputs": [],
   "source": [
    "#You can return multiple variables using Python functions\n",
    "def fib(n):\n",
    "    f = [0 for i in range(n)] #initializes 0 for n times\n",
    "    f[0] = 0 #sets the first element to 0\n",
    "    f[1] = 1 #sets the second element to 1\n",
    "    \n",
    "    for i in range(2,n): #for i in range 2 to the index of the last element n-1\n",
    "        f[i] = f[i-1]+f[i-2] #assign the variable\n",
    "        \n",
    "    return f,f[n-1] #return the last element of the variable"
   ]
  },
  {
   "cell_type": "code",
   "execution_count": 24,
   "id": "24cedd73",
   "metadata": {},
   "outputs": [
    {
     "name": "stdout",
     "output_type": "stream",
     "text": [
      "Fibonacci Dynamic Programming Array:[0, 1, 1, 2, 3, 5, 8, 13]\n",
      "Answer of F(n) when n = 8 is 13\n"
     ]
    }
   ],
   "source": [
    "n = 8\n",
    "dp,answer = fib(n)\n",
    "print(f'Fibonacci Dynamic Programming Array:{dp}')\n",
    "print(f'Answer of F(n) when n = 8 is {answer}')"
   ]
  },
  {
   "cell_type": "code",
   "execution_count": 25,
   "id": "851ceab4",
   "metadata": {},
   "outputs": [
    {
     "data": {
      "text/plain": [
       "[[0, 0], [0, 0], [0, 0]]"
      ]
     },
     "execution_count": 25,
     "metadata": {},
     "output_type": "execute_result"
    }
   ],
   "source": [
    "#We can work with 2-Dimensional Arrays\n",
    "#We will be creating a 3x2 matrix populating each element with 0.\n",
    "rows = 3\n",
    "cols = 2\n",
    "matrix = [[0 for j in range(cols)]for i in range(rows)]\n",
    "matrix"
   ]
  },
  {
   "cell_type": "code",
   "execution_count": 26,
   "id": "e67a66c1",
   "metadata": {},
   "outputs": [
    {
     "data": {
      "text/plain": [
       "[[0, 1], [1, 2], [2, 3]]"
      ]
     },
     "execution_count": 26,
     "metadata": {},
     "output_type": "execute_result"
    }
   ],
   "source": [
    "#How to traverse 2D arrays in Python\n",
    "#Guess what this function is trying to do\n",
    "for i in range(rows): #for each row\n",
    "    for j in range(cols): #we will be traversing each columns\n",
    "        matrix[i][j] = i+j\n",
    "matrix"
   ]
  },
  {
   "cell_type": "markdown",
   "id": "1238d343",
   "metadata": {},
   "source": [
    "### 3. Python Dictionaries & Data Frames"
   ]
  },
  {
   "cell_type": "code",
   "execution_count": 27,
   "id": "88033fed",
   "metadata": {},
   "outputs": [],
   "source": [
    "# Dictionary \n",
    "df = {\n",
    "    'Student':['Louis','Anish','Alex','Jay','Ethan','Christian','Javi','Hugo','Yug'],\n",
    "    'Major':['CEE','CS','CS','CompE','CEE','AE','EE','ME','CS'],\n",
    "    'Minor':['CS','NA','Math','Phys','CS','CS','CS','CS','EE']\n",
    "}"
   ]
  },
  {
   "cell_type": "code",
   "execution_count": 28,
   "id": "74664f5f",
   "metadata": {},
   "outputs": [
    {
     "data": {
      "text/plain": [
       "{'Student': ['Louis',\n",
       "  'Anish',\n",
       "  'Alex',\n",
       "  'Jay',\n",
       "  'Ethan',\n",
       "  'Christian',\n",
       "  'Javi',\n",
       "  'Hugo',\n",
       "  'Yug'],\n",
       " 'Major': ['CEE', 'CS', 'CS', 'CompE', 'CEE', 'AE', 'EE', 'ME', 'CS'],\n",
       " 'Minor': ['CS', 'NA', 'Math', 'Phys', 'CS', 'CS', 'CS', 'CS', 'EE']}"
      ]
     },
     "execution_count": 28,
     "metadata": {},
     "output_type": "execute_result"
    }
   ],
   "source": [
    "df"
   ]
  },
  {
   "cell_type": "code",
   "execution_count": 29,
   "id": "c7871c19",
   "metadata": {},
   "outputs": [
    {
     "data": {
      "text/html": [
       "<div>\n",
       "<style scoped>\n",
       "    .dataframe tbody tr th:only-of-type {\n",
       "        vertical-align: middle;\n",
       "    }\n",
       "\n",
       "    .dataframe tbody tr th {\n",
       "        vertical-align: top;\n",
       "    }\n",
       "\n",
       "    .dataframe thead th {\n",
       "        text-align: right;\n",
       "    }\n",
       "</style>\n",
       "<table border=\"1\" class=\"dataframe\">\n",
       "  <thead>\n",
       "    <tr style=\"text-align: right;\">\n",
       "      <th></th>\n",
       "      <th>Student</th>\n",
       "      <th>Major</th>\n",
       "      <th>Minor</th>\n",
       "    </tr>\n",
       "  </thead>\n",
       "  <tbody>\n",
       "    <tr>\n",
       "      <th>0</th>\n",
       "      <td>Louis</td>\n",
       "      <td>CEE</td>\n",
       "      <td>CS</td>\n",
       "    </tr>\n",
       "    <tr>\n",
       "      <th>1</th>\n",
       "      <td>Anish</td>\n",
       "      <td>CS</td>\n",
       "      <td>NA</td>\n",
       "    </tr>\n",
       "    <tr>\n",
       "      <th>2</th>\n",
       "      <td>Alex</td>\n",
       "      <td>CS</td>\n",
       "      <td>Math</td>\n",
       "    </tr>\n",
       "    <tr>\n",
       "      <th>3</th>\n",
       "      <td>Jay</td>\n",
       "      <td>CompE</td>\n",
       "      <td>Phys</td>\n",
       "    </tr>\n",
       "    <tr>\n",
       "      <th>4</th>\n",
       "      <td>Ethan</td>\n",
       "      <td>CEE</td>\n",
       "      <td>CS</td>\n",
       "    </tr>\n",
       "    <tr>\n",
       "      <th>5</th>\n",
       "      <td>Christian</td>\n",
       "      <td>AE</td>\n",
       "      <td>CS</td>\n",
       "    </tr>\n",
       "    <tr>\n",
       "      <th>6</th>\n",
       "      <td>Javi</td>\n",
       "      <td>EE</td>\n",
       "      <td>CS</td>\n",
       "    </tr>\n",
       "    <tr>\n",
       "      <th>7</th>\n",
       "      <td>Hugo</td>\n",
       "      <td>ME</td>\n",
       "      <td>CS</td>\n",
       "    </tr>\n",
       "    <tr>\n",
       "      <th>8</th>\n",
       "      <td>Yug</td>\n",
       "      <td>CS</td>\n",
       "      <td>EE</td>\n",
       "    </tr>\n",
       "  </tbody>\n",
       "</table>\n",
       "</div>"
      ],
      "text/plain": [
       "     Student  Major Minor\n",
       "0      Louis    CEE    CS\n",
       "1      Anish     CS    NA\n",
       "2       Alex     CS  Math\n",
       "3        Jay  CompE  Phys\n",
       "4      Ethan    CEE    CS\n",
       "5  Christian     AE    CS\n",
       "6       Javi     EE    CS\n",
       "7       Hugo     ME    CS\n",
       "8        Yug     CS    EE"
      ]
     },
     "execution_count": 29,
     "metadata": {},
     "output_type": "execute_result"
    }
   ],
   "source": [
    "# If we want to convert our dictionary to dataframe, we need to call Pandas \n",
    "import pandas as pd \n",
    "\n",
    "data = pd.DataFrame(df)\n",
    "first = 10 #how many first rows we want to see\n",
    "data.head(first)"
   ]
  },
  {
   "cell_type": "code",
   "execution_count": 30,
   "id": "66e57fe2",
   "metadata": {},
   "outputs": [],
   "source": [
    "# Let's convert this into csv file!\n",
    "data.to_csv('students.csv')"
   ]
  },
  {
   "cell_type": "code",
   "execution_count": 77,
   "id": "6d5320eb",
   "metadata": {},
   "outputs": [
    {
     "data": {
      "text/html": [
       "<div>\n",
       "<style scoped>\n",
       "    .dataframe tbody tr th:only-of-type {\n",
       "        vertical-align: middle;\n",
       "    }\n",
       "\n",
       "    .dataframe tbody tr th {\n",
       "        vertical-align: top;\n",
       "    }\n",
       "\n",
       "    .dataframe thead th {\n",
       "        text-align: right;\n",
       "    }\n",
       "</style>\n",
       "<table border=\"1\" class=\"dataframe\">\n",
       "  <thead>\n",
       "    <tr style=\"text-align: right;\">\n",
       "      <th></th>\n",
       "      <th>Student</th>\n",
       "      <th>Major</th>\n",
       "      <th>Minor</th>\n",
       "    </tr>\n",
       "  </thead>\n",
       "  <tbody>\n",
       "    <tr>\n",
       "      <th>0</th>\n",
       "      <td>Louis</td>\n",
       "      <td>CEE</td>\n",
       "      <td>CS</td>\n",
       "    </tr>\n",
       "    <tr>\n",
       "      <th>1</th>\n",
       "      <td>Anish</td>\n",
       "      <td>CS</td>\n",
       "      <td>NaN</td>\n",
       "    </tr>\n",
       "    <tr>\n",
       "      <th>2</th>\n",
       "      <td>Alex</td>\n",
       "      <td>CS</td>\n",
       "      <td>Math</td>\n",
       "    </tr>\n",
       "    <tr>\n",
       "      <th>3</th>\n",
       "      <td>Jay</td>\n",
       "      <td>CompE</td>\n",
       "      <td>Phys</td>\n",
       "    </tr>\n",
       "    <tr>\n",
       "      <th>4</th>\n",
       "      <td>Ethan</td>\n",
       "      <td>CEE</td>\n",
       "      <td>CS</td>\n",
       "    </tr>\n",
       "    <tr>\n",
       "      <th>5</th>\n",
       "      <td>Christian</td>\n",
       "      <td>AE</td>\n",
       "      <td>CS</td>\n",
       "    </tr>\n",
       "    <tr>\n",
       "      <th>6</th>\n",
       "      <td>Javi</td>\n",
       "      <td>EE</td>\n",
       "      <td>CS</td>\n",
       "    </tr>\n",
       "    <tr>\n",
       "      <th>7</th>\n",
       "      <td>Hugo</td>\n",
       "      <td>ME</td>\n",
       "      <td>CS</td>\n",
       "    </tr>\n",
       "    <tr>\n",
       "      <th>8</th>\n",
       "      <td>Yug</td>\n",
       "      <td>CS</td>\n",
       "      <td>EE</td>\n",
       "    </tr>\n",
       "  </tbody>\n",
       "</table>\n",
       "</div>"
      ],
      "text/plain": [
       "     Student  Major Minor\n",
       "0      Louis    CEE    CS\n",
       "1      Anish     CS   NaN\n",
       "2       Alex     CS  Math\n",
       "3        Jay  CompE  Phys\n",
       "4      Ethan    CEE    CS\n",
       "5  Christian     AE    CS\n",
       "6       Javi     EE    CS\n",
       "7       Hugo     ME    CS\n",
       "8        Yug     CS    EE"
      ]
     },
     "execution_count": 77,
     "metadata": {},
     "output_type": "execute_result"
    }
   ],
   "source": [
    "# Let's read the csv file!\n",
    "input_data = pd.read_csv('students.csv', index_col=[0])\n",
    "input_data"
   ]
  },
  {
   "cell_type": "markdown",
   "id": "5a63a1c8",
   "metadata": {},
   "source": [
    "# 4. Plotting in Python "
   ]
  },
  {
   "cell_type": "code",
   "execution_count": null,
   "id": "c0163bc1",
   "metadata": {},
   "outputs": [],
   "source": []
  },
  {
   "cell_type": "code",
   "execution_count": null,
   "id": "facbaf85",
   "metadata": {},
   "outputs": [],
   "source": []
  },
  {
   "cell_type": "code",
   "execution_count": null,
   "id": "42a2e679",
   "metadata": {},
   "outputs": [],
   "source": []
  },
  {
   "cell_type": "code",
   "execution_count": null,
   "id": "9eecbb00",
   "metadata": {},
   "outputs": [],
   "source": []
  },
  {
   "cell_type": "code",
   "execution_count": null,
   "id": "1e1980c6",
   "metadata": {},
   "outputs": [],
   "source": []
  },
  {
   "cell_type": "markdown",
   "id": "4b412d0e",
   "metadata": {},
   "source": [
    "# 5. Mathematics"
   ]
  },
  {
   "cell_type": "markdown",
   "id": "c883dd99",
   "metadata": {},
   "source": [
    "## Calculus"
   ]
  },
  {
   "cell_type": "markdown",
   "id": "71766f4f",
   "metadata": {},
   "source": [
    "### Displacement $x(t)$ "
   ]
  },
  {
   "cell_type": "markdown",
   "id": "bef1b55b",
   "metadata": {},
   "source": [
    "$$x(t) = v_it+\\frac{1}{2}at^2$$"
   ]
  },
  {
   "cell_type": "markdown",
   "id": "8c7229f1",
   "metadata": {},
   "source": [
    "### Compute Velocity $v(t)$"
   ]
  },
  {
   "cell_type": "markdown",
   "id": "35fa5344",
   "metadata": {},
   "source": [
    "$$ v(t) = \\frac{dx}{dt}$$"
   ]
  },
  {
   "cell_type": "markdown",
   "id": "d9b68856",
   "metadata": {},
   "source": [
    "### Compute Acceleration a(t)"
   ]
  },
  {
   "cell_type": "markdown",
   "id": "85c1f8c4",
   "metadata": {},
   "source": [
    "$$ a(t) = \\frac{dv}{dt} $$"
   ]
  },
  {
   "cell_type": "code",
   "execution_count": 32,
   "id": "62468d72",
   "metadata": {},
   "outputs": [
    {
     "data": {
      "text/latex": [
       "$\\displaystyle t$"
      ],
      "text/plain": [
       "t"
      ]
     },
     "execution_count": 32,
     "metadata": {},
     "output_type": "execute_result"
    }
   ],
   "source": [
    "from sympy import * # I love sympy library :) for calculus!\n",
    "t = symbols('t')\n",
    "t"
   ]
  },
  {
   "cell_type": "markdown",
   "id": "520c4766",
   "metadata": {},
   "source": [
    "## Derivatives"
   ]
  },
  {
   "cell_type": "code",
   "execution_count": 33,
   "id": "dd063af4",
   "metadata": {},
   "outputs": [
    {
     "data": {
      "text/latex": [
       "$\\displaystyle 5.0 t^{2} + 5 t$"
      ],
      "text/plain": [
       "5.0*t**2 + 5*t"
      ]
     },
     "execution_count": 33,
     "metadata": {},
     "output_type": "execute_result"
    }
   ],
   "source": [
    "#Compute Displacement\n",
    "vi = 5 #m/s\n",
    "a = 10 #m/s^2\n",
    "x = vi*t+0.5*a*t**2\n",
    "x"
   ]
  },
  {
   "cell_type": "code",
   "execution_count": 34,
   "id": "16d684f7",
   "metadata": {},
   "outputs": [
    {
     "data": {
      "text/latex": [
       "$\\displaystyle 10.0 t + 5$"
      ],
      "text/plain": [
       "10.0*t + 5"
      ]
     },
     "execution_count": 34,
     "metadata": {},
     "output_type": "execute_result"
    }
   ],
   "source": [
    "#Compute Velocity\n",
    "v = diff(x,t)\n",
    "v"
   ]
  },
  {
   "cell_type": "code",
   "execution_count": 35,
   "id": "22859e1c",
   "metadata": {},
   "outputs": [
    {
     "data": {
      "text/latex": [
       "$\\displaystyle 10.0$"
      ],
      "text/plain": [
       "10.0000000000000"
      ]
     },
     "execution_count": 35,
     "metadata": {},
     "output_type": "execute_result"
    }
   ],
   "source": [
    "#Compute Acceleration\n",
    "a = diff(v,t)\n",
    "a"
   ]
  },
  {
   "cell_type": "markdown",
   "id": "f53e9c7d",
   "metadata": {},
   "source": [
    "## Compute $x(t)$ , $v(t)$ and $a(t)$ respectively when t = 3 seconds."
   ]
  },
  {
   "cell_type": "code",
   "execution_count": 36,
   "id": "a27a47b4",
   "metadata": {},
   "outputs": [
    {
     "data": {
      "text/plain": [
       "60.0"
      ]
     },
     "execution_count": 36,
     "metadata": {},
     "output_type": "execute_result"
    }
   ],
   "source": [
    "#we are going to compute x(t) when t = 3\n",
    "x_ans = lambdify(t,x)\n",
    "ti = 3\n",
    "x_ans(ti)"
   ]
  },
  {
   "cell_type": "code",
   "execution_count": 37,
   "id": "3bcd1cfc",
   "metadata": {},
   "outputs": [
    {
     "data": {
      "text/plain": [
       "35.0"
      ]
     },
     "execution_count": 37,
     "metadata": {},
     "output_type": "execute_result"
    }
   ],
   "source": [
    "v_ans = lambdify(t,v)\n",
    "v_ans(ti)"
   ]
  },
  {
   "cell_type": "code",
   "execution_count": 38,
   "id": "ed0107a2",
   "metadata": {},
   "outputs": [
    {
     "data": {
      "text/plain": [
       "10.0"
      ]
     },
     "execution_count": 38,
     "metadata": {},
     "output_type": "execute_result"
    }
   ],
   "source": [
    "a_ans = lambdify(t,a)\n",
    "a_ans(ti)"
   ]
  },
  {
   "cell_type": "markdown",
   "id": "eb1e1f8e",
   "metadata": {},
   "source": [
    "# Partial Differentiation"
   ]
  },
  {
   "cell_type": "markdown",
   "id": "96522156",
   "metadata": {},
   "source": [
    "$ f(x,y) = x^2 + y^2 $"
   ]
  },
  {
   "cell_type": "markdown",
   "id": "d200086b",
   "metadata": {},
   "source": [
    "$\\frac{\\partial f}{\\partial x} = 2x$"
   ]
  },
  {
   "cell_type": "markdown",
   "id": "15b15baa",
   "metadata": {},
   "source": [
    "$\\frac{\\partial f}{\\partial y} = 2y$"
   ]
  },
  {
   "cell_type": "code",
   "execution_count": 39,
   "id": "b2b4eba6",
   "metadata": {},
   "outputs": [
    {
     "data": {
      "text/latex": [
       "$\\displaystyle 2 x$"
      ],
      "text/plain": [
       "2*x"
      ]
     },
     "execution_count": 39,
     "metadata": {},
     "output_type": "execute_result"
    }
   ],
   "source": [
    "x,y = symbols('x,y')\n",
    "f = x**2 + y**2\n",
    "part_x = diff(f,x)\n",
    "part_x"
   ]
  },
  {
   "cell_type": "code",
   "execution_count": 40,
   "id": "8564adbe",
   "metadata": {},
   "outputs": [
    {
     "data": {
      "text/latex": [
       "$\\displaystyle 2 y$"
      ],
      "text/plain": [
       "2*y"
      ]
     },
     "execution_count": 40,
     "metadata": {},
     "output_type": "execute_result"
    }
   ],
   "source": [
    "part_y = diff(f,y)\n",
    "part_y"
   ]
  },
  {
   "cell_type": "markdown",
   "id": "c25631cd",
   "metadata": {},
   "source": [
    "# Single Integration"
   ]
  },
  {
   "cell_type": "markdown",
   "id": "36107c67",
   "metadata": {},
   "source": [
    "$$\\ \\int_{a}^{b} x^2 dx \\$$"
   ]
  },
  {
   "cell_type": "markdown",
   "id": "4b75d585",
   "metadata": {},
   "source": [
    "$$\\Delta{x} = \\int_{t_i}^{t_f} (v_i+ at)dt$$"
   ]
  },
  {
   "cell_type": "markdown",
   "id": "0f2f832e",
   "metadata": {},
   "source": [
    "**Compute the change in displacement when $t_i = 0$ and $t_f = 5$ with $v_i$ = 5 m/s and $a$ = 2 m/s^2**"
   ]
  },
  {
   "cell_type": "code",
   "execution_count": 41,
   "id": "2ff14b47",
   "metadata": {},
   "outputs": [],
   "source": [
    "#Initialize all the variables\n",
    "vi = 5 #m/s\n",
    "a = 2 #m/s^2\n",
    "ti = 0 #seconds\n",
    "tf = 5 #seconds\n",
    "t = symbols('t')"
   ]
  },
  {
   "cell_type": "code",
   "execution_count": 42,
   "id": "50343bab",
   "metadata": {},
   "outputs": [
    {
     "data": {
      "text/latex": [
       "$\\displaystyle 2 t + 5$"
      ],
      "text/plain": [
       "2*t + 5"
      ]
     },
     "execution_count": 42,
     "metadata": {},
     "output_type": "execute_result"
    }
   ],
   "source": [
    "vf = vi+a*t\n",
    "vf"
   ]
  },
  {
   "cell_type": "code",
   "execution_count": 43,
   "id": "1a0662dc",
   "metadata": {},
   "outputs": [
    {
     "data": {
      "text/latex": [
       "$\\displaystyle t^{2} + 5 t$"
      ],
      "text/plain": [
       "t**2 + 5*t"
      ]
     },
     "execution_count": 43,
     "metadata": {},
     "output_type": "execute_result"
    }
   ],
   "source": [
    "delta_x = integrate(vf,t)\n",
    "delta_x"
   ]
  },
  {
   "cell_type": "code",
   "execution_count": 44,
   "id": "515f8cf8",
   "metadata": {},
   "outputs": [
    {
     "data": {
      "text/latex": [
       "$\\displaystyle 50$"
      ],
      "text/plain": [
       "50"
      ]
     },
     "execution_count": 44,
     "metadata": {},
     "output_type": "execute_result"
    }
   ],
   "source": [
    "vf_result = lambdify(t,vf)\n",
    "delta_x = integrate(vf,(t,ti,tf))\n",
    "delta_x"
   ]
  },
  {
   "cell_type": "code",
   "execution_count": 45,
   "id": "d2597f26",
   "metadata": {},
   "outputs": [
    {
     "data": {
      "text/latex": [
       "$\\displaystyle 60$"
      ],
      "text/plain": [
       "60"
      ]
     },
     "execution_count": 45,
     "metadata": {},
     "output_type": "execute_result"
    }
   ],
   "source": [
    "#what if initial condition of x(0) = 10 m?\n",
    "x0 = 10\n",
    "xf = x0 + delta_x\n",
    "xf"
   ]
  },
  {
   "cell_type": "markdown",
   "id": "427696e0",
   "metadata": {},
   "source": [
    "# Double Integration "
   ]
  },
  {
   "cell_type": "markdown",
   "id": "fb671d39",
   "metadata": {},
   "source": [
    "$$\\ \\int_{c}^{d} \\int_{a}^{b} x^2+y^2 dxdy \\$$"
   ]
  },
  {
   "cell_type": "markdown",
   "id": "dd021e74",
   "metadata": {},
   "source": [
    "$$\\ \\int_{1}^{3} \\int_{2}^{5} x^2+y^2 dxdy \\$$"
   ]
  },
  {
   "cell_type": "code",
   "execution_count": 46,
   "id": "abb1560a",
   "metadata": {},
   "outputs": [
    {
     "data": {
      "text/plain": [
       "(x, y)"
      ]
     },
     "execution_count": 46,
     "metadata": {},
     "output_type": "execute_result"
    }
   ],
   "source": [
    "a = 2\n",
    "b = 5\n",
    "c = 1 \n",
    "d = 3\n",
    "x,y = symbols('x,y')\n",
    "x,y"
   ]
  },
  {
   "cell_type": "code",
   "execution_count": 47,
   "id": "36010e90",
   "metadata": {},
   "outputs": [
    {
     "data": {
      "text/latex": [
       "$\\displaystyle x^{2} + y^{2}$"
      ],
      "text/plain": [
       "x**2 + y**2"
      ]
     },
     "execution_count": 47,
     "metadata": {},
     "output_type": "execute_result"
    }
   ],
   "source": [
    "f = x**2+y**2\n",
    "f"
   ]
  },
  {
   "cell_type": "code",
   "execution_count": 48,
   "id": "83933150",
   "metadata": {},
   "outputs": [
    {
     "data": {
      "text/latex": [
       "$\\displaystyle 3 y^{2} + 39$"
      ],
      "text/plain": [
       "3*y**2 + 39"
      ]
     },
     "execution_count": 48,
     "metadata": {},
     "output_type": "execute_result"
    }
   ],
   "source": [
    "delta_x = integrate(f,(x,a,b))\n",
    "delta_x"
   ]
  },
  {
   "cell_type": "code",
   "execution_count": 49,
   "id": "118f09fe",
   "metadata": {},
   "outputs": [
    {
     "data": {
      "text/latex": [
       "$\\displaystyle 104$"
      ],
      "text/plain": [
       "104"
      ]
     },
     "execution_count": 49,
     "metadata": {},
     "output_type": "execute_result"
    }
   ],
   "source": [
    "delta_y = integrate(delta_x,(y,c,d))\n",
    "delta_y"
   ]
  },
  {
   "cell_type": "markdown",
   "id": "80a0b76b",
   "metadata": {},
   "source": [
    "# Linear Algebra"
   ]
  },
  {
   "cell_type": "code",
   "execution_count": 50,
   "id": "4c0838cd",
   "metadata": {},
   "outputs": [],
   "source": [
    "# We will be using A LOT of numpy libraries\n",
    "import numpy as np #Basically for any mathematical calculations\n",
    "import numpy.linalg as la #You need this for Linear Algebra\n",
    "from sympy import * #You will need this for mathematical calculations as well"
   ]
  },
  {
   "cell_type": "markdown",
   "id": "29713a7c",
   "metadata": {},
   "source": [
    "### Matrix Scalar Multiplication"
   ]
  },
  {
   "cell_type": "markdown",
   "id": "f276ff6d",
   "metadata": {},
   "source": [
    "$A = \n",
    "\\begin{bmatrix}\n",
    "1 & 2  \\\\\n",
    "1 & 0 \\\\\n",
    "\\end{bmatrix}\n",
    "$"
   ]
  },
  {
   "cell_type": "markdown",
   "id": "8139f5e6",
   "metadata": {},
   "source": [
    "Find $2A$"
   ]
  },
  {
   "cell_type": "code",
   "execution_count": 51,
   "id": "c0245300",
   "metadata": {},
   "outputs": [
    {
     "data": {
      "text/plain": [
       "array([[2, 4],\n",
       "       [2, 0]])"
      ]
     },
     "execution_count": 51,
     "metadata": {},
     "output_type": "execute_result"
    }
   ],
   "source": [
    "A = np.array([[1,2],[1,0]])\n",
    "answer = 2*A\n",
    "answer"
   ]
  },
  {
   "cell_type": "markdown",
   "id": "7a1e2ed3",
   "metadata": {},
   "source": [
    "### Matrix Dot Product"
   ]
  },
  {
   "cell_type": "markdown",
   "id": "ca1bdde8",
   "metadata": {},
   "source": [
    "$A = \n",
    "\\begin{bmatrix}\n",
    "1 & 2  \\\\\n",
    "1 & 0 \\\\\n",
    "\\end{bmatrix}\n",
    "$"
   ]
  },
  {
   "cell_type": "markdown",
   "id": "c0c3a8fc",
   "metadata": {},
   "source": [
    "$v = \n",
    "\\begin{bmatrix}\n",
    "1  \\\\\n",
    "2 \\\\\n",
    "\\end{bmatrix}\n",
    "$"
   ]
  },
  {
   "cell_type": "markdown",
   "id": "4b738832",
   "metadata": {},
   "source": [
    "$ans = \\mathbf{A} \\cdot \\mathbf{v}$"
   ]
  },
  {
   "cell_type": "code",
   "execution_count": 52,
   "id": "f249a3f0",
   "metadata": {},
   "outputs": [
    {
     "data": {
      "text/plain": [
       "array([5, 1])"
      ]
     },
     "execution_count": 52,
     "metadata": {},
     "output_type": "execute_result"
    }
   ],
   "source": [
    "A = np.array([[1,2],[1,0]])\n",
    "v = np.array([1,2])\n",
    "Av = np.dot(A,v)\n",
    "Av"
   ]
  },
  {
   "cell_type": "markdown",
   "id": "5d9fe86d",
   "metadata": {},
   "source": [
    "### Solving Matrices"
   ]
  },
  {
   "cell_type": "markdown",
   "id": "5f8dd89d",
   "metadata": {},
   "source": [
    "$A = \n",
    "\\begin{bmatrix}\n",
    "1 & 2  \\\\\n",
    "1 & 0 \\\\\n",
    "\\end{bmatrix}\n",
    "$"
   ]
  },
  {
   "cell_type": "markdown",
   "id": "6f57e348",
   "metadata": {},
   "source": [
    "$b = \n",
    "\\begin{bmatrix}\n",
    "3  \\\\\n",
    "5 \\\\\n",
    "\\end{bmatrix}\n",
    "$"
   ]
  },
  {
   "cell_type": "markdown",
   "id": "942f880d",
   "metadata": {},
   "source": [
    "$ Ax = b $"
   ]
  },
  {
   "cell_type": "code",
   "execution_count": 53,
   "id": "f06f0088",
   "metadata": {},
   "outputs": [
    {
     "data": {
      "text/plain": [
       "array([ 5., -1.])"
      ]
     },
     "execution_count": 53,
     "metadata": {},
     "output_type": "execute_result"
    }
   ],
   "source": [
    "A = np.array([[1,2],[1,0]])\n",
    "b = np.array([3,5])\n",
    "\n",
    "sol = la.solve(A,b)\n",
    "sol"
   ]
  },
  {
   "cell_type": "markdown",
   "id": "ee2e64a0",
   "metadata": {},
   "source": [
    "\\begin{align*}\n",
    "2x + 3y + z &= 10 \\\\\n",
    "4x - y + z &= 2 \\\\ \n",
    "3x + y - z &= 3\n",
    "\\end{align*}"
   ]
  },
  {
   "cell_type": "code",
   "execution_count": 54,
   "id": "f2e0e5de",
   "metadata": {},
   "outputs": [
    {
     "data": {
      "text/plain": [
       "[x, y, z]"
      ]
     },
     "execution_count": 54,
     "metadata": {},
     "output_type": "execute_result"
    }
   ],
   "source": [
    "#First we need to convert x,y,z into symbols\n",
    "x,y,z = symbols('x,y,z') #This is sympy library \n",
    "variables = [x,y,z]\n",
    "variables"
   ]
  },
  {
   "cell_type": "markdown",
   "id": "25906304",
   "metadata": {},
   "source": [
    "### Hint:\n",
    "\n",
    "$A = \n",
    "\\begin{bmatrix}\n",
    "2 & 3 & 1  \\\\\n",
    "4 & -1 & 1 \\\\\n",
    "3 & 1 & -1\n",
    "\\end{bmatrix}\n",
    "$\n",
    "\n",
    "$b = \n",
    "\\begin{bmatrix}\n",
    "10 \\\\\n",
    "2 \\\\\n",
    "3 \n",
    "\\end{bmatrix}\n",
    "$\n",
    "\n",
    "\n",
    "$ Ax = b $"
   ]
  },
  {
   "cell_type": "code",
   "execution_count": 55,
   "id": "529ba99f",
   "metadata": {},
   "outputs": [
    {
     "data": {
      "text/plain": [
       "[2*x + 3*y + z - 10, 4*x - y + z - 2, 3*x + y - z - 3]"
      ]
     },
     "execution_count": 55,
     "metadata": {},
     "output_type": "execute_result"
    }
   ],
   "source": [
    "#Second we need to bring everything to the left and setup 3 equations\n",
    "b1 = 10\n",
    "b2 = 2 \n",
    "b3 = 3\n",
    "\n",
    "#Combine the equations\n",
    "eq1 = 2*x + 3*y + z - b1\n",
    "eq2 = 4*x-y+z - b2 \n",
    "eq3 = 3*x+y-z -b3\n",
    "equations = [eq1,eq2,eq3]\n",
    "equations"
   ]
  },
  {
   "cell_type": "code",
   "execution_count": 56,
   "id": "82e5e9ad",
   "metadata": {},
   "outputs": [],
   "source": [
    "#Call the solver\n",
    "solutions = solve(equations,variables) #Be careful we are using Sympy solver NOT Numpy because we are dealing with a system of linear equations"
   ]
  },
  {
   "cell_type": "code",
   "execution_count": 57,
   "id": "8a50d130",
   "metadata": {},
   "outputs": [
    {
     "name": "stdout",
     "output_type": "stream",
     "text": [
      "X-value: 5/7\n",
      "y-value: 33/14\n",
      "z-value: 3/2\n"
     ]
    }
   ],
   "source": [
    "# Check the solutions\n",
    "print(f'X-value: {solutions[x]}')\n",
    "print(f'y-value: {solutions[y]}')\n",
    "print(f'z-value: {solutions[z]}')"
   ]
  },
  {
   "cell_type": "code",
   "execution_count": 58,
   "id": "c35a15f2",
   "metadata": {},
   "outputs": [
    {
     "name": "stdout",
     "output_type": "stream",
     "text": [
      "X-value: 0.7142857142857143\n",
      "y-value: 2.357142857142857\n",
      "z-value: 1.5\n"
     ]
    }
   ],
   "source": [
    "# Convert the solutions to floating point numbers\n",
    "print(f'X-value: {float(solutions[x])}')\n",
    "print(f'y-value: {float(solutions[y])}')\n",
    "print(f'z-value: {float(solutions[z])}')"
   ]
  },
  {
   "cell_type": "markdown",
   "id": "d30951df",
   "metadata": {},
   "source": [
    "## Eigenvalues & Eigenvectors"
   ]
  },
  {
   "cell_type": "code",
   "execution_count": 59,
   "id": "a76fc25f",
   "metadata": {},
   "outputs": [
    {
     "data": {
      "text/plain": [
       "array([[1, 2],\n",
       "       [1, 0]])"
      ]
     },
     "execution_count": 59,
     "metadata": {},
     "output_type": "execute_result"
    }
   ],
   "source": [
    "A = np.array([[1,2],[1,0]])\n",
    "A"
   ]
  },
  {
   "cell_type": "code",
   "execution_count": 60,
   "id": "ae722772",
   "metadata": {},
   "outputs": [
    {
     "data": {
      "text/plain": [
       "(array([ 2., -1.]),\n",
       " array([[ 0.89442719, -0.70710678],\n",
       "        [ 0.4472136 ,  0.70710678]]))"
      ]
     },
     "execution_count": 60,
     "metadata": {},
     "output_type": "execute_result"
    }
   ],
   "source": [
    "eigenvalues = la.eig(A)\n",
    "eigenvalues #The first array is for eigenvalues, the second one contains the eigenvectors"
   ]
  },
  {
   "cell_type": "code",
   "execution_count": 61,
   "id": "677c90d2",
   "metadata": {},
   "outputs": [
    {
     "name": "stdout",
     "output_type": "stream",
     "text": [
      "Eigenvalues are: [ 2. -1.]\n"
     ]
    }
   ],
   "source": [
    "print(f'Eigenvalues are: {eigenvalues[0]}')"
   ]
  },
  {
   "cell_type": "code",
   "execution_count": 62,
   "id": "2a0ba6af",
   "metadata": {},
   "outputs": [
    {
     "name": "stdout",
     "output_type": "stream",
     "text": [
      "Eigenvectors are: [[ 0.89442719 -0.70710678]\n",
      " [ 0.4472136   0.70710678]]\n"
     ]
    }
   ],
   "source": [
    "print(f'Eigenvectors are: {eigenvalues[1]}')"
   ]
  },
  {
   "cell_type": "markdown",
   "id": "e53fc631",
   "metadata": {},
   "source": [
    "### Linear Optimization"
   ]
  },
  {
   "cell_type": "markdown",
   "id": "b65d8858",
   "metadata": {},
   "source": [
    "\\begin{alignat*}{2}\n",
    "\\text{Minimize:} \\quad & -2x - 3y \\\\\n",
    "\\text{Subject to:} \\quad & x + y &\\leq 5 \\\\\n",
    "                        & x - 2y &\\leq 2 \\\\\n",
    "                        & -x + y &\\leq 3 \\\\\n",
    "                        & x &\\geq 0 \\\\\n",
    "                        & y &\\geq 0\n",
    "\\end{alignat*}"
   ]
  },
  {
   "cell_type": "code",
   "execution_count": 63,
   "id": "88ee5b4d",
   "metadata": {},
   "outputs": [
    {
     "name": "stdout",
     "output_type": "stream",
     "text": [
      "Optimal solution:\n",
      "x = 1.0\n",
      "y = 4.0\n"
     ]
    }
   ],
   "source": [
    "from scipy.optimize import linprog #Good tool for linear optimization\n",
    "\n",
    "# Objective function coefficients\n",
    "c = [-2, -3] #This is -2x-3y\n",
    "\n",
    "# Coefficient matrix for inequality constraints\n",
    "A = [[1, 1],  #1. x+y <= 5\n",
    "     [1, -2], #2. x-2y <=2\n",
    "     [-1, 1]] #3. -x+y <= 3\n",
    "\n",
    "# Right-hand side of inequality constraints\n",
    "b = [5, 2, 3] #1, 2, 3 \n",
    "\n",
    "# Bounds on variables\n",
    "x_bounds = (0, None) #x >= 0\n",
    "y_bounds = (0, None) #y >= 0\n",
    "\n",
    "# Solve linear optimization problem\n",
    "result = linprog(c, A_ub=A, b_ub=b, bounds=[x_bounds, y_bounds])\n",
    "\n",
    "# Print the optimal solution\n",
    "if result.success:\n",
    "    print(\"Optimal solution:\")\n",
    "    print(\"x =\", result.x[0])\n",
    "    print(\"y =\", result.x[1])\n",
    "else:\n",
    "    print(\"Optimization failed. Status code:\", result.status)"
   ]
  },
  {
   "cell_type": "code",
   "execution_count": 64,
   "id": "8d4d85b5",
   "metadata": {},
   "outputs": [
    {
     "data": {
      "image/png": "[encoded data removed]",
      "text/plain": [
       "<Figure size 640x480 with 1 Axes>"
      ]
     },
     "metadata": {},
     "output_type": "display_data"
    }
   ],
   "source": [
    "import numpy as np\n",
    "import matplotlib.pyplot as plt\n",
    "\n",
    "# Define the inequalities\n",
    "x = np.linspace(0, 10, 100)\n",
    "y1 = np.minimum(5 - x, np.inf)\n",
    "y2 = np.minimum((2 + x) / 2, np.inf)\n",
    "y3 = np.minimum(3 + x, np.inf)\n",
    "\n",
    "# Plot the feasible region\n",
    "plt.plot(x, y1, label=r'$x + y \\leq 5$')\n",
    "plt.plot(x, y2, label=r'$x - 2y \\leq 2$')\n",
    "plt.plot(x, y3, label=r'$-x + y \\leq 3$')\n",
    "\n",
    "# Fill the feasible region\n",
    "plt.fill_between(x, np.maximum(y1, 0), np.maximum(y2, 0), where=(y1 >= 0) & (y2 >= 0), color='grey', alpha=0.3)\n",
    "plt.fill_between(x, np.maximum(y1, 0), np.maximum(y3, 0), where=(y1 >= 0) & (y3 >= 0), color='blue', alpha=0.3)\n",
    "plt.fill_between(x, np.maximum(y2, 0), np.maximum(y3, 0), where=(y2 >= 0) & (y3 >= 0), color='yellow', alpha=0.3)\n",
    "\n",
    "plt.xlim(0, 10)\n",
    "plt.ylim(0, 10)\n",
    "plt.xlabel('x')\n",
    "plt.ylabel('y')\n",
    "plt.title('Feasible Region')\n",
    "plt.legend()\n",
    "plt.grid(True)\n",
    "plt.show()"
   ]
  },
  {
   "cell_type": "markdown",
   "id": "878aab92",
   "metadata": {},
   "source": [
    "# Summation"
   ]
  },
  {
   "cell_type": "markdown",
   "id": "5ca94eff",
   "metadata": {},
   "source": [
    "# $ \\sum_{i=0}^{5}i^2 $"
   ]
  },
  {
   "cell_type": "code",
   "execution_count": 65,
   "id": "97727f48",
   "metadata": {},
   "outputs": [
    {
     "name": "stdout",
     "output_type": "stream",
     "text": [
      "55\n"
     ]
    }
   ],
   "source": [
    "total = 0\n",
    "n = 5\n",
    "for i in range(n+1):\n",
    "    total += i**2\n",
    "print(total)"
   ]
  },
  {
   "cell_type": "markdown",
   "id": "5670b9ea",
   "metadata": {},
   "source": [
    "# Product"
   ]
  },
  {
   "cell_type": "markdown",
   "id": "3ec95b7c",
   "metadata": {},
   "source": [
    "# $ \\Pi_{i=1}^{5}i^2 $"
   ]
  },
  {
   "cell_type": "code",
   "execution_count": 66,
   "id": "e96c948d",
   "metadata": {},
   "outputs": [
    {
     "name": "stdout",
     "output_type": "stream",
     "text": [
      "14400\n"
     ]
    }
   ],
   "source": [
    "total = 1\n",
    "for i in range(1,n+1):\n",
    "    total *= i**2\n",
    "print(total)"
   ]
  },
  {
   "cell_type": "markdown",
   "id": "87469769",
   "metadata": {},
   "source": [
    "# Probability and Statistics"
   ]
  },
  {
   "cell_type": "markdown",
   "id": "f6ea0847",
   "metadata": {},
   "source": [
    "# Normal Distribtution"
   ]
  },
  {
   "cell_type": "markdown",
   "id": "132bfc62",
   "metadata": {},
   "source": [
    "### Probability Density Function (PDF):\n",
    "\n",
    "$ f(x|\\mu,\\sigma) = \\frac{1}{\\sqrt{2\\pi\\sigma^2}}e^{-\\frac{(x-\\mu)^2}{2\\sigma^2}} $\n"
   ]
  },
  {
   "cell_type": "code",
   "execution_count": 67,
   "id": "df827ede",
   "metadata": {},
   "outputs": [
    {
     "data": {
      "image/png": "[encoded data removed]",
      "text/plain": [
       "<Figure size 640x480 with 1 Axes>"
      ]
     },
     "metadata": {},
     "output_type": "display_data"
    }
   ],
   "source": [
    "from scipy.stats import norm\n",
    "import matplotlib.pyplot as plt\n",
    "\n",
    "# Generate random samples from a standard normal distribution\n",
    "samples = norm.rvs(size=1000)\n",
    "\n",
    "# Plot a histogram of the samples\n",
    "plt.hist(samples, bins=30, density=True, alpha=0.7)\n",
    "plt.xlabel('x')\n",
    "plt.ylabel('Probability Density')\n",
    "plt.title('Standard Normal Distribution')\n",
    "plt.show()"
   ]
  },
  {
   "cell_type": "markdown",
   "id": "6c267dbe",
   "metadata": {},
   "source": [
    "### Cumulative Distributive Function (CDF): \n",
    "$ F(x|\\mu,\\sigma) = \\frac{1}{2}\\left[1 + \\text{erf}\\left(\\frac{x-\\mu}{\\sqrt{2\\sigma^2}}\\right)\\right] $"
   ]
  },
  {
   "cell_type": "code",
   "execution_count": 68,
   "id": "416f4a77",
   "metadata": {},
   "outputs": [
    {
     "data": {
      "image/png": "[encoded data removed]",
      "text/plain": [
       "<Figure size 640x480 with 1 Axes>"
      ]
     },
     "metadata": {},
     "output_type": "display_data"
    }
   ],
   "source": [
    "from scipy.stats import norm\n",
    "import numpy as np\n",
    "import matplotlib.pyplot as plt\n",
    "\n",
    "# Define the range of x values\n",
    "x = np.linspace(-4, 4, 100)\n",
    "\n",
    "# Compute the CDF values for the normal distribution\n",
    "mu = 0\n",
    "sigma = 1\n",
    "cdf_values = norm.cdf(x, loc=mu, scale=sigma)\n",
    "\n",
    "# Plot the CDF\n",
    "plt.plot(x, cdf_values)\n",
    "plt.xlabel('x')\n",
    "plt.ylabel('CDF')\n",
    "plt.title('CDF of Normal Distribution')\n",
    "plt.grid(True)\n",
    "plt.show()"
   ]
  },
  {
   "cell_type": "markdown",
   "id": "5582d3c7",
   "metadata": {},
   "source": [
    "# Uniform Distribution"
   ]
  },
  {
   "cell_type": "markdown",
   "id": "e8c0e5e1",
   "metadata": {},
   "source": [
    "### Probability Density Function (PDF):\n",
    "\n",
    "$ f(x|a,b) = \\frac{1}{b-a} \\quad \\text{for } a \\leq x \\leq b $"
   ]
  },
  {
   "cell_type": "code",
   "execution_count": 69,
   "id": "f824966d",
   "metadata": {},
   "outputs": [
    {
     "data": {
      "image/png": "[encoded data removed]",
      "text/plain": [
       "<Figure size 640x480 with 1 Axes>"
      ]
     },
     "metadata": {},
     "output_type": "display_data"
    }
   ],
   "source": [
    "from scipy.stats import uniform\n",
    "import matplotlib.pyplot as plt\n",
    "\n",
    "# Generate random samples from a uniform distribution\n",
    "samples = uniform.rvs(size=1000)\n",
    "\n",
    "# Plot a histogram of the samples\n",
    "plt.hist(samples, bins=30, density=True, alpha=0.7)\n",
    "plt.xlabel('x')\n",
    "plt.ylabel('Probability Density')\n",
    "plt.title('Uniform Distribution')\n",
    "plt.show()"
   ]
  },
  {
   "cell_type": "markdown",
   "id": "f763e271",
   "metadata": {},
   "source": [
    "### Cumulative Distributive Function (CDF): \n",
    "$\n",
    "F(x|a,b) = \\begin{cases} \n",
    "             0 & \\text{for } x < a \\\\\n",
    "             \\frac{x-a}{b-a} & \\text{for } a \\leq x \\leq b \\\\\n",
    "             1 & \\text{for } x > b\n",
    "           \\end{cases}\n",
    "$"
   ]
  },
  {
   "cell_type": "code",
   "execution_count": 70,
   "id": "18eaa409",
   "metadata": {},
   "outputs": [
    {
     "data": {
      "image/png": "[encoded data removed]",
      "text/plain": [
       "<Figure size 640x480 with 1 Axes>"
      ]
     },
     "metadata": {},
     "output_type": "display_data"
    }
   ],
   "source": [
    "from scipy.stats import uniform\n",
    "import numpy as np\n",
    "import matplotlib.pyplot as plt\n",
    "\n",
    "# Define the range of x values\n",
    "x = np.linspace(0, 1, 100)\n",
    "\n",
    "# Compute the CDF values for the uniform distribution\n",
    "a = 0\n",
    "b = 1\n",
    "cdf_values = uniform.cdf(x, loc=a, scale=b-a)\n",
    "\n",
    "# Plot the CDF\n",
    "plt.plot(x, cdf_values)\n",
    "plt.xlabel('x')\n",
    "plt.ylabel('CDF')\n",
    "plt.title('CDF of Uniform Distribution')\n",
    "plt.grid(True)\n",
    "plt.show()\n"
   ]
  },
  {
   "cell_type": "markdown",
   "id": "7e210e50",
   "metadata": {},
   "source": [
    "# Exponential Distribution"
   ]
  },
  {
   "cell_type": "markdown",
   "id": "6a2dec71",
   "metadata": {},
   "source": [
    "### Probability Density Function (PDF):\n",
    "\n",
    "$ f(x|\\lambda) = \\lambda e^{-\\lambda x} \\quad \\text{for } x \\geq 0 $"
   ]
  },
  {
   "cell_type": "code",
   "execution_count": 71,
   "id": "07f5df1d",
   "metadata": {},
   "outputs": [
    {
     "data": {
      "image/png": "[encoded data removed]",
      "text/plain": [
       "<Figure size 640x480 with 1 Axes>"
      ]
     },
     "metadata": {},
     "output_type": "display_data"
    }
   ],
   "source": [
    "from scipy.stats import expon\n",
    "import matplotlib.pyplot as plt\n",
    "\n",
    "# Generate random samples from an exponential distribution\n",
    "samples = expon.rvs(scale=1, size=1000)\n",
    "\n",
    "# Plot a histogram of the samples\n",
    "plt.hist(samples, bins=30, density=True, alpha=0.7)\n",
    "plt.xlabel('x')\n",
    "plt.ylabel('Probability Density')\n",
    "plt.title('Exponential Distribution')\n",
    "plt.show()"
   ]
  },
  {
   "cell_type": "markdown",
   "id": "8a7596d4",
   "metadata": {},
   "source": [
    "### Cumulative Distributive Function (CDF):\n",
    "\n",
    "$F(x|\\lambda) = 1 - e^{-\\lambda x} \\quad \\text{for } x \\geq 0 $"
   ]
  },
  {
   "cell_type": "code",
   "execution_count": 72,
   "id": "75d4cb6b",
   "metadata": {},
   "outputs": [
    {
     "data": {
      "image/png": "[encoded data removed]",
      "text/plain": [
       "<Figure size 640x480 with 1 Axes>"
      ]
     },
     "metadata": {},
     "output_type": "display_data"
    }
   ],
   "source": [
    "from scipy.stats import expon\n",
    "import numpy as np\n",
    "import matplotlib.pyplot as plt\n",
    "\n",
    "# Define the range of x values\n",
    "x = np.linspace(0, 5, 100)\n",
    "\n",
    "# Compute the CDF values for the exponential distribution\n",
    "lambda_param = 0.5\n",
    "cdf_values = expon.cdf(x, scale=1/lambda_param)\n",
    "\n",
    "# Plot the CDF\n",
    "plt.plot(x, cdf_values)\n",
    "plt.xlabel('x')\n",
    "plt.ylabel('CDF')\n",
    "plt.title('CDF of Exponential Distribution')\n",
    "plt.grid(True)\n",
    "plt.show()"
   ]
  },
  {
   "cell_type": "markdown",
   "id": "96fef732",
   "metadata": {},
   "source": [
    "# Poisson Distribution"
   ]
  },
  {
   "cell_type": "markdown",
   "id": "eb6e3812",
   "metadata": {},
   "source": [
    "### Probability Density Function (PDF):\n",
    "\n",
    "$ P(X=k|\\lambda) = \\frac{e^{-\\lambda}\\lambda^k}{k!} \\quad \\text{for } k = 0, 1, 2, \\ldots $"
   ]
  },
  {
   "cell_type": "code",
   "execution_count": 73,
   "id": "574c68b7",
   "metadata": {},
   "outputs": [
    {
     "data": {
      "image/png": "[encoded data removed]",
      "text/plain": [
       "<Figure size 640x480 with 1 Axes>"
      ]
     },
     "metadata": {},
     "output_type": "display_data"
    }
   ],
   "source": [
    "from scipy.stats import poisson\n",
    "import matplotlib.pyplot as plt\n",
    "\n",
    "# Generate random samples from a Poisson distribution\n",
    "samples = poisson.rvs(mu=3, size=1000)\n",
    "\n",
    "# Plot a histogram of the samples\n",
    "plt.hist(samples, bins=30, density=True, alpha=0.7)\n",
    "plt.xlabel('x')\n",
    "plt.ylabel('Probability Density')\n",
    "plt.title('Poisson Distribution')\n",
    "plt.show()"
   ]
  },
  {
   "cell_type": "markdown",
   "id": "83520f1b",
   "metadata": {},
   "source": [
    "### Cumulative Distributive Function (CDF):\n",
    "\n",
    "$ F(X=k|\\lambda) = \\sum_{i=0}^{k} \\frac{e^{-\\lambda}\\lambda^i}{i!} \\quad \\text{for } k = 0, 1, 2, \\ldots $"
   ]
  },
  {
   "cell_type": "code",
   "execution_count": 74,
   "id": "04207fba",
   "metadata": {},
   "outputs": [
    {
     "data": {
      "image/png": "[encoded data removed]",
      "text/plain": [
       "<Figure size 640x480 with 1 Axes>"
      ]
     },
     "metadata": {},
     "output_type": "display_data"
    }
   ],
   "source": [
    "from scipy.stats import poisson\n",
    "import numpy as np\n",
    "import matplotlib.pyplot as plt\n",
    "\n",
    "# Define the range of k values\n",
    "k = np.arange(0, 10)\n",
    "\n",
    "# Compute the CDF values for the Poisson distribution\n",
    "lambda_param = 2\n",
    "cdf_values = poisson.cdf(k, mu=lambda_param)\n",
    "\n",
    "# Plot the CDF\n",
    "plt.step(k, cdf_values, where='post')\n",
    "plt.xlabel('k')\n",
    "plt.ylabel('CDF')\n",
    "plt.title('CDF of Poisson Distribution')\n",
    "plt.grid(True)\n",
    "plt.show()"
   ]
  },
  {
   "cell_type": "markdown",
   "id": "13d69281",
   "metadata": {},
   "source": [
    "# Binomial Distribution"
   ]
  },
  {
   "cell_type": "markdown",
   "id": "f8e61991",
   "metadata": {},
   "source": [
    "### Probability Density Function (PDF):\n",
    "$ P(X=k|n,p) = \\binom{n}{k} p^k (1-p)^{n-k} \\quad \\text{for } k = 0, 1, 2, \\ldots, n $"
   ]
  },
  {
   "cell_type": "code",
   "execution_count": 75,
   "id": "3954ba70",
   "metadata": {},
   "outputs": [
    {
     "data": {
      "image/png": "[encoded data removed]",
      "text/plain": [
       "<Figure size 640x480 with 1 Axes>"
      ]
     },
     "metadata": {},
     "output_type": "display_data"
    }
   ],
   "source": [
    "from scipy.stats import binom\n",
    "import matplotlib.pyplot as plt\n",
    "\n",
    "# Parameters of the binomial distribution\n",
    "n = 10  # Number of trials\n",
    "p = 0.5  # Probability of success\n",
    "\n",
    "# Generate random samples from a binomial distribution\n",
    "samples = binom.rvs(n=n, p=p, size=1000)\n",
    "\n",
    "# Plot a histogram of the samples\n",
    "plt.hist(samples, bins=range(n + 2), density=True, alpha=0.7)\n",
    "plt.xlabel('x')\n",
    "plt.ylabel('Probability Density')\n",
    "plt.title('Binomial Distribution')\n",
    "plt.show()"
   ]
  },
  {
   "cell_type": "markdown",
   "id": "ef23d8a2",
   "metadata": {},
   "source": [
    "### Cumulative Distributive Function (CDF):\n",
    "$ F(X=k|n,p) = \\sum_{i=0}^{k} \\binom{n}{i} p^i (1-p)^{n-i} \\quad \\text{for } k = 0, 1, 2, \\ldots, n $"
   ]
  },
  {
   "cell_type": "code",
   "execution_count": 76,
   "id": "e6ef08b5",
   "metadata": {},
   "outputs": [
    {
     "data": {
      "image/png": "[encoded data removed]",
      "text/plain": [
       "<Figure size 640x480 with 1 Axes>"
      ]
     },
     "metadata": {},
     "output_type": "display_data"
    }
   ],
   "source": [
    "from scipy.stats import binom\n",
    "import numpy as np\n",
    "import matplotlib.pyplot as plt\n",
    "\n",
    "# Define the range of k values\n",
    "k = np.arange(0, 11)\n",
    "\n",
    "# Compute the CDF values for the binomial distribution\n",
    "n = 10\n",
    "p = 0.4\n",
    "cdf_values = binom.cdf(k, n, p)\n",
    "\n",
    "# Plot the CDF\n",
    "plt.step(k, cdf_values, where='post')\n",
    "plt.xlabel('k')\n",
    "plt.ylabel('CDF')\n",
    "plt.title('CDF of Binomial Distribution')\n",
    "plt.grid(True)\n",
    "plt.show()"
   ]
  },
  {
   "cell_type": "code",
   "execution_count": null,
   "id": "3b3de971",
   "metadata": {},
   "outputs": [],
   "source": []
  }
 ],
 "metadata": {
  "kernelspec": {
   "display_name": "Python 3 (ipykernel)",
   "language": "python",
   "name": "python3"
  },
  "language_info": {
   "codemirror_mode": {
    "name": "ipython",
    "version": 3
   },
   "file_extension": ".py",
   "mimetype": "text/x-python",
   "name": "python",
   "nbconvert_exporter": "python",
   "pygments_lexer": "ipython3",
   "version": "3.9.13"
  }
 },
 "nbformat": 4,
 "nbformat_minor": 5
}
