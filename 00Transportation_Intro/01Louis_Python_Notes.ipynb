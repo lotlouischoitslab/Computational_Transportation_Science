{
 "cells": [
  {
   "cell_type": "markdown",
   "id": "be937855",
   "metadata": {},
   "source": [
    "# Louis' Python Notes"
   ]
  },
  {
   "cell_type": "markdown",
   "id": "56e9f67a",
   "metadata": {},
   "source": [
    "## 0. Basic Variable Types"
   ]
  },
  {
   "cell_type": "code",
   "execution_count": 1,
   "id": "a9d8383f",
   "metadata": {},
   "outputs": [
    {
     "data": {
      "text/plain": [
       "8"
      ]
     },
     "execution_count": 1,
     "metadata": {},
     "output_type": "execute_result"
    }
   ],
   "source": [
    "#Arithmetic\n",
    "a = 5\n",
    "b = 3\n",
    "a+b #addition"
   ]
  },
  {
   "cell_type": "code",
   "execution_count": 2,
   "id": "972fe2f0",
   "metadata": {},
   "outputs": [
    {
     "data": {
      "text/plain": [
       "2"
      ]
     },
     "execution_count": 2,
     "metadata": {},
     "output_type": "execute_result"
    }
   ],
   "source": [
    "a-b #subtraction"
   ]
  },
  {
   "cell_type": "code",
   "execution_count": 3,
   "id": "bafaeef9",
   "metadata": {},
   "outputs": [
    {
     "data": {
      "text/plain": [
       "15"
      ]
     },
     "execution_count": 3,
     "metadata": {},
     "output_type": "execute_result"
    }
   ],
   "source": [
    "a*b #multiplication"
   ]
  },
  {
   "cell_type": "code",
   "execution_count": 4,
   "id": "d814a61e",
   "metadata": {},
   "outputs": [
    {
     "data": {
      "text/plain": [
       "1.6666666666666667"
      ]
     },
     "execution_count": 4,
     "metadata": {},
     "output_type": "execute_result"
    }
   ],
   "source": [
    "a/b #division"
   ]
  },
  {
   "cell_type": "code",
   "execution_count": 5,
   "id": "3cad6772",
   "metadata": {},
   "outputs": [
    {
     "data": {
      "text/plain": [
       "1"
      ]
     },
     "execution_count": 5,
     "metadata": {},
     "output_type": "execute_result"
    }
   ],
   "source": [
    "a//b #integer division"
   ]
  },
  {
   "cell_type": "code",
   "execution_count": 6,
   "id": "39ac2321",
   "metadata": {},
   "outputs": [
    {
     "data": {
      "text/plain": [
       "2"
      ]
     },
     "execution_count": 6,
     "metadata": {},
     "output_type": "execute_result"
    }
   ],
   "source": [
    "a%b #remainder"
   ]
  },
  {
   "cell_type": "code",
   "execution_count": 7,
   "id": "c57280f7",
   "metadata": {},
   "outputs": [
    {
     "data": {
      "text/plain": [
       "1.67"
      ]
     },
     "execution_count": 7,
     "metadata": {},
     "output_type": "execute_result"
    }
   ],
   "source": [
    "#round to 2 decimal places\n",
    "result = a/b\n",
    "k = 2 \n",
    "round(result,k)"
   ]
  },
  {
   "cell_type": "code",
   "execution_count": 8,
   "id": "d02836db",
   "metadata": {},
   "outputs": [
    {
     "name": "stdout",
     "output_type": "stream",
     "text": [
      "Louis is 22 years old.\n"
     ]
    }
   ],
   "source": [
    "age = 22 #how to format certain strings\n",
    "print(f'Louis is {age} years old.')"
   ]
  },
  {
   "cell_type": "code",
   "execution_count": 9,
   "id": "54675613",
   "metadata": {},
   "outputs": [
    {
     "name": "stdout",
     "output_type": "stream",
     "text": [
      "Louis Sungwoo Cho UIUC\n"
     ]
    }
   ],
   "source": [
    "name = 'Louis Sungwoo Cho' #strings\n",
    "school = 'UIUC'\n",
    "print(name,school) #comma adds a space between two variables when printing in python"
   ]
  },
  {
   "cell_type": "markdown",
   "id": "185b7b5f",
   "metadata": {},
   "source": [
    "## 1. Python Functions & Basic Data Structures"
   ]
  },
  {
   "cell_type": "code",
   "execution_count": 10,
   "id": "f2730089",
   "metadata": {},
   "outputs": [],
   "source": [
    "louis_list = [] #this is a list"
   ]
  },
  {
   "cell_type": "code",
   "execution_count": 11,
   "id": "ac678ded",
   "metadata": {},
   "outputs": [
    {
     "data": {
      "text/plain": [
       "[0]"
      ]
     },
     "execution_count": 11,
     "metadata": {},
     "output_type": "execute_result"
    }
   ],
   "source": [
    "louis_list.append(0) #append 0 to list\n",
    "louis_list"
   ]
  },
  {
   "cell_type": "code",
   "execution_count": 12,
   "id": "bdde7804",
   "metadata": {},
   "outputs": [
    {
     "data": {
      "text/plain": [
       "[0, 0, 1, 2, 3, 4, 5, 6, 7, 8, 9]"
      ]
     },
     "execution_count": 12,
     "metadata": {},
     "output_type": "execute_result"
    }
   ],
   "source": [
    "for i in range(10):\n",
    "    louis_list.append(i)\n",
    "louis_list"
   ]
  },
  {
   "cell_type": "code",
   "execution_count": 13,
   "id": "9b0e0c88",
   "metadata": {},
   "outputs": [
    {
     "data": {
      "text/plain": [
       "[0, 1, 2, 3, 4, 5, 6, 7, 8, 9]"
      ]
     },
     "execution_count": 13,
     "metadata": {},
     "output_type": "execute_result"
    }
   ],
   "source": [
    "louis_list.pop(0) #remove the element at the 0th index\n",
    "louis_list"
   ]
  },
  {
   "cell_type": "code",
   "execution_count": 14,
   "id": "97cc7060",
   "metadata": {},
   "outputs": [
    {
     "data": {
      "text/plain": [
       "[0, 2, 3, 4, 5, 6, 7, 8, 9]"
      ]
     },
     "execution_count": 14,
     "metadata": {},
     "output_type": "execute_result"
    }
   ],
   "source": [
    "louis_list.pop(1) #remove the elemt at the 1th index\n",
    "louis_list"
   ]
  },
  {
   "cell_type": "code",
   "execution_count": 15,
   "id": "3fbda4f8",
   "metadata": {},
   "outputs": [
    {
     "data": {
      "text/plain": [
       "[0, 2, 3, 4, 5, 3, 6, 7, 8, 9]"
      ]
     },
     "execution_count": 15,
     "metadata": {},
     "output_type": "execute_result"
    }
   ],
   "source": [
    "louis_list.insert(5,3) #insert 3 at position 5\n",
    "louis_list"
   ]
  },
  {
   "cell_type": "code",
   "execution_count": 16,
   "id": "2f9f2470",
   "metadata": {},
   "outputs": [
    {
     "data": {
      "text/plain": [
       "[1, 2, 4, 5, 5, 6, 7]"
      ]
     },
     "execution_count": 16,
     "metadata": {},
     "output_type": "execute_result"
    }
   ],
   "source": [
    "unsorted = [5,1,7,6,2,4,5] #Python sort function\n",
    "sorted_ = sorted(unsorted)\n",
    "sorted_"
   ]
  },
  {
   "cell_type": "code",
   "execution_count": 17,
   "id": "c7cca707",
   "metadata": {},
   "outputs": [
    {
     "name": "stdout",
     "output_type": "stream",
     "text": [
      "Index: 0 | Value: 1\n",
      "Index: 1 | Value: 2\n",
      "Index: 2 | Value: 4\n",
      "Index: 3 | Value: 5\n",
      "Index: 4 | Value: 5\n",
      "Index: 5 | Value: 6\n",
      "Index: 6 | Value: 7\n"
     ]
    }
   ],
   "source": [
    "for key,val in enumerate(sorted_): #If you want to print out the index of the array and the value at the same time, we call enumerate\n",
    "    print(f'Index: {key} | Value: {val}')"
   ]
  },
  {
   "cell_type": "code",
   "execution_count": 18,
   "id": "4737baba",
   "metadata": {},
   "outputs": [
    {
     "data": {
      "text/plain": [
       "1"
      ]
     },
     "execution_count": 18,
     "metadata": {},
     "output_type": "execute_result"
    }
   ],
   "source": [
    "#Tuples:\n",
    "a = (1,2)\n",
    "b = (3,4)\n",
    "# a.append(3) Note this will not work because tuples are immutable\n",
    "a[0] #Get's the first element "
   ]
  },
  {
   "cell_type": "code",
   "execution_count": 19,
   "id": "92a159bf",
   "metadata": {},
   "outputs": [],
   "source": [
    "c= (5,6)\n",
    "d = (7,8)\n",
    "e = (9,10)"
   ]
  },
  {
   "cell_type": "code",
   "execution_count": 20,
   "id": "2178bcb8",
   "metadata": {},
   "outputs": [
    {
     "name": "stdout",
     "output_type": "stream",
     "text": [
      "Tuple 0: (1, 2)\n",
      "Tuple 1: (3, 4)\n",
      "Tuple 2: (5, 6)\n",
      "Tuple 3: (7, 8)\n",
      "Tuple 4: (9, 10)\n"
     ]
    }
   ],
   "source": [
    "tup_list = [a,b,c,d,e]\n",
    "for key,t in enumerate(tup_list):\n",
    "    print(f'Tuple {key}: {t}')"
   ]
  },
  {
   "cell_type": "code",
   "execution_count": 31,
   "id": "42d6187e",
   "metadata": {},
   "outputs": [
    {
     "data": {
      "text/plain": [
       "[[0, 0], [0, 0], [0, 0]]"
      ]
     },
     "execution_count": 31,
     "metadata": {},
     "output_type": "execute_result"
    }
   ],
   "source": [
    "#We can work with 2-Dimensional Arrays\n",
    "#We will be creating a 3x2 matrix populating each element with 0.\n",
    "rows = 3\n",
    "cols = 2\n",
    "matrix = [[0 for j in range(cols)]for i in range(rows)]\n",
    "matrix"
   ]
  },
  {
   "cell_type": "code",
   "execution_count": 32,
   "id": "7dd814cd",
   "metadata": {},
   "outputs": [
    {
     "data": {
      "text/plain": [
       "[[0, 1], [1, 2], [2, 3]]"
      ]
     },
     "execution_count": 32,
     "metadata": {},
     "output_type": "execute_result"
    }
   ],
   "source": [
    "#How to traverse 2D arrays in Python\n",
    "#Guess what this function is trying to do\n",
    "for i in range(rows): #for each row\n",
    "    for j in range(cols): #we will be traversing each columns\n",
    "        matrix[i][j] = i+j\n",
    "matrix"
   ]
  },
  {
   "cell_type": "markdown",
   "id": "a7bc5bb0",
   "metadata": {},
   "source": [
    "## 2. Python Functions"
   ]
  },
  {
   "cell_type": "code",
   "execution_count": 21,
   "id": "578196dc",
   "metadata": {},
   "outputs": [],
   "source": [
    "#How to define a function in Python\n",
    "#Always start off by writing 'def'\n",
    "#def() inside the parenthesis, you will put the variables\n",
    "\n",
    "#Compute Fibonnacci Number f[i] = f[i-1] + f[i-2]\n",
    "\n",
    "def fib(n):\n",
    "    f = [0 for i in range(n)] #initializes 0 for n times for an array\n",
    "    f[0] = 0 #sets the first element to 0\n",
    "    f[1] = 1 #sets the second element to 1\n",
    "    \n",
    "    for i in range(2,n): #for i in range 2 to the index of the last element n-1\n",
    "        f[i] = f[i-1]+f[i-2] #assign the variable\n",
    "        \n",
    "    return f[n-1] #return the last element of the variable"
   ]
  },
  {
   "cell_type": "code",
   "execution_count": 22,
   "id": "c58ee669",
   "metadata": {},
   "outputs": [
    {
     "data": {
      "text/plain": [
       "13"
      ]
     },
     "execution_count": 22,
     "metadata": {},
     "output_type": "execute_result"
    }
   ],
   "source": [
    "answer = fib(8)\n",
    "answer"
   ]
  },
  {
   "cell_type": "code",
   "execution_count": 23,
   "id": "5e1d6c96",
   "metadata": {},
   "outputs": [],
   "source": [
    "#You can return multiple variables using Python functions\n",
    "def fib(n):\n",
    "    f = [0 for i in range(n)] #initializes 0 for n times\n",
    "    f[0] = 0 #sets the first element to 0\n",
    "    f[1] = 1 #sets the second element to 1\n",
    "    \n",
    "    for i in range(2,n): #for i in range 2 to the index of the last element n-1\n",
    "        f[i] = f[i-1]+f[i-2] #assign the variable\n",
    "        \n",
    "    return f,f[n-1] #return the last element of the variable"
   ]
  },
  {
   "cell_type": "code",
   "execution_count": 24,
   "id": "24cedd73",
   "metadata": {},
   "outputs": [
    {
     "name": "stdout",
     "output_type": "stream",
     "text": [
      "Fibonacci Dynamic Programming Array:[0, 1, 1, 2, 3, 5, 8, 13]\n",
      "Answer of F(n) when n = 8 is 13\n"
     ]
    }
   ],
   "source": [
    "n = 8\n",
    "dp,answer = fib(n)\n",
    "print(f'Fibonacci Dynamic Programming Array:{dp}')\n",
    "print(f'Answer of F(n) when n = 8 is {answer}')"
   ]
  },
  {
   "cell_type": "code",
   "execution_count": 47,
   "id": "633b41a4",
   "metadata": {},
   "outputs": [
    {
     "name": "stdout",
     "output_type": "stream",
     "text": [
      "    *    \n",
      "   ***   \n",
      "  *****  \n",
      " ******* \n",
      "*********\n"
     ]
    }
   ],
   "source": [
    "def print_pyramid(rows):\n",
    "    for i in range(rows):\n",
    "        print(\" \" * (rows - i - 1), end=\"\")\n",
    "        print(\"*\" * (2 * i + 1), end=\"\")\n",
    "        print(\" \" * (rows - i - 1))\n",
    "\n",
    "# Example usage\n",
    "num_rows = 5\n",
    "print_pyramid(num_rows)"
   ]
  },
  {
   "cell_type": "code",
   "execution_count": 56,
   "id": "6e69cbf4",
   "metadata": {},
   "outputs": [
    {
     "name": "stdout",
     "output_type": "stream",
     "text": [
      "*********\n",
      " ******* \n",
      "  *****  \n",
      "   ***   \n",
      "    *    \n"
     ]
    }
   ],
   "source": [
    "def print_pyramid(rows):\n",
    "    for i in range(rows-1,-1,-1):\n",
    "        print(\" \" * (rows - i - 1), end=\"\")\n",
    "        print(\"*\" * (2 * i + 1), end=\"\")\n",
    "        print(\" \" * (rows - i - 1))\n",
    "\n",
    "# Example usage\n",
    "num_rows = 5\n",
    "print_pyramid(num_rows)"
   ]
  },
  {
   "cell_type": "code",
   "execution_count": 57,
   "id": "ba7a6ac9",
   "metadata": {},
   "outputs": [
    {
     "name": "stdout",
     "output_type": "stream",
     "text": [
      "    \n",
      "*       \n",
      "***     \n",
      "*****   \n",
      "******* \n",
      "*********"
     ]
    }
   ],
   "source": [
    "def print_pyramid(rows):\n",
    "    for i in range(rows):\n",
    "        print(\" \" * (rows - i - 1))\n",
    "        print(\"*\" * (2 * i + 1), end=\"\")\n",
    "        print(\" \" * (rows - i - 1), end=\"\")\n",
    "        \n",
    "# Example usage\n",
    "num_rows = 5\n",
    "print_pyramid(num_rows)"
   ]
  },
  {
   "cell_type": "code",
   "execution_count": 60,
   "id": "5be17f7e",
   "metadata": {},
   "outputs": [
    {
     "name": "stdout",
     "output_type": "stream",
     "text": [
      "\n",
      "***********\n",
      "********* \n",
      "*******   \n",
      "*****     \n",
      "***       \n",
      "*    "
     ]
    }
   ],
   "source": [
    "def print_pyramid(rows):\n",
    "    for i in range(rows,-1,-1):\n",
    "        print(\" \" * (rows - i - 1))\n",
    "        print(\"*\" * (2 * i + 1), end=\"\")\n",
    "        print(\" \" * (rows - i - 1), end=\"\")\n",
    "        \n",
    "# Example usage\n",
    "num_rows = 5\n",
    "print_pyramid(num_rows)"
   ]
  },
  {
   "cell_type": "code",
   "execution_count": 72,
   "id": "ebc9fd24",
   "metadata": {},
   "outputs": [
    {
     "name": "stdout",
     "output_type": "stream",
     "text": [
      " *****\n",
      "  ****\n",
      "   ***\n",
      "    **\n",
      "     *\n"
     ]
    }
   ],
   "source": [
    "def print_pyramid(rows):\n",
    "    for i in range(rows):\n",
    "        print(\" \" * (i+1), end=\"\")\n",
    "        print(\"*\" * (rows-i))\n",
    "\n",
    "# Example usage\n",
    "num_rows = 5\n",
    "print_pyramid(num_rows)\n"
   ]
  },
  {
   "cell_type": "markdown",
   "id": "3c701e3e",
   "metadata": {},
   "source": [
    "### 3. Python Dictionaries & Data Frames"
   ]
  },
  {
   "cell_type": "code",
   "execution_count": 27,
   "id": "51195250",
   "metadata": {},
   "outputs": [
    {
     "data": {
      "text/plain": [
       "[0, 0, 0, 0, 1, 1, 1, 1, 2, 2, 2, 2, 3, 3, 3, 4, 5, 5, 5, 5, 6, 6, 6, 6]"
      ]
     },
     "execution_count": 27,
     "metadata": {},
     "output_type": "execute_result"
    }
   ],
   "source": [
    "# Dictionaries are useful to see how common certain elements are in a list\n",
    "\n",
    "louis = [0,0,0,0,1,1,1,1,2,2,2,2,3,3,3,4,5,5,5,5,6,6,6,6]\n",
    "louis"
   ]
  },
  {
   "cell_type": "code",
   "execution_count": 28,
   "id": "f8e78a61",
   "metadata": {},
   "outputs": [],
   "source": [
    "louis_dict = dict() #we can use this to initialize a dictionary\n",
    "louis_dict = {} #or this is fine too"
   ]
  },
  {
   "cell_type": "code",
   "execution_count": 29,
   "id": "6dc22b2e",
   "metadata": {},
   "outputs": [],
   "source": [
    "# We are going to create a function to determine how much unique elements are repeated in the list given above\n",
    "def count_elem(array: list) -> dict: #what this means is that the input must be a list type and return a dict type\n",
    "    louis_dict = dict() #Initalize empty dictionary\n",
    "    for elem in array:\n",
    "        if elem not in louis_dict:\n",
    "            louis_dict[elem] = 1\n",
    "        else:\n",
    "            louis_dict[elem]+=1\n",
    "    return louis_dict"
   ]
  },
  {
   "cell_type": "code",
   "execution_count": 30,
   "id": "4a2ce178",
   "metadata": {},
   "outputs": [
    {
     "data": {
      "text/plain": [
       "{0: 4, 1: 4, 2: 4, 3: 3, 4: 1, 5: 4, 6: 4}"
      ]
     },
     "execution_count": 30,
     "metadata": {},
     "output_type": "execute_result"
    }
   ],
   "source": [
    "answers = count_elem(louis) # we will then call the function like this\n",
    "answers"
   ]
  },
  {
   "cell_type": "code",
   "execution_count": 34,
   "id": "45173e3b",
   "metadata": {},
   "outputs": [],
   "source": [
    "# DataFrames\n",
    "df = {\n",
    "    'Student':['Louis','Anish','Alex','Jay','Ethan','Christian','Javi','Hugo','Yug'],\n",
    "    'Major':['CEE','CS','CS','CompE','CEE','AE','EE','ME','CS'],\n",
    "    'Minor':['CS','NA','Math','Phys','CS','CS','CS','CS','EE']\n",
    "}"
   ]
  },
  {
   "cell_type": "code",
   "execution_count": 35,
   "id": "d9a6c802",
   "metadata": {},
   "outputs": [
    {
     "data": {
      "text/plain": [
       "{'Student': ['Louis',\n",
       "  'Anish',\n",
       "  'Alex',\n",
       "  'Jay',\n",
       "  'Ethan',\n",
       "  'Christian',\n",
       "  'Javi',\n",
       "  'Hugo',\n",
       "  'Yug'],\n",
       " 'Major': ['CEE', 'CS', 'CS', 'CompE', 'CEE', 'AE', 'EE', 'ME', 'CS'],\n",
       " 'Minor': ['CS', 'NA', 'Math', 'Phys', 'CS', 'CS', 'CS', 'CS', 'EE']}"
      ]
     },
     "execution_count": 35,
     "metadata": {},
     "output_type": "execute_result"
    }
   ],
   "source": [
    "df"
   ]
  },
  {
   "cell_type": "code",
   "execution_count": 36,
   "id": "0bed3fa5",
   "metadata": {},
   "outputs": [
    {
     "data": {
      "text/html": [
       "<div>\n",
       "<style scoped>\n",
       "    .dataframe tbody tr th:only-of-type {\n",
       "        vertical-align: middle;\n",
       "    }\n",
       "\n",
       "    .dataframe tbody tr th {\n",
       "        vertical-align: top;\n",
       "    }\n",
       "\n",
       "    .dataframe thead th {\n",
       "        text-align: right;\n",
       "    }\n",
       "</style>\n",
       "<table border=\"1\" class=\"dataframe\">\n",
       "  <thead>\n",
       "    <tr style=\"text-align: right;\">\n",
       "      <th></th>\n",
       "      <th>Student</th>\n",
       "      <th>Major</th>\n",
       "      <th>Minor</th>\n",
       "    </tr>\n",
       "  </thead>\n",
       "  <tbody>\n",
       "    <tr>\n",
       "      <th>0</th>\n",
       "      <td>Louis</td>\n",
       "      <td>CEE</td>\n",
       "      <td>CS</td>\n",
       "    </tr>\n",
       "    <tr>\n",
       "      <th>1</th>\n",
       "      <td>Anish</td>\n",
       "      <td>CS</td>\n",
       "      <td>NA</td>\n",
       "    </tr>\n",
       "    <tr>\n",
       "      <th>2</th>\n",
       "      <td>Alex</td>\n",
       "      <td>CS</td>\n",
       "      <td>Math</td>\n",
       "    </tr>\n",
       "    <tr>\n",
       "      <th>3</th>\n",
       "      <td>Jay</td>\n",
       "      <td>CompE</td>\n",
       "      <td>Phys</td>\n",
       "    </tr>\n",
       "    <tr>\n",
       "      <th>4</th>\n",
       "      <td>Ethan</td>\n",
       "      <td>CEE</td>\n",
       "      <td>CS</td>\n",
       "    </tr>\n",
       "    <tr>\n",
       "      <th>5</th>\n",
       "      <td>Christian</td>\n",
       "      <td>AE</td>\n",
       "      <td>CS</td>\n",
       "    </tr>\n",
       "    <tr>\n",
       "      <th>6</th>\n",
       "      <td>Javi</td>\n",
       "      <td>EE</td>\n",
       "      <td>CS</td>\n",
       "    </tr>\n",
       "    <tr>\n",
       "      <th>7</th>\n",
       "      <td>Hugo</td>\n",
       "      <td>ME</td>\n",
       "      <td>CS</td>\n",
       "    </tr>\n",
       "    <tr>\n",
       "      <th>8</th>\n",
       "      <td>Yug</td>\n",
       "      <td>CS</td>\n",
       "      <td>EE</td>\n",
       "    </tr>\n",
       "  </tbody>\n",
       "</table>\n",
       "</div>"
      ],
      "text/plain": [
       "     Student  Major Minor\n",
       "0      Louis    CEE    CS\n",
       "1      Anish     CS    NA\n",
       "2       Alex     CS  Math\n",
       "3        Jay  CompE  Phys\n",
       "4      Ethan    CEE    CS\n",
       "5  Christian     AE    CS\n",
       "6       Javi     EE    CS\n",
       "7       Hugo     ME    CS\n",
       "8        Yug     CS    EE"
      ]
     },
     "execution_count": 36,
     "metadata": {},
     "output_type": "execute_result"
    }
   ],
   "source": [
    "# If we want to convert our dictionary to dataframe, we need to call Pandas \n",
    "import pandas as pd \n",
    "\n",
    "data = pd.DataFrame(df)\n",
    "first = 10 #how many first rows we want to see\n",
    "data.head(first)"
   ]
  },
  {
   "cell_type": "code",
   "execution_count": 43,
   "id": "84d547f5",
   "metadata": {},
   "outputs": [
    {
     "data": {
      "text/plain": [
       "2"
      ]
     },
     "execution_count": 43,
     "metadata": {},
     "output_type": "execute_result"
    }
   ],
   "source": [
    "cee_majors = data[data['Major']=='CEE'].count().values[0] #Count number of CEE Majors\n",
    "cee_majors"
   ]
  },
  {
   "cell_type": "code",
   "execution_count": 44,
   "id": "ca0f0907",
   "metadata": {},
   "outputs": [
    {
     "data": {
      "text/plain": [
       "3"
      ]
     },
     "execution_count": 44,
     "metadata": {},
     "output_type": "execute_result"
    }
   ],
   "source": [
    "cs_majors = data[data['Major']=='CS'].count().values[0] #Count number of CS Majors\n",
    "cs_majors"
   ]
  },
  {
   "cell_type": "code",
   "execution_count": 45,
   "id": "996c98a7",
   "metadata": {},
   "outputs": [],
   "source": [
    "# Let's convert this into csv file!\n",
    "data.to_csv('students.csv')"
   ]
  },
  {
   "cell_type": "code",
   "execution_count": 46,
   "id": "419920fa",
   "metadata": {},
   "outputs": [
    {
     "data": {
      "text/html": [
       "<div>\n",
       "<style scoped>\n",
       "    .dataframe tbody tr th:only-of-type {\n",
       "        vertical-align: middle;\n",
       "    }\n",
       "\n",
       "    .dataframe tbody tr th {\n",
       "        vertical-align: top;\n",
       "    }\n",
       "\n",
       "    .dataframe thead th {\n",
       "        text-align: right;\n",
       "    }\n",
       "</style>\n",
       "<table border=\"1\" class=\"dataframe\">\n",
       "  <thead>\n",
       "    <tr style=\"text-align: right;\">\n",
       "      <th></th>\n",
       "      <th>Student</th>\n",
       "      <th>Major</th>\n",
       "      <th>Minor</th>\n",
       "    </tr>\n",
       "  </thead>\n",
       "  <tbody>\n",
       "    <tr>\n",
       "      <th>0</th>\n",
       "      <td>Louis</td>\n",
       "      <td>CEE</td>\n",
       "      <td>CS</td>\n",
       "    </tr>\n",
       "    <tr>\n",
       "      <th>1</th>\n",
       "      <td>Anish</td>\n",
       "      <td>CS</td>\n",
       "      <td>NaN</td>\n",
       "    </tr>\n",
       "    <tr>\n",
       "      <th>2</th>\n",
       "      <td>Alex</td>\n",
       "      <td>CS</td>\n",
       "      <td>Math</td>\n",
       "    </tr>\n",
       "    <tr>\n",
       "      <th>3</th>\n",
       "      <td>Jay</td>\n",
       "      <td>CompE</td>\n",
       "      <td>Phys</td>\n",
       "    </tr>\n",
       "    <tr>\n",
       "      <th>4</th>\n",
       "      <td>Ethan</td>\n",
       "      <td>CEE</td>\n",
       "      <td>CS</td>\n",
       "    </tr>\n",
       "    <tr>\n",
       "      <th>5</th>\n",
       "      <td>Christian</td>\n",
       "      <td>AE</td>\n",
       "      <td>CS</td>\n",
       "    </tr>\n",
       "    <tr>\n",
       "      <th>6</th>\n",
       "      <td>Javi</td>\n",
       "      <td>EE</td>\n",
       "      <td>CS</td>\n",
       "    </tr>\n",
       "    <tr>\n",
       "      <th>7</th>\n",
       "      <td>Hugo</td>\n",
       "      <td>ME</td>\n",
       "      <td>CS</td>\n",
       "    </tr>\n",
       "    <tr>\n",
       "      <th>8</th>\n",
       "      <td>Yug</td>\n",
       "      <td>CS</td>\n",
       "      <td>EE</td>\n",
       "    </tr>\n",
       "  </tbody>\n",
       "</table>\n",
       "</div>"
      ],
      "text/plain": [
       "     Student  Major Minor\n",
       "0      Louis    CEE    CS\n",
       "1      Anish     CS   NaN\n",
       "2       Alex     CS  Math\n",
       "3        Jay  CompE  Phys\n",
       "4      Ethan    CEE    CS\n",
       "5  Christian     AE    CS\n",
       "6       Javi     EE    CS\n",
       "7       Hugo     ME    CS\n",
       "8        Yug     CS    EE"
      ]
     },
     "execution_count": 46,
     "metadata": {},
     "output_type": "execute_result"
    }
   ],
   "source": [
    "# Let's read the csv file!\n",
    "input_data = pd.read_csv('students.csv', index_col=[0])\n",
    "input_data"
   ]
  },
  {
   "cell_type": "markdown",
   "id": "c1b0eb34",
   "metadata": {},
   "source": [
    "# 4. Plotting in Python "
   ]
  },
  {
   "cell_type": "code",
   "execution_count": 22,
   "id": "dfa1698f",
   "metadata": {},
   "outputs": [],
   "source": [
    "import numpy as np\n",
    "import pandas as pd\n",
    "import matplotlib.pyplot as plt\n",
    "%matplotlib inline"
   ]
  },
  {
   "cell_type": "code",
   "execution_count": 23,
   "id": "6838f198",
   "metadata": {},
   "outputs": [
    {
     "data": {
      "text/html": [
       "<div>\n",
       "<style scoped>\n",
       "    .dataframe tbody tr th:only-of-type {\n",
       "        vertical-align: middle;\n",
       "    }\n",
       "\n",
       "    .dataframe tbody tr th {\n",
       "        vertical-align: top;\n",
       "    }\n",
       "\n",
       "    .dataframe thead th {\n",
       "        text-align: right;\n",
       "    }\n",
       "</style>\n",
       "<table border=\"1\" class=\"dataframe\">\n",
       "  <thead>\n",
       "    <tr style=\"text-align: right;\">\n",
       "      <th></th>\n",
       "      <th>Trains</th>\n",
       "      <th>Max_Speed (km/hr)</th>\n",
       "    </tr>\n",
       "  </thead>\n",
       "  <tbody>\n",
       "    <tr>\n",
       "      <th>0</th>\n",
       "      <td>Shanghai_Mag</td>\n",
       "      <td>460</td>\n",
       "    </tr>\n",
       "    <tr>\n",
       "      <th>1</th>\n",
       "      <td>Fuxing</td>\n",
       "      <td>350</td>\n",
       "    </tr>\n",
       "    <tr>\n",
       "      <th>2</th>\n",
       "      <td>ICE</td>\n",
       "      <td>330</td>\n",
       "    </tr>\n",
       "    <tr>\n",
       "      <th>3</th>\n",
       "      <td>TGV</td>\n",
       "      <td>320</td>\n",
       "    </tr>\n",
       "    <tr>\n",
       "      <th>4</th>\n",
       "      <td>Shinkansen</td>\n",
       "      <td>320</td>\n",
       "    </tr>\n",
       "    <tr>\n",
       "      <th>5</th>\n",
       "      <td>AVE</td>\n",
       "      <td>310</td>\n",
       "    </tr>\n",
       "    <tr>\n",
       "      <th>6</th>\n",
       "      <td>KTX</td>\n",
       "      <td>305</td>\n",
       "    </tr>\n",
       "  </tbody>\n",
       "</table>\n",
       "</div>"
      ],
      "text/plain": [
       "         Trains  Max_Speed (km/hr)\n",
       "0  Shanghai_Mag                460\n",
       "1        Fuxing                350\n",
       "2           ICE                330\n",
       "3           TGV                320\n",
       "4    Shinkansen                320\n",
       "5           AVE                310\n",
       "6           KTX                305"
      ]
     },
     "execution_count": 23,
     "metadata": {},
     "output_type": "execute_result"
    }
   ],
   "source": [
    "data = pd.read_excel('high_speed_train_speed.xlsx') #We are reading in Excel file NOT csv\n",
    "data"
   ]
  },
  {
   "cell_type": "code",
   "execution_count": 24,
   "id": "890989f0",
   "metadata": {},
   "outputs": [
    {
     "data": {
      "text/plain": [
       "Index(['Trains', 'Max_Speed (km/hr)'], dtype='object')"
      ]
     },
     "execution_count": 24,
     "metadata": {},
     "output_type": "execute_result"
    }
   ],
   "source": [
    "data.keys() #Let's look at the variables in our data frame!"
   ]
  },
  {
   "cell_type": "code",
   "execution_count": 26,
   "id": "065c12cf",
   "metadata": {},
   "outputs": [
    {
     "name": "stdout",
     "output_type": "stream",
     "text": [
      "Mean Maximum Speed: 342.14 km/hr.\n",
      "Median Maximum Speed: 320.0 km/hr.\n",
      "Mode Maximum Speed: 320 km/hr\n",
      "Standard Deviation Maximum Speed: 54.0 km/hr\n",
      "Variance Maximum Speed: 2915.48 km/hr\n"
     ]
    }
   ],
   "source": [
    "#Mean Maximum Speed\n",
    "mean_max = data['Max_Speed (km/hr)'].mean()\n",
    "print(f'Mean Maximum Speed: {round(mean_max,2)} km/hr.')\n",
    "\n",
    "#Median Maximum Speed\n",
    "med_max = data['Max_Speed (km/hr)'].median()\n",
    "print(f'Median Maximum Speed: {round(med_max,2)} km/hr.')\n",
    "\n",
    "#Mode Maximum Speed\n",
    "mod_max = data['Max_Speed (km/hr)'].mode().values[0] # Extract the first mode value\n",
    "print(f'Mode Maximum Speed: {round(mod_max,2)} km/hr')\n",
    "\n",
    "#Standard Deviation Maximum Speed\n",
    "std_max = data['Max_Speed (km/hr)'].std() \n",
    "print(f'Standard Deviation Maximum Speed: {round(std_max,2)} km/hr')\n",
    "\n",
    "#Variance Maximum Speed\n",
    "var_max = data['Max_Speed (km/hr)'].var() \n",
    "print(f'Variance Maximum Speed: {round(var_max,2)} km/hr')"
   ]
  },
  {
   "cell_type": "markdown",
   "id": "4c51584c",
   "metadata": {},
   "source": [
    "## Horizontal Display"
   ]
  },
  {
   "cell_type": "code",
   "execution_count": 5,
   "id": "13f05740",
   "metadata": {},
   "outputs": [
    {
     "data": {
      "image/png": "[encoded data removed]",
      "text/plain": [
       "<Figure size 640x480 with 1 Axes>"
      ]
     },
     "metadata": {},
     "output_type": "display_data"
    }
   ],
   "source": [
    "# Extract the required data for plotting\n",
    "train_names = data['Trains']\n",
    "speeds = data['Max_Speed (km/hr)']\n",
    "\n",
    "# Plot the bar chart\n",
    "plt.bar(train_names, speeds)\n",
    "plt.xlabel('Trains')\n",
    "plt.ylabel('Max Speed (km/hr)')\n",
    "plt.title('High-Speed Train Speeds')\n",
    "plt.xticks(rotation=90)\n",
    "plt.tight_layout()\n",
    "plt.savefig('horizontal.png') #save figure as png format\n",
    "plt.show()"
   ]
  },
  {
   "cell_type": "markdown",
   "id": "d9c89ed3",
   "metadata": {},
   "source": [
    "## Vertical Display"
   ]
  },
  {
   "cell_type": "code",
   "execution_count": 6,
   "id": "f886118c",
   "metadata": {},
   "outputs": [
    {
     "data": {
      "image/png": "[encoded data removed]",
      "text/plain": [
       "<Figure size 640x480 with 1 Axes>"
      ]
     },
     "metadata": {},
     "output_type": "display_data"
    }
   ],
   "source": [
    "import pandas as pd\n",
    "import matplotlib.pyplot as plt\n",
    "\n",
    "# Read the Excel file\n",
    "data = pd.read_excel('high_speed_train_speed.xlsx')\n",
    "\n",
    "# Extract the required data for plotting\n",
    "train_names = data['Trains']\n",
    "speeds = data['Max_Speed (km/hr)']\n",
    "\n",
    "# Plot the bar chart vertically\n",
    "plt.barh(train_names, speeds)\n",
    "plt.xlabel('Speed')\n",
    "plt.ylabel('Train')\n",
    "plt.title('High-Speed Train Speeds')\n",
    "plt.tight_layout()\n",
    "plt.savefig('vertical.png') #save figure as png format\n",
    "plt.show()"
   ]
  },
  {
   "cell_type": "code",
   "execution_count": 7,
   "id": "a90df32d",
   "metadata": {},
   "outputs": [
    {
     "data": {
      "text/plain": [
       "array([  0.        ,  11.11111111,  22.22222222,  33.33333333,\n",
       "        44.44444444,  55.55555556,  66.66666667,  77.77777778,\n",
       "        88.88888889, 100.        ])"
      ]
     },
     "execution_count": 7,
     "metadata": {},
     "output_type": "execute_result"
    }
   ],
   "source": [
    "x = np.linspace(0,100,10) #divide the number range from 0 to 100 into 10 elements\n",
    "x"
   ]
  },
  {
   "cell_type": "code",
   "execution_count": 8,
   "id": "3cf174c4",
   "metadata": {},
   "outputs": [],
   "source": [
    "def linear(m,x,b): #we are going to plot y = mx+b\n",
    "    y = m*x+b\n",
    "    return y"
   ]
  },
  {
   "cell_type": "code",
   "execution_count": 9,
   "id": "a1607156",
   "metadata": {},
   "outputs": [],
   "source": [
    "m = 2\n",
    "b = 5\n",
    "y = linear(m,x,2)\n",
    "equation = 'y = ' + str(m) + 'x + ' + str(b) "
   ]
  },
  {
   "cell_type": "code",
   "execution_count": 10,
   "id": "1ad1bc65",
   "metadata": {},
   "outputs": [
    {
     "data": {
      "image/png": "[encoded data removed]",
      "text/plain": [
       "<Figure size 640x480 with 1 Axes>"
      ]
     },
     "metadata": {},
     "output_type": "display_data"
    }
   ],
   "source": [
    "plt.title('Function') #Add a title \n",
    "plt.xlabel('X')\n",
    "plt.ylabel('Y')\n",
    "plt.plot(x,y,label=equation)\n",
    "plt.legend()\n",
    "plt.savefig('linear.png') #save figure as png format"
   ]
  },
  {
   "cell_type": "code",
   "execution_count": 11,
   "id": "088ee52c",
   "metadata": {},
   "outputs": [],
   "source": [
    "def displacement(x0,v,a,t):\n",
    "    x = x0+v*t+0.5*a*t**2\n",
    "    return x"
   ]
  },
  {
   "cell_type": "code",
   "execution_count": 12,
   "id": "e795f6d7",
   "metadata": {},
   "outputs": [
    {
     "data": {
      "text/plain": [
       "array([1.00000000e+01, 3.65678670e+02, 8.01135734e+02, 1.31637119e+03,\n",
       "       1.91138504e+03, 2.58617729e+03, 3.34074792e+03, 4.17509695e+03,\n",
       "       5.08922438e+03, 6.08313019e+03, 7.15681440e+03, 8.31027701e+03,\n",
       "       9.54351801e+03, 1.08565374e+04, 1.22493352e+04, 1.37219114e+04,\n",
       "       1.52742659e+04, 1.69063989e+04, 1.86183102e+04, 2.04100000e+04])"
      ]
     },
     "execution_count": 12,
     "metadata": {},
     "output_type": "execute_result"
    }
   ],
   "source": [
    "t = np.linspace(0,120,20)\n",
    "a = 2 #m/s^2 acceleration\n",
    "v = 50 # m/s velocity\n",
    "x0 = 10 #m starting position\n",
    "\n",
    "x = displacement(x0,v,a,t)\n",
    "x"
   ]
  },
  {
   "cell_type": "code",
   "execution_count": 13,
   "id": "038f8b2f",
   "metadata": {},
   "outputs": [
    {
     "data": {
      "image/png": "[encoded data removed]",
      "text/plain": [
       "<Figure size 640x480 with 1 Axes>"
      ]
     },
     "metadata": {},
     "output_type": "display_data"
    }
   ],
   "source": [
    "plt.title('Displacement Curve')\n",
    "plt.xlabel('Time (s)')\n",
    "plt.ylabel('Displacement (meters)')\n",
    "plt.plot(t,x) #plot the x-axis and then the y-axis\n",
    "plt.savefig('displacement_curve.png') #save the figure in png format"
   ]
  },
  {
   "cell_type": "markdown",
   "id": "7500e375",
   "metadata": {},
   "source": [
    "## KTX (한국고속철도) Trajectory Curve Plotting"
   ]
  },
  {
   "cell_type": "code",
   "execution_count": 14,
   "id": "fff46bd2",
   "metadata": {},
   "outputs": [
    {
     "data": {
      "text/html": [
       "<div>\n",
       "<style scoped>\n",
       "    .dataframe tbody tr th:only-of-type {\n",
       "        vertical-align: middle;\n",
       "    }\n",
       "\n",
       "    .dataframe tbody tr th {\n",
       "        vertical-align: top;\n",
       "    }\n",
       "\n",
       "    .dataframe thead th {\n",
       "        text-align: right;\n",
       "    }\n",
       "</style>\n",
       "<table border=\"1\" class=\"dataframe\">\n",
       "  <thead>\n",
       "    <tr style=\"text-align: right;\">\n",
       "      <th></th>\n",
       "      <th>Stations</th>\n",
       "      <th>역명</th>\n",
       "      <th>Distance (km)</th>\n",
       "      <th>Time (Hours)</th>\n",
       "      <th>Time (Minutes)</th>\n",
       "    </tr>\n",
       "  </thead>\n",
       "  <tbody>\n",
       "    <tr>\n",
       "      <th>0</th>\n",
       "      <td>Haengsin</td>\n",
       "      <td>행신</td>\n",
       "      <td>0.0</td>\n",
       "      <td>0.000000</td>\n",
       "      <td>0.000000</td>\n",
       "    </tr>\n",
       "    <tr>\n",
       "      <th>1</th>\n",
       "      <td>Seoul</td>\n",
       "      <td>서울</td>\n",
       "      <td>14.9</td>\n",
       "      <td>0.186250</td>\n",
       "      <td>11.175000</td>\n",
       "    </tr>\n",
       "    <tr>\n",
       "      <th>2</th>\n",
       "      <td>Gwangmyeong</td>\n",
       "      <td>광명</td>\n",
       "      <td>36.9</td>\n",
       "      <td>0.308472</td>\n",
       "      <td>18.508333</td>\n",
       "    </tr>\n",
       "    <tr>\n",
       "      <th>3</th>\n",
       "      <td>Cheonan_Asan</td>\n",
       "      <td>천안아산</td>\n",
       "      <td>110.9</td>\n",
       "      <td>0.551095</td>\n",
       "      <td>33.065710</td>\n",
       "    </tr>\n",
       "    <tr>\n",
       "      <th>4</th>\n",
       "      <td>Osong</td>\n",
       "      <td>오송</td>\n",
       "      <td>139.6</td>\n",
       "      <td>0.645194</td>\n",
       "      <td>38.711612</td>\n",
       "    </tr>\n",
       "    <tr>\n",
       "      <th>5</th>\n",
       "      <td>Daejeon</td>\n",
       "      <td>대전</td>\n",
       "      <td>174.7</td>\n",
       "      <td>0.760276</td>\n",
       "      <td>45.616530</td>\n",
       "    </tr>\n",
       "    <tr>\n",
       "      <th>6</th>\n",
       "      <td>Gimcheon_Gumi</td>\n",
       "      <td>김천구미</td>\n",
       "      <td>248.5</td>\n",
       "      <td>1.002243</td>\n",
       "      <td>60.134563</td>\n",
       "    </tr>\n",
       "    <tr>\n",
       "      <th>7</th>\n",
       "      <td>Dongdaegu</td>\n",
       "      <td>동대구</td>\n",
       "      <td>301.6</td>\n",
       "      <td>1.476341</td>\n",
       "      <td>88.580464</td>\n",
       "    </tr>\n",
       "    <tr>\n",
       "      <th>8</th>\n",
       "      <td>Gyeongju</td>\n",
       "      <td>경주</td>\n",
       "      <td>350.6</td>\n",
       "      <td>1.636997</td>\n",
       "      <td>98.219809</td>\n",
       "    </tr>\n",
       "    <tr>\n",
       "      <th>9</th>\n",
       "      <td>Ulsan_Tongdosa</td>\n",
       "      <td>울산(통도사)</td>\n",
       "      <td>380.6</td>\n",
       "      <td>1.735357</td>\n",
       "      <td>104.121448</td>\n",
       "    </tr>\n",
       "    <tr>\n",
       "      <th>10</th>\n",
       "      <td>Busan</td>\n",
       "      <td>부산</td>\n",
       "      <td>432.3</td>\n",
       "      <td>1.904866</td>\n",
       "      <td>114.291940</td>\n",
       "    </tr>\n",
       "  </tbody>\n",
       "</table>\n",
       "</div>"
      ],
      "text/plain": [
       "          Stations       역명  Distance (km)  Time (Hours)  Time (Minutes)\n",
       "0         Haengsin       행신            0.0      0.000000        0.000000\n",
       "1            Seoul       서울           14.9      0.186250       11.175000\n",
       "2      Gwangmyeong       광명           36.9      0.308472       18.508333\n",
       "3     Cheonan_Asan     천안아산          110.9      0.551095       33.065710\n",
       "4            Osong       오송          139.6      0.645194       38.711612\n",
       "5          Daejeon       대전          174.7      0.760276       45.616530\n",
       "6    Gimcheon_Gumi     김천구미          248.5      1.002243       60.134563\n",
       "7        Dongdaegu      동대구          301.6      1.476341       88.580464\n",
       "8         Gyeongju       경주          350.6      1.636997       98.219809\n",
       "9   Ulsan_Tongdosa  울산(통도사)          380.6      1.735357      104.121448\n",
       "10           Busan       부산          432.3      1.904866      114.291940"
      ]
     },
     "execution_count": 14,
     "metadata": {},
     "output_type": "execute_result"
    }
   ],
   "source": [
    "#First we need to read in the csv file\n",
    "ktx = pd.read_excel('gyeongbu_ktx.xlsx') #We will be using Gyeongbu High-Speed Line (경부고속철도)\n",
    "ktx"
   ]
  },
  {
   "cell_type": "code",
   "execution_count": 15,
   "id": "3cd7606d",
   "metadata": {},
   "outputs": [
    {
     "data": {
      "image/png": "[encoded data removed]",
      "text/plain": [
       "<Figure size 640x480 with 1 Axes>"
      ]
     },
     "metadata": {},
     "output_type": "display_data"
    }
   ],
   "source": [
    "#Let's plot the distance vs time (hours) curve \n",
    "t_ktx_hours = ktx['Time (Hours)']\n",
    "y_ktx = ktx['Distance (km)']\n",
    "plt.xlabel('Time (Hours)')\n",
    "plt.ylabel('Distance (km)')\n",
    "plt.title('KTX Gyeongbu Trajectory Curve')\n",
    "plt.plot(t_ktx_hours,y_ktx,label='KTX',c='b') #label this curve KTX and make sure it is blue.\n",
    "plt.savefig('KTX_Gyeongbu_Hours.png')"
   ]
  },
  {
   "cell_type": "code",
   "execution_count": 16,
   "id": "b545f5bf",
   "metadata": {},
   "outputs": [
    {
     "data": {
      "image/png": "[encoded data removed]",
      "text/plain": [
       "<Figure size 640x480 with 1 Axes>"
      ]
     },
     "metadata": {},
     "output_type": "display_data"
    }
   ],
   "source": [
    "#Let's plot the distance vs time (minutes) curve \n",
    "t_ktx_min = ktx['Time (Minutes)']\n",
    "y_ktx = ktx['Distance (km)']\n",
    "plt.xlabel('Time (Minutes)')\n",
    "plt.ylabel('Distance (km)')\n",
    "plt.title('KTX Gyeongbu Trajectory Curve')\n",
    "plt.plot(t_ktx_min,y_ktx,label='KTX',c='b') #label this curve KTX and make sure it is blue.\n",
    "plt.savefig('KTX_Gyeongbu_Minutes.png')"
   ]
  },
  {
   "cell_type": "markdown",
   "id": "2f68eee3",
   "metadata": {},
   "source": [
    "## SRT (수서/수도권고속철도) Trajectory Curve Plotting"
   ]
  },
  {
   "cell_type": "code",
   "execution_count": 17,
   "id": "8b5ce52a",
   "metadata": {},
   "outputs": [
    {
     "data": {
      "text/html": [
       "<div>\n",
       "<style scoped>\n",
       "    .dataframe tbody tr th:only-of-type {\n",
       "        vertical-align: middle;\n",
       "    }\n",
       "\n",
       "    .dataframe tbody tr th {\n",
       "        vertical-align: top;\n",
       "    }\n",
       "\n",
       "    .dataframe thead th {\n",
       "        text-align: right;\n",
       "    }\n",
       "</style>\n",
       "<table border=\"1\" class=\"dataframe\">\n",
       "  <thead>\n",
       "    <tr style=\"text-align: right;\">\n",
       "      <th></th>\n",
       "      <th>Stations</th>\n",
       "      <th>역명</th>\n",
       "      <th>Distance (km)</th>\n",
       "      <th>Time (Hours)</th>\n",
       "      <th>Time (Minutes)</th>\n",
       "    </tr>\n",
       "  </thead>\n",
       "  <tbody>\n",
       "    <tr>\n",
       "      <th>0</th>\n",
       "      <td>Suseo</td>\n",
       "      <td>수서</td>\n",
       "      <td>0.0</td>\n",
       "      <td>0.000000</td>\n",
       "      <td>0.000000</td>\n",
       "    </tr>\n",
       "    <tr>\n",
       "      <th>1</th>\n",
       "      <td>Dongtan</td>\n",
       "      <td>동탄</td>\n",
       "      <td>32.4</td>\n",
       "      <td>0.106230</td>\n",
       "      <td>6.373770</td>\n",
       "    </tr>\n",
       "    <tr>\n",
       "      <th>2</th>\n",
       "      <td>Pyeongtaek_Jije</td>\n",
       "      <td>평택지제</td>\n",
       "      <td>53.4</td>\n",
       "      <td>0.175082</td>\n",
       "      <td>10.504918</td>\n",
       "    </tr>\n",
       "    <tr>\n",
       "      <th>3</th>\n",
       "      <td>Cheonan_Asan</td>\n",
       "      <td>천안아산</td>\n",
       "      <td>78.5</td>\n",
       "      <td>0.257377</td>\n",
       "      <td>15.442623</td>\n",
       "    </tr>\n",
       "    <tr>\n",
       "      <th>4</th>\n",
       "      <td>Osong</td>\n",
       "      <td>오송</td>\n",
       "      <td>107.2</td>\n",
       "      <td>0.351475</td>\n",
       "      <td>21.088525</td>\n",
       "    </tr>\n",
       "    <tr>\n",
       "      <th>5</th>\n",
       "      <td>Daejeon</td>\n",
       "      <td>대전</td>\n",
       "      <td>142.3</td>\n",
       "      <td>0.466557</td>\n",
       "      <td>27.993443</td>\n",
       "    </tr>\n",
       "    <tr>\n",
       "      <th>6</th>\n",
       "      <td>Gimcheon_Gumi</td>\n",
       "      <td>김천구미</td>\n",
       "      <td>216.1</td>\n",
       "      <td>0.708525</td>\n",
       "      <td>42.511475</td>\n",
       "    </tr>\n",
       "    <tr>\n",
       "      <th>7</th>\n",
       "      <td>Dongdaegu</td>\n",
       "      <td>동대구</td>\n",
       "      <td>269.2</td>\n",
       "      <td>0.882623</td>\n",
       "      <td>52.957377</td>\n",
       "    </tr>\n",
       "    <tr>\n",
       "      <th>8</th>\n",
       "      <td>Gyeongju</td>\n",
       "      <td>경주</td>\n",
       "      <td>318.2</td>\n",
       "      <td>1.043279</td>\n",
       "      <td>62.596721</td>\n",
       "    </tr>\n",
       "    <tr>\n",
       "      <th>9</th>\n",
       "      <td>Ulsan_Tongdosa</td>\n",
       "      <td>울산(통도사)</td>\n",
       "      <td>348.2</td>\n",
       "      <td>1.141639</td>\n",
       "      <td>68.498361</td>\n",
       "    </tr>\n",
       "    <tr>\n",
       "      <th>10</th>\n",
       "      <td>Busan</td>\n",
       "      <td>부산</td>\n",
       "      <td>399.9</td>\n",
       "      <td>1.311148</td>\n",
       "      <td>78.668852</td>\n",
       "    </tr>\n",
       "  </tbody>\n",
       "</table>\n",
       "</div>"
      ],
      "text/plain": [
       "           Stations       역명  Distance (km)  Time (Hours)  Time (Minutes)\n",
       "0             Suseo       수서            0.0      0.000000        0.000000\n",
       "1           Dongtan       동탄           32.4      0.106230        6.373770\n",
       "2   Pyeongtaek_Jije     평택지제           53.4      0.175082       10.504918\n",
       "3      Cheonan_Asan     천안아산           78.5      0.257377       15.442623\n",
       "4             Osong       오송          107.2      0.351475       21.088525\n",
       "5           Daejeon       대전          142.3      0.466557       27.993443\n",
       "6     Gimcheon_Gumi     김천구미          216.1      0.708525       42.511475\n",
       "7         Dongdaegu      동대구          269.2      0.882623       52.957377\n",
       "8          Gyeongju       경주          318.2      1.043279       62.596721\n",
       "9    Ulsan_Tongdosa  울산(통도사)          348.2      1.141639       68.498361\n",
       "10            Busan       부산          399.9      1.311148       78.668852"
      ]
     },
     "execution_count": 17,
     "metadata": {},
     "output_type": "execute_result"
    }
   ],
   "source": [
    "#First we need to read in the csv file\n",
    "srt = pd.read_excel('gyeongbu_srt.xlsx') #We will be using Suseo/Sudogwon High-Speed Line (수서/수도권고속철도)\n",
    "srt"
   ]
  },
  {
   "cell_type": "code",
   "execution_count": 18,
   "id": "407124d3",
   "metadata": {},
   "outputs": [
    {
     "data": {
      "image/png": "[encoded data removed]",
      "text/plain": [
       "<Figure size 640x480 with 1 Axes>"
      ]
     },
     "metadata": {},
     "output_type": "display_data"
    }
   ],
   "source": [
    "#Let's plot the distance vs time (hours) curve \n",
    "t_srt_hours = srt['Time (Hours)']\n",
    "y_srt = srt['Distance (km)']\n",
    "plt.xlabel('Time (Hours)')\n",
    "plt.ylabel('Distance (km)')\n",
    "plt.title('SRT Gyeongbu Trajectory Curve')\n",
    "plt.plot(t_srt_hours,y_srt,label='SRT',c='violet') #label this curve SRT and make sure it is violet.\n",
    "plt.savefig('SRT_Gyeongbu_Hours.png')"
   ]
  },
  {
   "cell_type": "code",
   "execution_count": 19,
   "id": "22d77489",
   "metadata": {},
   "outputs": [
    {
     "data": {
      "image/png": "[encoded data removed]",
      "text/plain": [
       "<Figure size 640x480 with 1 Axes>"
      ]
     },
     "metadata": {},
     "output_type": "display_data"
    }
   ],
   "source": [
    "#Let's plot the distance vs time (minutes) curve \n",
    "t_srt_min = srt['Time (Minutes)']\n",
    "y_srt = srt['Distance (km)']\n",
    "plt.xlabel('Time (Minutes)')\n",
    "plt.ylabel('Distance (km)')\n",
    "plt.title('SRT Gyeongbu Trajectory Curve')\n",
    "plt.plot(t_srt_min,y_srt,label='SRT',c='violet') #label this curve SRT and make sure it is violet.\n",
    "plt.savefig('SRT_Gyeongbu_Minutes.png')"
   ]
  },
  {
   "cell_type": "markdown",
   "id": "b4042915",
   "metadata": {},
   "source": [
    "### Combine KTX (한국고속철도) and SRT (수서/수도권고속철도) Trajectory Curves Together!"
   ]
  },
  {
   "cell_type": "code",
   "execution_count": 20,
   "id": "eec59ec5",
   "metadata": {},
   "outputs": [
    {
     "data": {
      "image/png": "[encoded data removed]",
      "text/plain": [
       "<Figure size 640x480 with 1 Axes>"
      ]
     },
     "metadata": {},
     "output_type": "display_data"
    }
   ],
   "source": [
    "#Let's plot the distance vs time (hours) curve \n",
    "plt.xlabel('Time (Hours)')\n",
    "plt.ylabel('Distance (km)')\n",
    "plt.title('KTX/SRT Gyeongbu Trajectory Curve')\n",
    "plt.plot(t_ktx_hours,y_ktx,label='KTX',c='b')\n",
    "plt.plot(t_srt_hours,y_srt,label='SRT',c='violet') \n",
    "plt.legend()\n",
    "plt.savefig('KTX_SRT_Gyeongbu_Hours.png')"
   ]
  },
  {
   "cell_type": "code",
   "execution_count": 21,
   "id": "cea1b34c",
   "metadata": {},
   "outputs": [
    {
     "data": {
      "image/png": "[encoded data removed]",
      "text/plain": [
       "<Figure size 640x480 with 1 Axes>"
      ]
     },
     "metadata": {},
     "output_type": "display_data"
    }
   ],
   "source": [
    "#Let's plot the distance vs time (minutes) curve \n",
    "\n",
    "plt.xlabel('Time (Minutes)')\n",
    "plt.ylabel('Distance (km)')\n",
    "plt.title('KTX/SRT Gyeongbu Trajectory Curve')\n",
    "plt.plot(t_ktx_min,y_ktx,label='KTX',c='b')\n",
    "plt.plot(t_srt_min,y_srt,label='SRT',c='violet') \n",
    "plt.legend()\n",
    "plt.savefig('KTX_SRT_Gyeongbu_Minutes.png')"
   ]
  },
  {
   "cell_type": "markdown",
   "id": "4b412d0e",
   "metadata": {},
   "source": [
    "# 5. Mathematics"
   ]
  },
  {
   "cell_type": "markdown",
   "id": "fb9ca6ca",
   "metadata": {},
   "source": [
    "## Calculus"
   ]
  },
  {
   "cell_type": "markdown",
   "id": "71766f4f",
   "metadata": {},
   "source": [
    "### Displacement $x(t)$ "
   ]
  },
  {
   "cell_type": "markdown",
   "id": "bef1b55b",
   "metadata": {},
   "source": [
    "$$x(t) = v_it+\\frac{1}{2}at^2$$"
   ]
  },
  {
   "cell_type": "markdown",
   "id": "8c7229f1",
   "metadata": {},
   "source": [
    "### Compute Velocity $v(t)$"
   ]
  },
  {
   "cell_type": "markdown",
   "id": "35fa5344",
   "metadata": {},
   "source": [
    "$$ v(t) = \\frac{dx}{dt}$$"
   ]
  },
  {
   "cell_type": "markdown",
   "id": "d9b68856",
   "metadata": {},
   "source": [
    "### Compute Acceleration a(t)"
   ]
  },
  {
   "cell_type": "markdown",
   "id": "85c1f8c4",
   "metadata": {},
   "source": [
    "$$ a(t) = \\frac{dv}{dt} $$"
   ]
  },
  {
   "cell_type": "code",
   "execution_count": 38,
   "id": "62468d72",
   "metadata": {},
   "outputs": [
    {
     "data": {
      "text/latex": [
       "$\\displaystyle t$"
      ],
      "text/plain": [
       "t"
      ]
     },
     "execution_count": 38,
     "metadata": {},
     "output_type": "execute_result"
    }
   ],
   "source": [
    "from sympy import * # I love sympy library :) for calculus!\n",
    "t = symbols('t')\n",
    "t"
   ]
  },
  {
   "cell_type": "markdown",
   "id": "520c4766",
   "metadata": {},
   "source": [
    "## Derivatives"
   ]
  },
  {
   "cell_type": "code",
   "execution_count": 39,
   "id": "dd063af4",
   "metadata": {},
   "outputs": [
    {
     "data": {
      "text/latex": [
       "$\\displaystyle 5.0 t^{2} + 5 t$"
      ],
      "text/plain": [
       "5.0*t**2 + 5*t"
      ]
     },
     "execution_count": 39,
     "metadata": {},
     "output_type": "execute_result"
    }
   ],
   "source": [
    "#Compute Displacement\n",
    "vi = 5 #m/s\n",
    "a = 10 #m/s^2\n",
    "x = vi*t+0.5*a*t**2\n",
    "x"
   ]
  },
  {
   "cell_type": "code",
   "execution_count": 40,
   "id": "16d684f7",
   "metadata": {},
   "outputs": [
    {
     "data": {
      "text/latex": [
       "$\\displaystyle 10.0 t + 5$"
      ],
      "text/plain": [
       "10.0*t + 5"
      ]
     },
     "execution_count": 40,
     "metadata": {},
     "output_type": "execute_result"
    }
   ],
   "source": [
    "#Compute Velocity\n",
    "v = diff(x,t)\n",
    "v"
   ]
  },
  {
   "cell_type": "code",
   "execution_count": 41,
   "id": "22859e1c",
   "metadata": {},
   "outputs": [
    {
     "data": {
      "text/latex": [
       "$\\displaystyle 10.0$"
      ],
      "text/plain": [
       "10.0000000000000"
      ]
     },
     "execution_count": 41,
     "metadata": {},
     "output_type": "execute_result"
    }
   ],
   "source": [
    "#Compute Acceleration\n",
    "a = diff(v,t)\n",
    "a"
   ]
  },
  {
   "cell_type": "markdown",
   "id": "f53e9c7d",
   "metadata": {},
   "source": [
    "## Compute $x(t)$ , $v(t)$ and $a(t)$ respectively when t = 3 seconds."
   ]
  },
  {
   "cell_type": "code",
   "execution_count": 42,
   "id": "a27a47b4",
   "metadata": {},
   "outputs": [
    {
     "data": {
      "text/plain": [
       "60.0"
      ]
     },
     "execution_count": 42,
     "metadata": {},
     "output_type": "execute_result"
    }
   ],
   "source": [
    "#we are going to compute x(t) when t = 3\n",
    "x_ans = lambdify(t,x)\n",
    "ti = 3\n",
    "x_ans(ti)"
   ]
  },
  {
   "cell_type": "code",
   "execution_count": 43,
   "id": "3bcd1cfc",
   "metadata": {},
   "outputs": [
    {
     "data": {
      "text/plain": [
       "35.0"
      ]
     },
     "execution_count": 43,
     "metadata": {},
     "output_type": "execute_result"
    }
   ],
   "source": [
    "v_ans = lambdify(t,v)\n",
    "v_ans(ti)"
   ]
  },
  {
   "cell_type": "code",
   "execution_count": 44,
   "id": "ed0107a2",
   "metadata": {},
   "outputs": [
    {
     "data": {
      "text/plain": [
       "10.0"
      ]
     },
     "execution_count": 44,
     "metadata": {},
     "output_type": "execute_result"
    }
   ],
   "source": [
    "a_ans = lambdify(t,a)\n",
    "a_ans(ti)"
   ]
  },
  {
   "cell_type": "markdown",
   "id": "24faff5a",
   "metadata": {},
   "source": [
    "# Partial Differentiation"
   ]
  },
  {
   "cell_type": "markdown",
   "id": "64c62c85",
   "metadata": {},
   "source": [
    "$ f(x,y) = x^2 + y^2 $"
   ]
  },
  {
   "cell_type": "markdown",
   "id": "9ad1b353",
   "metadata": {},
   "source": [
    "$\\frac{\\partial f}{\\partial x} = 2x$"
   ]
  },
  {
   "cell_type": "markdown",
   "id": "d958ed83",
   "metadata": {},
   "source": [
    "$\\frac{\\partial f}{\\partial y} = 2y$"
   ]
  },
  {
   "cell_type": "code",
   "execution_count": 45,
   "id": "d4508962",
   "metadata": {},
   "outputs": [
    {
     "data": {
      "text/latex": [
       "$\\displaystyle 2 x$"
      ],
      "text/plain": [
       "2*x"
      ]
     },
     "execution_count": 45,
     "metadata": {},
     "output_type": "execute_result"
    }
   ],
   "source": [
    "x,y = symbols('x,y')\n",
    "f = x**2 + y**2\n",
    "part_x = diff(f,x)\n",
    "part_x"
   ]
  },
  {
   "cell_type": "code",
   "execution_count": 46,
   "id": "fa648198",
   "metadata": {},
   "outputs": [
    {
     "data": {
      "text/latex": [
       "$\\displaystyle 2 y$"
      ],
      "text/plain": [
       "2*y"
      ]
     },
     "execution_count": 46,
     "metadata": {},
     "output_type": "execute_result"
    }
   ],
   "source": [
    "part_y = diff(f,y)\n",
    "part_y"
   ]
  },
  {
   "cell_type": "markdown",
   "id": "c25631cd",
   "metadata": {},
   "source": [
    "# Single Integration"
   ]
  },
  {
   "cell_type": "markdown",
   "id": "36107c67",
   "metadata": {},
   "source": [
    "$$\\ \\int_{a}^{b} x^2 dx \\$$"
   ]
  },
  {
   "cell_type": "markdown",
   "id": "4b75d585",
   "metadata": {},
   "source": [
    "$$\\Delta{x} = \\int_{t_i}^{t_f} (v_i+ at)dt$$"
   ]
  },
  {
   "cell_type": "markdown",
   "id": "0f2f832e",
   "metadata": {},
   "source": [
    "**Compute the change in displacement when $t_i = 0$ and $t_f = 5$ with $v_i$ = 5 m/s and $a$ = 2 m/s^2**"
   ]
  },
  {
   "cell_type": "code",
   "execution_count": 47,
   "id": "2ff14b47",
   "metadata": {},
   "outputs": [],
   "source": [
    "#Initialize all the variables\n",
    "vi = 5 #m/s\n",
    "a = 2 #m/s^2\n",
    "ti = 0 #seconds\n",
    "tf = 5 #seconds\n",
    "t = symbols('t')"
   ]
  },
  {
   "cell_type": "code",
   "execution_count": 48,
   "id": "50343bab",
   "metadata": {},
   "outputs": [
    {
     "data": {
      "text/latex": [
       "$\\displaystyle 2 t + 5$"
      ],
      "text/plain": [
       "2*t + 5"
      ]
     },
     "execution_count": 48,
     "metadata": {},
     "output_type": "execute_result"
    }
   ],
   "source": [
    "vf = vi+a*t\n",
    "vf"
   ]
  },
  {
   "cell_type": "code",
   "execution_count": 49,
   "id": "1a0662dc",
   "metadata": {},
   "outputs": [
    {
     "data": {
      "text/latex": [
       "$\\displaystyle t^{2} + 5 t$"
      ],
      "text/plain": [
       "t**2 + 5*t"
      ]
     },
     "execution_count": 49,
     "metadata": {},
     "output_type": "execute_result"
    }
   ],
   "source": [
    "delta_x = integrate(vf,t)\n",
    "delta_x"
   ]
  },
  {
   "cell_type": "code",
   "execution_count": 50,
   "id": "515f8cf8",
   "metadata": {},
   "outputs": [
    {
     "data": {
      "text/latex": [
       "$\\displaystyle 50$"
      ],
      "text/plain": [
       "50"
      ]
     },
     "execution_count": 50,
     "metadata": {},
     "output_type": "execute_result"
    }
   ],
   "source": [
    "vf_result = lambdify(t,vf)\n",
    "delta_x = integrate(vf,(t,ti,tf))\n",
    "delta_x"
   ]
  },
  {
   "cell_type": "code",
   "execution_count": 51,
   "id": "d2597f26",
   "metadata": {},
   "outputs": [
    {
     "data": {
      "text/latex": [
       "$\\displaystyle 60$"
      ],
      "text/plain": [
       "60"
      ]
     },
     "execution_count": 51,
     "metadata": {},
     "output_type": "execute_result"
    }
   ],
   "source": [
    "#what if initial condition of x(0) = 10 m?\n",
    "x0 = 10\n",
    "xf = x0 + delta_x\n",
    "xf"
   ]
  },
  {
   "cell_type": "markdown",
   "id": "4b77ad00",
   "metadata": {},
   "source": [
    "# Double Integration "
   ]
  },
  {
   "cell_type": "markdown",
   "id": "0578f9b1",
   "metadata": {},
   "source": [
    "$$\\ \\int_{c}^{d} \\int_{a}^{b} x^2+y^2 dxdy \\$$"
   ]
  },
  {
   "cell_type": "markdown",
   "id": "69bea0fd",
   "metadata": {},
   "source": [
    "$$\\ \\int_{1}^{3} \\int_{2}^{5} x^2+y^2 dxdy \\$$"
   ]
  },
  {
   "cell_type": "code",
   "execution_count": 52,
   "id": "1f089b72",
   "metadata": {},
   "outputs": [
    {
     "data": {
      "text/plain": [
       "(x, y)"
      ]
     },
     "execution_count": 52,
     "metadata": {},
     "output_type": "execute_result"
    }
   ],
   "source": [
    "a = 2\n",
    "b = 5\n",
    "c = 1 \n",
    "d = 3\n",
    "x,y = symbols('x,y')\n",
    "x,y"
   ]
  },
  {
   "cell_type": "code",
   "execution_count": 53,
   "id": "72a090bc",
   "metadata": {},
   "outputs": [
    {
     "data": {
      "text/latex": [
       "$\\displaystyle x^{2} + y^{2}$"
      ],
      "text/plain": [
       "x**2 + y**2"
      ]
     },
     "execution_count": 53,
     "metadata": {},
     "output_type": "execute_result"
    }
   ],
   "source": [
    "f = x**2+y**2\n",
    "f"
   ]
  },
  {
   "cell_type": "code",
   "execution_count": 54,
   "id": "a0252db4",
   "metadata": {},
   "outputs": [
    {
     "data": {
      "text/latex": [
       "$\\displaystyle 3 y^{2} + 39$"
      ],
      "text/plain": [
       "3*y**2 + 39"
      ]
     },
     "execution_count": 54,
     "metadata": {},
     "output_type": "execute_result"
    }
   ],
   "source": [
    "delta_x = integrate(f,(x,a,b))\n",
    "delta_x"
   ]
  },
  {
   "cell_type": "code",
   "execution_count": 55,
   "id": "213c8ee2",
   "metadata": {},
   "outputs": [
    {
     "data": {
      "text/latex": [
       "$\\displaystyle 104$"
      ],
      "text/plain": [
       "104"
      ]
     },
     "execution_count": 55,
     "metadata": {},
     "output_type": "execute_result"
    }
   ],
   "source": [
    "delta_y = integrate(delta_x,(y,c,d))\n",
    "delta_y"
   ]
  },
  {
   "cell_type": "markdown",
   "id": "80a0b76b",
   "metadata": {},
   "source": [
    "# Linear Algebra"
   ]
  },
  {
   "cell_type": "code",
   "execution_count": 56,
   "id": "4c0838cd",
   "metadata": {},
   "outputs": [],
   "source": [
    "# We will be using A LOT of numpy libraries\n",
    "import numpy as np #Basically for any mathematical calculations\n",
    "import numpy.linalg as la #You need this for Linear Algebra\n",
    "from sympy import * #You will need this for mathematical calculations as well"
   ]
  },
  {
   "cell_type": "markdown",
   "id": "57aab9de",
   "metadata": {},
   "source": [
    "### Matrix Scalar Multiplication"
   ]
  },
  {
   "cell_type": "markdown",
   "id": "9edcb460",
   "metadata": {},
   "source": [
    "$A = \n",
    "\\begin{bmatrix}\n",
    "1 & 2  \\\\\n",
    "1 & 0 \\\\\n",
    "\\end{bmatrix}\n",
    "$"
   ]
  },
  {
   "cell_type": "markdown",
   "id": "63b6d0e0",
   "metadata": {},
   "source": [
    "Find $2A$"
   ]
  },
  {
   "cell_type": "code",
   "execution_count": 57,
   "id": "f5102db6",
   "metadata": {},
   "outputs": [
    {
     "data": {
      "text/plain": [
       "array([[2, 4],\n",
       "       [2, 0]])"
      ]
     },
     "execution_count": 57,
     "metadata": {},
     "output_type": "execute_result"
    }
   ],
   "source": [
    "A = np.array([[1,2],[1,0]])\n",
    "answer = 2*A\n",
    "answer"
   ]
  },
  {
   "cell_type": "markdown",
   "id": "7693781c",
   "metadata": {},
   "source": [
    "### Matrix Dot Product"
   ]
  },
  {
   "cell_type": "markdown",
   "id": "5912c05a",
   "metadata": {},
   "source": [
    "$A = \n",
    "\\begin{bmatrix}\n",
    "1 & 2  \\\\\n",
    "1 & 0 \\\\\n",
    "\\end{bmatrix}\n",
    "$"
   ]
  },
  {
   "cell_type": "markdown",
   "id": "3673d680",
   "metadata": {},
   "source": [
    "$v = \n",
    "\\begin{bmatrix}\n",
    "1  \\\\\n",
    "2 \\\\\n",
    "\\end{bmatrix}\n",
    "$"
   ]
  },
  {
   "cell_type": "markdown",
   "id": "5c29b57e",
   "metadata": {},
   "source": [
    "$ans = \\mathbf{A} \\cdot \\mathbf{v}$"
   ]
  },
  {
   "cell_type": "code",
   "execution_count": 58,
   "id": "2b96fa7b",
   "metadata": {},
   "outputs": [
    {
     "data": {
      "text/plain": [
       "array([5, 1])"
      ]
     },
     "execution_count": 58,
     "metadata": {},
     "output_type": "execute_result"
    }
   ],
   "source": [
    "A = np.array([[1,2],[1,0]])\n",
    "v = np.array([1,2])\n",
    "Av = np.dot(A,v)\n",
    "Av"
   ]
  },
  {
   "cell_type": "markdown",
   "id": "86db5bc7",
   "metadata": {},
   "source": [
    "### Solving Matrices"
   ]
  },
  {
   "cell_type": "markdown",
   "id": "5f8dd89d",
   "metadata": {},
   "source": [
    "$A = \n",
    "\\begin{bmatrix}\n",
    "1 & 2  \\\\\n",
    "1 & 0 \\\\\n",
    "\\end{bmatrix}\n",
    "$"
   ]
  },
  {
   "cell_type": "markdown",
   "id": "cb8096f2",
   "metadata": {},
   "source": [
    "$b = \n",
    "\\begin{bmatrix}\n",
    "3  \\\\\n",
    "5 \\\\\n",
    "\\end{bmatrix}\n",
    "$"
   ]
  },
  {
   "cell_type": "markdown",
   "id": "139a2754",
   "metadata": {},
   "source": [
    "$ Ax = b $"
   ]
  },
  {
   "cell_type": "code",
   "execution_count": 59,
   "id": "f06f0088",
   "metadata": {},
   "outputs": [
    {
     "data": {
      "text/plain": [
       "array([ 5., -1.])"
      ]
     },
     "execution_count": 59,
     "metadata": {},
     "output_type": "execute_result"
    }
   ],
   "source": [
    "A = np.array([[1,2],[1,0]])\n",
    "b = np.array([3,5])\n",
    "\n",
    "sol = la.solve(A,b)\n",
    "sol"
   ]
  },
  {
   "cell_type": "markdown",
   "id": "986f9b97",
   "metadata": {},
   "source": [
    "\\begin{align*}\n",
    "2x + 3y + z &= 10 \\\\\n",
    "4x - y + z &= 2 \\\\ \n",
    "3x + y - z &= 3\n",
    "\\end{align*}"
   ]
  },
  {
   "cell_type": "code",
   "execution_count": 60,
   "id": "f2e0e5de",
   "metadata": {},
   "outputs": [
    {
     "data": {
      "text/plain": [
       "[x, y, z]"
      ]
     },
     "execution_count": 60,
     "metadata": {},
     "output_type": "execute_result"
    }
   ],
   "source": [
    "#First we need to convert x,y,z into symbols\n",
    "x,y,z = symbols('x,y,z') #This is sympy library \n",
    "variables = [x,y,z]\n",
    "variables"
   ]
  },
  {
   "cell_type": "markdown",
   "id": "e00a34a7",
   "metadata": {},
   "source": [
    "### Hint:\n",
    "\n",
    "$A = \n",
    "\\begin{bmatrix}\n",
    "2 & 3 & 1  \\\\\n",
    "4 & -1 & 1 \\\\\n",
    "3 & 1 & -1\n",
    "\\end{bmatrix}\n",
    "$\n",
    "\n",
    "$b = \n",
    "\\begin{bmatrix}\n",
    "10 \\\\\n",
    "2 \\\\\n",
    "3 \n",
    "\\end{bmatrix}\n",
    "$\n",
    "\n",
    "\n",
    "$ Ax = b $"
   ]
  },
  {
   "cell_type": "code",
   "execution_count": 61,
   "id": "0ebe4508",
   "metadata": {},
   "outputs": [
    {
     "data": {
      "text/plain": [
       "[2*x + 3*y + z - 10, 4*x - y + z - 2, 3*x + y - z - 3]"
      ]
     },
     "execution_count": 61,
     "metadata": {},
     "output_type": "execute_result"
    }
   ],
   "source": [
    "#Second we need to bring everything to the left and setup 3 equations\n",
    "b1 = 10\n",
    "b2 = 2 \n",
    "b3 = 3\n",
    "\n",
    "#Combine the equations\n",
    "eq1 = 2*x + 3*y + z - b1\n",
    "eq2 = 4*x-y+z - b2 \n",
    "eq3 = 3*x+y-z -b3\n",
    "equations = [eq1,eq2,eq3]\n",
    "equations"
   ]
  },
  {
   "cell_type": "code",
   "execution_count": 62,
   "id": "aecd772f",
   "metadata": {},
   "outputs": [],
   "source": [
    "#Call the solver\n",
    "solutions = solve(equations,variables) #Be careful we are using Sympy solver NOT Numpy because we are dealing with a system of linear equations"
   ]
  },
  {
   "cell_type": "code",
   "execution_count": 63,
   "id": "d84e88a9",
   "metadata": {},
   "outputs": [
    {
     "name": "stdout",
     "output_type": "stream",
     "text": [
      "X-value: 5/7\n",
      "y-value: 33/14\n",
      "z-value: 3/2\n"
     ]
    }
   ],
   "source": [
    "# Check the solutions\n",
    "print(f'X-value: {solutions[x]}')\n",
    "print(f'y-value: {solutions[y]}')\n",
    "print(f'z-value: {solutions[z]}')"
   ]
  },
  {
   "cell_type": "code",
   "execution_count": 64,
   "id": "fa4b91ff",
   "metadata": {},
   "outputs": [
    {
     "name": "stdout",
     "output_type": "stream",
     "text": [
      "X-value: 0.7142857142857143\n",
      "y-value: 2.357142857142857\n",
      "z-value: 1.5\n"
     ]
    }
   ],
   "source": [
    "# Convert the solutions to floating point numbers\n",
    "print(f'X-value: {float(solutions[x])}')\n",
    "print(f'y-value: {float(solutions[y])}')\n",
    "print(f'z-value: {float(solutions[z])}')"
   ]
  },
  {
   "cell_type": "markdown",
   "id": "1dd4fd27",
   "metadata": {},
   "source": [
    "## Eigenvalues & Eigenvectors"
   ]
  },
  {
   "cell_type": "code",
   "execution_count": 65,
   "id": "09d745cf",
   "metadata": {},
   "outputs": [
    {
     "data": {
      "text/plain": [
       "array([[1, 2],\n",
       "       [1, 0]])"
      ]
     },
     "execution_count": 65,
     "metadata": {},
     "output_type": "execute_result"
    }
   ],
   "source": [
    "A = np.array([[1,2],[1,0]])\n",
    "A"
   ]
  },
  {
   "cell_type": "code",
   "execution_count": 66,
   "id": "9ae4e2f5",
   "metadata": {},
   "outputs": [
    {
     "data": {
      "text/plain": [
       "(array([ 2., -1.]),\n",
       " array([[ 0.89442719, -0.70710678],\n",
       "        [ 0.4472136 ,  0.70710678]]))"
      ]
     },
     "execution_count": 66,
     "metadata": {},
     "output_type": "execute_result"
    }
   ],
   "source": [
    "eigenvalues = la.eig(A)\n",
    "eigenvalues #The first array is for eigenvalues, the second one contains the eigenvectors"
   ]
  },
  {
   "cell_type": "code",
   "execution_count": 67,
   "id": "e8cccbcc",
   "metadata": {},
   "outputs": [
    {
     "name": "stdout",
     "output_type": "stream",
     "text": [
      "Eigenvalues are: [ 2. -1.]\n"
     ]
    }
   ],
   "source": [
    "print(f'Eigenvalues are: {eigenvalues[0]}')"
   ]
  },
  {
   "cell_type": "code",
   "execution_count": 68,
   "id": "1a9757a3",
   "metadata": {},
   "outputs": [
    {
     "name": "stdout",
     "output_type": "stream",
     "text": [
      "Eigenvectors are: [[ 0.89442719 -0.70710678]\n",
      " [ 0.4472136   0.70710678]]\n"
     ]
    }
   ],
   "source": [
    "print(f'Eigenvectors are: {eigenvalues[1]}')"
   ]
  },
  {
   "cell_type": "markdown",
   "id": "dd384454",
   "metadata": {},
   "source": [
    "### Linear Optimization"
   ]
  },
  {
   "cell_type": "markdown",
   "id": "183bdabe",
   "metadata": {},
   "source": [
    "\\begin{alignat*}{2}\n",
    "\\text{Minimize:} \\quad & -2x - 3y \\\\\n",
    "\\text{Subject to:} \\quad & x + y &\\leq 5 \\\\\n",
    "                        & x - 2y &\\leq 2 \\\\\n",
    "                        & -x + y &\\leq 3 \\\\\n",
    "                        & x &\\geq 0 \\\\\n",
    "                        & y &\\geq 0\n",
    "\\end{alignat*}"
   ]
  },
  {
   "cell_type": "code",
   "execution_count": 69,
   "id": "801d049c",
   "metadata": {},
   "outputs": [
    {
     "name": "stdout",
     "output_type": "stream",
     "text": [
      "Optimal solution:\n",
      "x = 1.0\n",
      "y = 4.0\n"
     ]
    }
   ],
   "source": [
    "from scipy.optimize import linprog #Good tool for linear optimization\n",
    "\n",
    "# Objective function coefficients\n",
    "c = [-2, -3] #This is -2x-3y\n",
    "\n",
    "# Coefficient matrix for inequality constraints\n",
    "A = [[1, 1],  #1. x+y <= 5\n",
    "     [1, -2], #2. x-2y <=2\n",
    "     [-1, 1]] #3. -x+y <= 3\n",
    "\n",
    "# Right-hand side of inequality constraints\n",
    "b = [5, 2, 3] #1, 2, 3 \n",
    "\n",
    "# Bounds on variables\n",
    "x_bounds = (0, None) #x >= 0\n",
    "y_bounds = (0, None) #y >= 0\n",
    "\n",
    "# Solve linear optimization problem\n",
    "result = linprog(c, A_ub=A, b_ub=b, bounds=[x_bounds, y_bounds])\n",
    "\n",
    "# Print the optimal solution\n",
    "if result.success:\n",
    "    print(\"Optimal solution:\")\n",
    "    print(\"x =\", result.x[0])\n",
    "    print(\"y =\", result.x[1])\n",
    "else:\n",
    "    print(\"Optimization failed. Status code:\", result.status)"
   ]
  },
  {
   "cell_type": "code",
   "execution_count": 70,
   "id": "341137ca",
   "metadata": {},
   "outputs": [
    {
     "data": {
      "image/png": "[encoded data removed]",
      "text/plain": [
       "<Figure size 640x480 with 1 Axes>"
      ]
     },
     "metadata": {},
     "output_type": "display_data"
    }
   ],
   "source": [
    "import numpy as np\n",
    "import matplotlib.pyplot as plt\n",
    "\n",
    "# Define the inequalities\n",
    "x = np.linspace(0, 10, 100)\n",
    "y1 = np.minimum(5 - x, np.inf)\n",
    "y2 = np.minimum((2 + x) / 2, np.inf)\n",
    "y3 = np.minimum(3 + x, np.inf)\n",
    "\n",
    "# Plot the feasible region\n",
    "plt.plot(x, y1, label=r'$x + y \\leq 5$')\n",
    "plt.plot(x, y2, label=r'$x - 2y \\leq 2$')\n",
    "plt.plot(x, y3, label=r'$-x + y \\leq 3$')\n",
    "\n",
    "# Fill the feasible region\n",
    "plt.fill_between(x, np.maximum(y1, 0), np.maximum(y2, 0), where=(y1 >= 0) & (y2 >= 0), color='grey', alpha=0.3)\n",
    "plt.fill_between(x, np.maximum(y1, 0), np.maximum(y3, 0), where=(y1 >= 0) & (y3 >= 0), color='blue', alpha=0.3)\n",
    "plt.fill_between(x, np.maximum(y2, 0), np.maximum(y3, 0), where=(y2 >= 0) & (y3 >= 0), color='yellow', alpha=0.3)\n",
    "\n",
    "plt.xlim(0, 10)\n",
    "plt.ylim(0, 10)\n",
    "plt.xlabel('x')\n",
    "plt.ylabel('y')\n",
    "plt.title('Feasible Region')\n",
    "plt.legend()\n",
    "plt.grid(True)\n",
    "plt.show()"
   ]
  },
  {
   "cell_type": "markdown",
   "id": "878aab92",
   "metadata": {},
   "source": [
    "# Summation"
   ]
  },
  {
   "cell_type": "markdown",
   "id": "5ca94eff",
   "metadata": {},
   "source": [
    "# $ \\sum_{i=0}^{5}i^2 $"
   ]
  },
  {
   "cell_type": "code",
   "execution_count": 71,
   "id": "97727f48",
   "metadata": {},
   "outputs": [
    {
     "name": "stdout",
     "output_type": "stream",
     "text": [
      "55\n"
     ]
    }
   ],
   "source": [
    "total = 0\n",
    "n = 5\n",
    "for i in range(n+1):\n",
    "    total += i**2\n",
    "print(total)"
   ]
  },
  {
   "cell_type": "markdown",
   "id": "5670b9ea",
   "metadata": {},
   "source": [
    "# Product"
   ]
  },
  {
   "cell_type": "markdown",
   "id": "3ec95b7c",
   "metadata": {},
   "source": [
    "# $ \\Pi_{i=1}^{5}i^2 $"
   ]
  },
  {
   "cell_type": "code",
   "execution_count": 72,
   "id": "e96c948d",
   "metadata": {},
   "outputs": [
    {
     "name": "stdout",
     "output_type": "stream",
     "text": [
      "14400\n"
     ]
    }
   ],
   "source": [
    "total = 1\n",
    "for i in range(1,n+1):\n",
    "    total *= i**2\n",
    "print(total)"
   ]
  },
  {
   "cell_type": "markdown",
   "id": "87469769",
   "metadata": {},
   "source": [
    "# Probability and Statistics"
   ]
  },
  {
   "cell_type": "markdown",
   "id": "52b6e746",
   "metadata": {},
   "source": [
    "# Normal Distribtution"
   ]
  },
  {
   "cell_type": "markdown",
   "id": "b00a3112",
   "metadata": {},
   "source": [
    "### Probability Density Function (PDF):\n",
    "\n",
    "$ f(x|\\mu,\\sigma) = \\frac{1}{\\sqrt{2\\pi\\sigma^2}}e^{-\\frac{(x-\\mu)^2}{2\\sigma^2}} $\n"
   ]
  },
  {
   "cell_type": "code",
   "execution_count": 73,
   "id": "e5e76165",
   "metadata": {},
   "outputs": [
    {
     "data": {
      "image/png": "[encoded data removed]",
      "text/plain": [
       "<Figure size 640x480 with 1 Axes>"
      ]
     },
     "metadata": {},
     "output_type": "display_data"
    }
   ],
   "source": [
    "from scipy.stats import norm\n",
    "import matplotlib.pyplot as plt\n",
    "\n",
    "# Generate random samples from a standard normal distribution\n",
    "samples = norm.rvs(size=1000)\n",
    "\n",
    "# Plot a histogram of the samples\n",
    "plt.hist(samples, bins=30, density=True, alpha=0.7)\n",
    "plt.xlabel('x')\n",
    "plt.ylabel('Probability Density')\n",
    "plt.title('Standard Normal Distribution')\n",
    "plt.show()"
   ]
  },
  {
   "cell_type": "markdown",
   "id": "a1699adc",
   "metadata": {},
   "source": [
    "### Cumulative Distributive Function (CDF): \n",
    "$ F(x|\\mu,\\sigma) = \\frac{1}{2}\\left[1 + \\text{erf}\\left(\\frac{x-\\mu}{\\sqrt{2\\sigma^2}}\\right)\\right] $"
   ]
  },
  {
   "cell_type": "code",
   "execution_count": 74,
   "id": "ee3b3474",
   "metadata": {},
   "outputs": [
    {
     "data": {
      "image/png": "[encoded data removed]",
      "text/plain": [
       "<Figure size 640x480 with 1 Axes>"
      ]
     },
     "metadata": {},
     "output_type": "display_data"
    }
   ],
   "source": [
    "from scipy.stats import norm\n",
    "import numpy as np\n",
    "import matplotlib.pyplot as plt\n",
    "\n",
    "# Define the range of x values\n",
    "x = np.linspace(-4, 4, 100)\n",
    "\n",
    "# Compute the CDF values for the normal distribution\n",
    "mu = 0\n",
    "sigma = 1\n",
    "cdf_values = norm.cdf(x, loc=mu, scale=sigma)\n",
    "\n",
    "# Plot the CDF\n",
    "plt.plot(x, cdf_values)\n",
    "plt.xlabel('x')\n",
    "plt.ylabel('CDF')\n",
    "plt.title('CDF of Normal Distribution')\n",
    "plt.grid(True)\n",
    "plt.show()"
   ]
  },
  {
   "cell_type": "markdown",
   "id": "601a0c22",
   "metadata": {},
   "source": [
    "# Uniform Distribution"
   ]
  },
  {
   "cell_type": "markdown",
   "id": "0eb7df9b",
   "metadata": {},
   "source": [
    "### Probability Density Function (PDF):\n",
    "\n",
    "$ f(x|a,b) = \\frac{1}{b-a} \\quad \\text{for } a \\leq x \\leq b $"
   ]
  },
  {
   "cell_type": "code",
   "execution_count": 75,
   "id": "51fc2132",
   "metadata": {},
   "outputs": [
    {
     "data": {
      "image/png": "[encoded data removed]",
      "text/plain": [
       "<Figure size 640x480 with 1 Axes>"
      ]
     },
     "metadata": {},
     "output_type": "display_data"
    }
   ],
   "source": [
    "from scipy.stats import uniform\n",
    "import matplotlib.pyplot as plt\n",
    "\n",
    "# Generate random samples from a uniform distribution\n",
    "samples = uniform.rvs(size=1000)\n",
    "\n",
    "# Plot a histogram of the samples\n",
    "plt.hist(samples, bins=30, density=True, alpha=0.7)\n",
    "plt.xlabel('x')\n",
    "plt.ylabel('Probability Density')\n",
    "plt.title('Uniform Distribution')\n",
    "plt.show()"
   ]
  },
  {
   "cell_type": "markdown",
   "id": "15779900",
   "metadata": {},
   "source": [
    "### Cumulative Distributive Function (CDF): \n",
    "$\n",
    "F(x|a,b) = \\begin{cases} \n",
    "             0 & \\text{for } x < a \\\\\n",
    "             \\frac{x-a}{b-a} & \\text{for } a \\leq x \\leq b \\\\\n",
    "             1 & \\text{for } x > b\n",
    "           \\end{cases}\n",
    "$"
   ]
  },
  {
   "cell_type": "code",
   "execution_count": 76,
   "id": "fd1eca51",
   "metadata": {},
   "outputs": [
    {
     "data": {
      "image/png": "[encoded data removed]",
      "text/plain": [
       "<Figure size 640x480 with 1 Axes>"
      ]
     },
     "metadata": {},
     "output_type": "display_data"
    }
   ],
   "source": [
    "from scipy.stats import uniform\n",
    "import numpy as np\n",
    "import matplotlib.pyplot as plt\n",
    "\n",
    "# Define the range of x values\n",
    "x = np.linspace(0, 1, 100)\n",
    "\n",
    "# Compute the CDF values for the uniform distribution\n",
    "a = 0\n",
    "b = 1\n",
    "cdf_values = uniform.cdf(x, loc=a, scale=b-a)\n",
    "\n",
    "# Plot the CDF\n",
    "plt.plot(x, cdf_values)\n",
    "plt.xlabel('x')\n",
    "plt.ylabel('CDF')\n",
    "plt.title('CDF of Uniform Distribution')\n",
    "plt.grid(True)\n",
    "plt.show()\n"
   ]
  },
  {
   "cell_type": "markdown",
   "id": "fa429a4d",
   "metadata": {},
   "source": [
    "# Exponential Distribution"
   ]
  },
  {
   "cell_type": "markdown",
   "id": "b56939f9",
   "metadata": {},
   "source": [
    "### Probability Density Function (PDF):\n",
    "\n",
    "$ f(x|\\lambda) = \\lambda e^{-\\lambda x} \\quad \\text{for } x \\geq 0 $"
   ]
  },
  {
   "cell_type": "code",
   "execution_count": 77,
   "id": "ca649226",
   "metadata": {},
   "outputs": [
    {
     "data": {
      "image/png": "[encoded data removed]",
      "text/plain": [
       "<Figure size 640x480 with 1 Axes>"
      ]
     },
     "metadata": {},
     "output_type": "display_data"
    }
   ],
   "source": [
    "from scipy.stats import expon\n",
    "import matplotlib.pyplot as plt\n",
    "\n",
    "# Generate random samples from an exponential distribution\n",
    "samples = expon.rvs(scale=1, size=1000)\n",
    "\n",
    "# Plot a histogram of the samples\n",
    "plt.hist(samples, bins=30, density=True, alpha=0.7)\n",
    "plt.xlabel('x')\n",
    "plt.ylabel('Probability Density')\n",
    "plt.title('Exponential Distribution')\n",
    "plt.show()"
   ]
  },
  {
   "cell_type": "markdown",
   "id": "7e7fe7c6",
   "metadata": {},
   "source": [
    "### Cumulative Distributive Function (CDF):\n",
    "\n",
    "$F(x|\\lambda) = 1 - e^{-\\lambda x} \\quad \\text{for } x \\geq 0 $"
   ]
  },
  {
   "cell_type": "code",
   "execution_count": 78,
   "id": "67a81346",
   "metadata": {},
   "outputs": [
    {
     "data": {
      "image/png": "[encoded data removed]",
      "text/plain": [
       "<Figure size 640x480 with 1 Axes>"
      ]
     },
     "metadata": {},
     "output_type": "display_data"
    }
   ],
   "source": [
    "from scipy.stats import expon\n",
    "import numpy as np\n",
    "import matplotlib.pyplot as plt\n",
    "\n",
    "# Define the range of x values\n",
    "x = np.linspace(0, 5, 100)\n",
    "\n",
    "# Compute the CDF values for the exponential distribution\n",
    "lambda_param = 0.5\n",
    "cdf_values = expon.cdf(x, scale=1/lambda_param)\n",
    "\n",
    "# Plot the CDF\n",
    "plt.plot(x, cdf_values)\n",
    "plt.xlabel('x')\n",
    "plt.ylabel('CDF')\n",
    "plt.title('CDF of Exponential Distribution')\n",
    "plt.grid(True)\n",
    "plt.show()"
   ]
  },
  {
   "cell_type": "markdown",
   "id": "418f6dc5",
   "metadata": {},
   "source": [
    "# Poisson Distribution"
   ]
  },
  {
   "cell_type": "markdown",
   "id": "076a52d6",
   "metadata": {},
   "source": [
    "### Probability Density Function (PDF):\n",
    "\n",
    "$ P(X=k|\\lambda) = \\frac{e^{-\\lambda}\\lambda^k}{k!} \\quad \\text{for } k = 0, 1, 2, \\ldots $"
   ]
  },
  {
   "cell_type": "code",
   "execution_count": 79,
   "id": "85744050",
   "metadata": {},
   "outputs": [
    {
     "data": {
      "image/png": "[encoded data removed]",
      "text/plain": [
       "<Figure size 640x480 with 1 Axes>"
      ]
     },
     "metadata": {},
     "output_type": "display_data"
    }
   ],
   "source": [
    "from scipy.stats import poisson\n",
    "import matplotlib.pyplot as plt\n",
    "\n",
    "# Generate random samples from a Poisson distribution\n",
    "samples = poisson.rvs(mu=3, size=1000)\n",
    "\n",
    "# Plot a histogram of the samples\n",
    "plt.hist(samples, bins=30, density=True, alpha=0.7)\n",
    "plt.xlabel('x')\n",
    "plt.ylabel('Probability Density')\n",
    "plt.title('Poisson Distribution')\n",
    "plt.show()"
   ]
  },
  {
   "cell_type": "markdown",
   "id": "c1adfa8d",
   "metadata": {},
   "source": [
    "### Cumulative Distributive Function (CDF):\n",
    "\n",
    "$ F(X=k|\\lambda) = \\sum_{i=0}^{k} \\frac{e^{-\\lambda}\\lambda^i}{i!} \\quad \\text{for } k = 0, 1, 2, \\ldots $"
   ]
  },
  {
   "cell_type": "code",
   "execution_count": 80,
   "id": "11633c0e",
   "metadata": {},
   "outputs": [
    {
     "data": {
      "image/png": "[encoded data removed]",
      "text/plain": [
       "<Figure size 640x480 with 1 Axes>"
      ]
     },
     "metadata": {},
     "output_type": "display_data"
    }
   ],
   "source": [
    "from scipy.stats import poisson\n",
    "import numpy as np\n",
    "import matplotlib.pyplot as plt\n",
    "\n",
    "# Define the range of k values\n",
    "k = np.arange(0, 10)\n",
    "\n",
    "# Compute the CDF values for the Poisson distribution\n",
    "lambda_param = 2\n",
    "cdf_values = poisson.cdf(k, mu=lambda_param)\n",
    "\n",
    "# Plot the CDF\n",
    "plt.step(k, cdf_values, where='post')\n",
    "plt.xlabel('k')\n",
    "plt.ylabel('CDF')\n",
    "plt.title('CDF of Poisson Distribution')\n",
    "plt.grid(True)\n",
    "plt.show()"
   ]
  },
  {
   "cell_type": "markdown",
   "id": "13d69281",
   "metadata": {},
   "source": [
    "# Binomial Distribution"
   ]
  },
  {
   "cell_type": "markdown",
   "id": "3d54a62b",
   "metadata": {},
   "source": [
    "### Probability Density Function (PDF):\n",
    "$ P(X=k|n,p) = \\binom{n}{k} p^k (1-p)^{n-k} \\quad \\text{for } k = 0, 1, 2, \\ldots, n $"
   ]
  },
  {
   "cell_type": "code",
   "execution_count": 81,
   "id": "3954ba70",
   "metadata": {},
   "outputs": [
    {
     "data": {
      "image/png": "[encoded data removed]",
      "text/plain": [
       "<Figure size 640x480 with 1 Axes>"
      ]
     },
     "metadata": {},
     "output_type": "display_data"
    }
   ],
   "source": [
    "from scipy.stats import binom\n",
    "import matplotlib.pyplot as plt\n",
    "\n",
    "# Parameters of the binomial distribution\n",
    "n = 10  # Number of trials\n",
    "p = 0.5  # Probability of success\n",
    "\n",
    "# Generate random samples from a binomial distribution\n",
    "samples = binom.rvs(n=n, p=p, size=1000)\n",
    "\n",
    "# Plot a histogram of the samples\n",
    "plt.hist(samples, bins=range(n + 2), density=True, alpha=0.7)\n",
    "plt.xlabel('x')\n",
    "plt.ylabel('Probability Density')\n",
    "plt.title('Binomial Distribution')\n",
    "plt.show()"
   ]
  },
  {
   "cell_type": "markdown",
   "id": "59d03ebb",
   "metadata": {},
   "source": [
    "### Cumulative Distributive Function (CDF):\n",
    "$ F(X=k|n,p) = \\sum_{i=0}^{k} \\binom{n}{i} p^i (1-p)^{n-i} \\quad \\text{for } k = 0, 1, 2, \\ldots, n $"
   ]
  },
  {
   "cell_type": "code",
   "execution_count": 82,
   "id": "ae6b038e",
   "metadata": {},
   "outputs": [
    {
     "data": {
      "image/png": "[encoded data removed]",
      "text/plain": [
       "<Figure size 640x480 with 1 Axes>"
      ]
     },
     "metadata": {},
     "output_type": "display_data"
    }
   ],
   "source": [
    "from scipy.stats import binom\n",
    "import numpy as np\n",
    "import matplotlib.pyplot as plt\n",
    "\n",
    "# Define the range of k values\n",
    "k = np.arange(0, 11)\n",
    "\n",
    "# Compute the CDF values for the binomial distribution\n",
    "n = 10\n",
    "p = 0.4\n",
    "cdf_values = binom.cdf(k, n, p)\n",
    "\n",
    "# Plot the CDF\n",
    "plt.step(k, cdf_values, where='post')\n",
    "plt.xlabel('k')\n",
    "plt.ylabel('CDF')\n",
    "plt.title('CDF of Binomial Distribution')\n",
    "plt.grid(True)\n",
    "plt.show()"
   ]
  },
  {
   "cell_type": "code",
   "execution_count": null,
   "id": "e6f86af6",
   "metadata": {},
   "outputs": [],
   "source": []
  }
 ],
 "metadata": {
  "kernelspec": {
   "display_name": "Python 3 (ipykernel)",
   "language": "python",
   "name": "python3"
  },
  "language_info": {
   "codemirror_mode": {
    "name": "ipython",
    "version": 3
   },
   "file_extension": ".py",
   "mimetype": "text/x-python",
   "name": "python",
   "nbconvert_exporter": "python",
   "pygments_lexer": "ipython3",
   "version": "3.9.13"
  }
 },
 "nbformat": 4,
 "nbformat_minor": 5
}
