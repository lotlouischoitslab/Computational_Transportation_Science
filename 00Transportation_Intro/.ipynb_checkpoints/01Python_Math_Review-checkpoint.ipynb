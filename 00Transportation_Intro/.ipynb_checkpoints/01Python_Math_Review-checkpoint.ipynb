{
 "cells": [
  {
   "cell_type": "code",
   "execution_count": 1,
   "id": "5a0838ea",
   "metadata": {},
   "outputs": [],
   "source": [
    "import numpy as np\n",
    "import pandas as pd\n",
    "import matplotlib.pyplot as plt\n",
    "%matplotlib inline"
   ]
  },
  {
   "cell_type": "markdown",
   "id": "af579ad8",
   "metadata": {},
   "source": [
    "# Python Review"
   ]
  },
  {
   "cell_type": "markdown",
   "id": "56e9f67a",
   "metadata": {},
   "source": [
    "## Basic Variable Types"
   ]
  },
  {
   "cell_type": "code",
   "execution_count": 2,
   "id": "a9d8383f",
   "metadata": {},
   "outputs": [
    {
     "data": {
      "text/plain": [
       "8"
      ]
     },
     "execution_count": 2,
     "metadata": {},
     "output_type": "execute_result"
    }
   ],
   "source": [
    "#Arithmetic\n",
    "a = 5\n",
    "b = 3\n",
    "a+b #addition"
   ]
  },
  {
   "cell_type": "code",
   "execution_count": 3,
   "id": "972fe2f0",
   "metadata": {},
   "outputs": [
    {
     "data": {
      "text/plain": [
       "2"
      ]
     },
     "execution_count": 3,
     "metadata": {},
     "output_type": "execute_result"
    }
   ],
   "source": [
    "a-b #subtraction"
   ]
  },
  {
   "cell_type": "code",
   "execution_count": 4,
   "id": "bafaeef9",
   "metadata": {},
   "outputs": [
    {
     "data": {
      "text/plain": [
       "15"
      ]
     },
     "execution_count": 4,
     "metadata": {},
     "output_type": "execute_result"
    }
   ],
   "source": [
    "a*b #multiplication"
   ]
  },
  {
   "cell_type": "code",
   "execution_count": 5,
   "id": "d814a61e",
   "metadata": {},
   "outputs": [
    {
     "data": {
      "text/plain": [
       "1.6666666666666667"
      ]
     },
     "execution_count": 5,
     "metadata": {},
     "output_type": "execute_result"
    }
   ],
   "source": [
    "a/b #division"
   ]
  },
  {
   "cell_type": "code",
   "execution_count": 6,
   "id": "3cad6772",
   "metadata": {},
   "outputs": [
    {
     "data": {
      "text/plain": [
       "1"
      ]
     },
     "execution_count": 6,
     "metadata": {},
     "output_type": "execute_result"
    }
   ],
   "source": [
    "a//b #integer division"
   ]
  },
  {
   "cell_type": "code",
   "execution_count": 7,
   "id": "39ac2321",
   "metadata": {},
   "outputs": [
    {
     "data": {
      "text/plain": [
       "2"
      ]
     },
     "execution_count": 7,
     "metadata": {},
     "output_type": "execute_result"
    }
   ],
   "source": [
    "a%b #remainder"
   ]
  },
  {
   "cell_type": "code",
   "execution_count": 8,
   "id": "c57280f7",
   "metadata": {},
   "outputs": [
    {
     "data": {
      "text/plain": [
       "1.67"
      ]
     },
     "execution_count": 8,
     "metadata": {},
     "output_type": "execute_result"
    }
   ],
   "source": [
    "#round to 2 decimal places\n",
    "result = a/b\n",
    "k = 2 \n",
    "round(result,k)"
   ]
  },
  {
   "cell_type": "code",
   "execution_count": 9,
   "id": "d02836db",
   "metadata": {},
   "outputs": [
    {
     "name": "stdout",
     "output_type": "stream",
     "text": [
      "Louis is 22 years old.\n"
     ]
    }
   ],
   "source": [
    "age = 22 #how to format certain strings\n",
    "print(f'Louis is {age} years old.')"
   ]
  },
  {
   "cell_type": "code",
   "execution_count": 10,
   "id": "54675613",
   "metadata": {},
   "outputs": [
    {
     "name": "stdout",
     "output_type": "stream",
     "text": [
      "Louis Sungwoo Cho UIUC\n"
     ]
    }
   ],
   "source": [
    "name = 'Louis Sungwoo Cho' #strings\n",
    "school = 'UIUC'\n",
    "print(name,school) #comma adds a space between two variables when printing in python"
   ]
  },
  {
   "cell_type": "markdown",
   "id": "185b7b5f",
   "metadata": {},
   "source": [
    "# Python Functions & Basic Data Structures"
   ]
  },
  {
   "cell_type": "code",
   "execution_count": 11,
   "id": "f2730089",
   "metadata": {},
   "outputs": [],
   "source": [
    "louis_list = [] #this is a list"
   ]
  },
  {
   "cell_type": "code",
   "execution_count": 12,
   "id": "ac678ded",
   "metadata": {},
   "outputs": [
    {
     "data": {
      "text/plain": [
       "[0]"
      ]
     },
     "execution_count": 12,
     "metadata": {},
     "output_type": "execute_result"
    }
   ],
   "source": [
    "louis_list.append(0) #append 0 to list\n",
    "louis_list"
   ]
  },
  {
   "cell_type": "code",
   "execution_count": 13,
   "id": "bdde7804",
   "metadata": {},
   "outputs": [
    {
     "data": {
      "text/plain": [
       "[0, 0, 1, 2]"
      ]
     },
     "execution_count": 13,
     "metadata": {},
     "output_type": "execute_result"
    }
   ],
   "source": [
    "for i in range(3):\n",
    "    louis_list.append(i)\n",
    "louis_list"
   ]
  },
  {
   "cell_type": "code",
   "execution_count": 14,
   "id": "2f9f2470",
   "metadata": {},
   "outputs": [
    {
     "data": {
      "text/plain": [
       "[1, 2, 4, 5, 5, 6, 7]"
      ]
     },
     "execution_count": 14,
     "metadata": {},
     "output_type": "execute_result"
    }
   ],
   "source": [
    "unsorted = [5,1,7,6,2,4,5] #Python sort function\n",
    "sorted_ = sorted(unsorted)\n",
    "sorted_"
   ]
  },
  {
   "cell_type": "code",
   "execution_count": 15,
   "id": "578196dc",
   "metadata": {},
   "outputs": [],
   "source": [
    "#How to define a function in Python\n",
    "#Always start off by writing 'def'\n",
    "#def() inside the parenthesis, you will put the variables\n",
    "\n",
    "#Compute Fibonnacci Number f[i] = f[i-1] + f[i-2]\n",
    "\n",
    "def fib(n):\n",
    "    f = [0 for i in range(n)] #initializes 0 for n times for an array\n",
    "    f[0] = 0 #sets the first element to 0\n",
    "    f[1] = 1 #sets the second element to 1\n",
    "    \n",
    "    for i in range(2,n): #for i in range 2 to the index of the last element n-1\n",
    "        f[i] = f[i-1]+f[i-2] #assign the variable\n",
    "        \n",
    "    return f[n-1] #return the last element of the variable"
   ]
  },
  {
   "cell_type": "code",
   "execution_count": 16,
   "id": "c58ee669",
   "metadata": {},
   "outputs": [
    {
     "data": {
      "text/plain": [
       "13"
      ]
     },
     "execution_count": 16,
     "metadata": {},
     "output_type": "execute_result"
    }
   ],
   "source": [
    "answer = fib(8)\n",
    "answer"
   ]
  },
  {
   "cell_type": "code",
   "execution_count": 17,
   "id": "5e1d6c96",
   "metadata": {},
   "outputs": [],
   "source": [
    "#You can return multiple variables using Python functions\n",
    "def fib(n):\n",
    "    f = [0 for i in range(n)] #initializes 0 for n times\n",
    "    f[0] = 0 #sets the first element to 0\n",
    "    f[1] = 1 #sets the second element to 1\n",
    "    \n",
    "    for i in range(2,n): #for i in range 2 to the index of the last element n-1\n",
    "        f[i] = f[i-1]+f[i-2] #assign the variable\n",
    "        \n",
    "    return f,f[n-1] #return the last element of the variable"
   ]
  },
  {
   "cell_type": "code",
   "execution_count": 18,
   "id": "24cedd73",
   "metadata": {},
   "outputs": [
    {
     "name": "stdout",
     "output_type": "stream",
     "text": [
      "Fibonacci Dynamic Programming Array:[0, 1, 1, 2, 3, 5, 8, 13]\n",
      "Answer of F(n) when n = 8 is 13\n"
     ]
    }
   ],
   "source": [
    "n = 8\n",
    "dp,answer = fib(n)\n",
    "print(f'Fibonacci Dynamic Programming Array:{dp}')\n",
    "print(f'Answer of F(n) when n = 8 is {answer}')"
   ]
  },
  {
   "cell_type": "code",
   "execution_count": 19,
   "id": "851ceab4",
   "metadata": {},
   "outputs": [
    {
     "data": {
      "text/plain": [
       "[[0, 0], [0, 0], [0, 0]]"
      ]
     },
     "execution_count": 19,
     "metadata": {},
     "output_type": "execute_result"
    }
   ],
   "source": [
    "#We can work with 2-Dimensional Arrays\n",
    "#We will be creating a 3x2 matrix populating each element with 0.\n",
    "rows = 3\n",
    "cols = 2\n",
    "matrix = [[0 for j in range(cols)]for i in range(rows)]\n",
    "matrix"
   ]
  },
  {
   "cell_type": "code",
   "execution_count": 20,
   "id": "e67a66c1",
   "metadata": {},
   "outputs": [
    {
     "data": {
      "text/plain": [
       "[[0, 1], [1, 2], [2, 3]]"
      ]
     },
     "execution_count": 20,
     "metadata": {},
     "output_type": "execute_result"
    }
   ],
   "source": [
    "#How to traverse 2D arrays in Python\n",
    "#Guess what this function is trying to do\n",
    "for i in range(rows): #for each row\n",
    "    for j in range(cols): #we will be traversing each columns\n",
    "        matrix[i][j] = i+j\n",
    "matrix"
   ]
  },
  {
   "cell_type": "markdown",
   "id": "4b412d0e",
   "metadata": {},
   "source": [
    "# Calculus"
   ]
  },
  {
   "cell_type": "markdown",
   "id": "71766f4f",
   "metadata": {},
   "source": [
    "## Displacement $x(t)$ "
   ]
  },
  {
   "cell_type": "markdown",
   "id": "bef1b55b",
   "metadata": {},
   "source": [
    "$$x(t) = vit+\\frac{1}{2}at^2$$"
   ]
  },
  {
   "cell_type": "markdown",
   "id": "8c7229f1",
   "metadata": {},
   "source": [
    "## Compute Velocity $v(t)$"
   ]
  },
  {
   "cell_type": "markdown",
   "id": "35fa5344",
   "metadata": {},
   "source": [
    "$$\\frac{dx}{dt} = V(t)$$"
   ]
  },
  {
   "cell_type": "markdown",
   "id": "d9b68856",
   "metadata": {},
   "source": [
    "## Compute Acceleration a(t)"
   ]
  },
  {
   "cell_type": "markdown",
   "id": "85c1f8c4",
   "metadata": {},
   "source": [
    "$$ a(t) = \\frac{dv}{dt} $$"
   ]
  },
  {
   "cell_type": "code",
   "execution_count": 21,
   "id": "62468d72",
   "metadata": {},
   "outputs": [
    {
     "data": {
      "text/latex": [
       "$\\displaystyle t$"
      ],
      "text/plain": [
       "t"
      ]
     },
     "execution_count": 21,
     "metadata": {},
     "output_type": "execute_result"
    }
   ],
   "source": [
    "from sympy import * # I love sympy library :) for calculus!\n",
    "t = symbols('t')\n",
    "t"
   ]
  },
  {
   "cell_type": "markdown",
   "id": "520c4766",
   "metadata": {},
   "source": [
    "## Derivatives"
   ]
  },
  {
   "cell_type": "code",
   "execution_count": 27,
   "id": "dd063af4",
   "metadata": {},
   "outputs": [
    {
     "data": {
      "text/latex": [
       "$\\displaystyle 5.0 t^{2} + 5 t$"
      ],
      "text/plain": [
       "5.0*t**2 + 5*t"
      ]
     },
     "execution_count": 27,
     "metadata": {},
     "output_type": "execute_result"
    }
   ],
   "source": [
    "#Compute Displacement\n",
    "vi = 5 #m/s\n",
    "a = 10 #m/s^2\n",
    "x = vi*t+0.5*a*t**2\n",
    "x"
   ]
  },
  {
   "cell_type": "code",
   "execution_count": 28,
   "id": "16d684f7",
   "metadata": {},
   "outputs": [
    {
     "data": {
      "text/latex": [
       "$\\displaystyle 10.0 t + 5$"
      ],
      "text/plain": [
       "10.0*t + 5"
      ]
     },
     "execution_count": 28,
     "metadata": {},
     "output_type": "execute_result"
    }
   ],
   "source": [
    "#Compute Velocity\n",
    "v = diff(x,t)\n",
    "v"
   ]
  },
  {
   "cell_type": "code",
   "execution_count": 29,
   "id": "22859e1c",
   "metadata": {},
   "outputs": [
    {
     "data": {
      "text/latex": [
       "$\\displaystyle 10.0$"
      ],
      "text/plain": [
       "10.0000000000000"
      ]
     },
     "execution_count": 29,
     "metadata": {},
     "output_type": "execute_result"
    }
   ],
   "source": [
    "#Compute Acceleration\n",
    "a = diff(v,t)\n",
    "a"
   ]
  },
  {
   "cell_type": "markdown",
   "id": "f53e9c7d",
   "metadata": {},
   "source": [
    "## Compute $x(t)$ , $v(t)$ and $a(t)$ respectively when t = 3 seconds."
   ]
  },
  {
   "cell_type": "code",
   "execution_count": 24,
   "id": "3a5c0167",
   "metadata": {},
   "outputs": [],
   "source": [
    "from sympy import *"
   ]
  },
  {
   "cell_type": "code",
   "execution_count": 25,
   "id": "a27a47b4",
   "metadata": {},
   "outputs": [
    {
     "data": {
      "text/plain": [
       "60.0"
      ]
     },
     "execution_count": 25,
     "metadata": {},
     "output_type": "execute_result"
    }
   ],
   "source": [
    "#we are going to compute x(t) when t = 3\n",
    "x_ans = lambdify(t,x)\n",
    "ti = 3\n",
    "x_ans(ti)"
   ]
  },
  {
   "cell_type": "code",
   "execution_count": 26,
   "id": "3bcd1cfc",
   "metadata": {},
   "outputs": [
    {
     "data": {
      "text/plain": [
       "35.0"
      ]
     },
     "execution_count": 26,
     "metadata": {},
     "output_type": "execute_result"
    }
   ],
   "source": [
    "v_ans = lambdify(t,v)\n",
    "v_ans(ti)"
   ]
  },
  {
   "cell_type": "code",
   "execution_count": 30,
   "id": "ed0107a2",
   "metadata": {},
   "outputs": [
    {
     "data": {
      "text/plain": [
       "10.0"
      ]
     },
     "execution_count": 30,
     "metadata": {},
     "output_type": "execute_result"
    }
   ],
   "source": [
    "a_ans = lambdify(t,a)\n",
    "a_ans(ti)"
   ]
  },
  {
   "cell_type": "markdown",
   "id": "c25631cd",
   "metadata": {},
   "source": [
    "# Integration"
   ]
  },
  {
   "cell_type": "markdown",
   "id": "36107c67",
   "metadata": {},
   "source": [
    "$$\\ \\int_{a}^{b} x^2 dx \\$$"
   ]
  },
  {
   "cell_type": "markdown",
   "id": "4b75d585",
   "metadata": {},
   "source": [
    "$$\\Delta{x} = \\int_{t_i}^{t_f} (v_i+ at)dt$$"
   ]
  },
  {
   "cell_type": "markdown",
   "id": "0f2f832e",
   "metadata": {},
   "source": [
    "**Compute the change in displacement when $t_i = 0$ and $t_f = 5$ with $v_i$ = 5 m/s and $a$ = 2 m/s^2**"
   ]
  },
  {
   "cell_type": "code",
   "execution_count": 33,
   "id": "2ff14b47",
   "metadata": {},
   "outputs": [],
   "source": [
    "#Initialize all the variables\n",
    "vi = 5 #m/s\n",
    "a = 2 #m/s^2\n",
    "ti = 0 #seconds\n",
    "tf = 5 #seconds\n",
    "t = symbols('t')"
   ]
  },
  {
   "cell_type": "code",
   "execution_count": 36,
   "id": "50343bab",
   "metadata": {},
   "outputs": [
    {
     "data": {
      "text/latex": [
       "$\\displaystyle 2 t + 5$"
      ],
      "text/plain": [
       "2*t + 5"
      ]
     },
     "execution_count": 36,
     "metadata": {},
     "output_type": "execute_result"
    }
   ],
   "source": [
    "vf = vi+a*t\n",
    "vf"
   ]
  },
  {
   "cell_type": "code",
   "execution_count": 45,
   "id": "1a0662dc",
   "metadata": {},
   "outputs": [
    {
     "data": {
      "text/latex": [
       "$\\displaystyle t^{2} + 5 t$"
      ],
      "text/plain": [
       "t**2 + 5*t"
      ]
     },
     "execution_count": 45,
     "metadata": {},
     "output_type": "execute_result"
    }
   ],
   "source": [
    "delta_x = integrate(vf,t)\n",
    "delta_x"
   ]
  },
  {
   "cell_type": "code",
   "execution_count": 47,
   "id": "515f8cf8",
   "metadata": {},
   "outputs": [
    {
     "data": {
      "text/latex": [
       "$\\displaystyle 50$"
      ],
      "text/plain": [
       "50"
      ]
     },
     "execution_count": 47,
     "metadata": {},
     "output_type": "execute_result"
    }
   ],
   "source": [
    "vf_result = lambdify(t,vf)\n",
    "delta_x = integrate(vf,(t,ti,tf))\n",
    "delta_x"
   ]
  },
  {
   "cell_type": "markdown",
   "id": "80a0b76b",
   "metadata": {},
   "source": [
    "# Linear Algebra"
   ]
  },
  {
   "cell_type": "code",
   "execution_count": 53,
   "id": "4c0838cd",
   "metadata": {},
   "outputs": [],
   "source": [
    "# We will be using A LOT of numpy libraries\n",
    "import numpy as np"
   ]
  },
  {
   "cell_type": "markdown",
   "id": "5f8dd89d",
   "metadata": {},
   "source": [
    "$\\matrix[[]]$"
   ]
  },
  {
   "cell_type": "code",
   "execution_count": 54,
   "id": "196f7746",
   "metadata": {},
   "outputs": [
    {
     "data": {
      "text/plain": [
       "array([[1, 2],\n",
       "       [1, 0]])"
      ]
     },
     "execution_count": 54,
     "metadata": {},
     "output_type": "execute_result"
    }
   ],
   "source": [
    "matrix = np.array([[1,2],[1,0]])\n",
    "matrix"
   ]
  },
  {
   "cell_type": "code",
   "execution_count": null,
   "id": "f06f0088",
   "metadata": {},
   "outputs": [],
   "source": []
  },
  {
   "cell_type": "code",
   "execution_count": null,
   "id": "f2e0e5de",
   "metadata": {},
   "outputs": [],
   "source": []
  },
  {
   "cell_type": "markdown",
   "id": "878aab92",
   "metadata": {},
   "source": [
    "# Summation"
   ]
  },
  {
   "cell_type": "markdown",
   "id": "5ca94eff",
   "metadata": {},
   "source": [
    "# $ \\sum_{i=0}^{5}i^2 $"
   ]
  },
  {
   "cell_type": "code",
   "execution_count": 49,
   "id": "97727f48",
   "metadata": {},
   "outputs": [
    {
     "name": "stdout",
     "output_type": "stream",
     "text": [
      "55\n"
     ]
    }
   ],
   "source": [
    "total = 0\n",
    "n = 5\n",
    "for i in range(n+1):\n",
    "    total += i**2\n",
    "print(total)"
   ]
  },
  {
   "cell_type": "markdown",
   "id": "5670b9ea",
   "metadata": {},
   "source": [
    "# Product"
   ]
  },
  {
   "cell_type": "markdown",
   "id": "3ec95b7c",
   "metadata": {},
   "source": [
    "# $ \\Pi_{i=1}^{5}i^2 $"
   ]
  },
  {
   "cell_type": "code",
   "execution_count": 52,
   "id": "e96c948d",
   "metadata": {},
   "outputs": [
    {
     "name": "stdout",
     "output_type": "stream",
     "text": [
      "14400\n"
     ]
    }
   ],
   "source": [
    "total = 1\n",
    "for i in range(1,n+1):\n",
    "    total *= i**2\n",
    "print(total)"
   ]
  },
  {
   "cell_type": "markdown",
   "id": "87469769",
   "metadata": {},
   "source": [
    "# Probability and Statistics"
   ]
  },
  {
   "cell_type": "markdown",
   "id": "0e4a9c60",
   "metadata": {},
   "source": [
    "## [Ethanweed Probability and Statisics Tutorial](https://ethanweed.github.io/pythonbook/04.02-probability.html)"
   ]
  },
  {
   "cell_type": "code",
   "execution_count": 59,
   "id": "43053d4e",
   "metadata": {},
   "outputs": [],
   "source": [
    "import numpy as np\n",
    "import pandas as pd\n",
    "import matplotlib.pyplot as plt\n",
    "import seaborn as sns"
   ]
  },
  {
   "cell_type": "code",
   "execution_count": 60,
   "id": "c35a1c1b",
   "metadata": {},
   "outputs": [
    {
     "data": {
      "image/png": "[encoded data removed]",
      "text/plain": [
       "<Figure size 640x480 with 1 Axes>"
      ]
     },
     "metadata": {},
     "output_type": "display_data"
    }
   ],
   "source": [
    "df = pd.DataFrame(\n",
    "    {'probabilities': [.5, .3, .1, .1],\n",
    "     'eventNames': [\"Cars\", \"Buses\", \"Subways\", \"Taxis\"],\n",
    "    }) \n",
    "\n",
    "fig = sns.barplot(x='eventNames', y='probabilities', data=df)"
   ]
  },
  {
   "cell_type": "markdown",
   "id": "13d69281",
   "metadata": {},
   "source": [
    "### Binomial Distribution"
   ]
  },
  {
   "cell_type": "code",
   "execution_count": 58,
   "id": "3954ba70",
   "metadata": {},
   "outputs": [
    {
     "data": {
      "text/plain": [
       "([<matplotlib.axis.XTick at 0x20341e020d0>,\n",
       "  <matplotlib.axis.XTick at 0x20341e020a0>,\n",
       "  <matplotlib.axis.XTick at 0x20341d3ce50>,\n",
       "  <matplotlib.axis.XTick at 0x20341e4b1f0>,\n",
       "  <matplotlib.axis.XTick at 0x20341e4b940>,\n",
       "  <matplotlib.axis.XTick at 0x20341e510d0>,\n",
       "  <matplotlib.axis.XTick at 0x20341e3cf10>,\n",
       "  <matplotlib.axis.XTick at 0x20341e51700>,\n",
       "  <matplotlib.axis.XTick at 0x20341dfd790>,\n",
       "  <matplotlib.axis.XTick at 0x20341e26310>,\n",
       "  <matplotlib.axis.XTick at 0x20341e26df0>,\n",
       "  <matplotlib.axis.XTick at 0x20341e51f40>,\n",
       "  <matplotlib.axis.XTick at 0x20341e5ebb0>,\n",
       "  <matplotlib.axis.XTick at 0x20341e66070>,\n",
       "  <matplotlib.axis.XTick at 0x20341e66730>,\n",
       "  <matplotlib.axis.XTick at 0x20341e5e250>,\n",
       "  <matplotlib.axis.XTick at 0x20341e2d2b0>,\n",
       "  <matplotlib.axis.XTick at 0x20341e664c0>,\n",
       "  <matplotlib.axis.XTick at 0x20341e6f2b0>,\n",
       "  <matplotlib.axis.XTick at 0x20341e6fb80>],\n",
       " [Text(0, 0, ''),\n",
       "  Text(0, 0, ''),\n",
       "  Text(0, 0, ''),\n",
       "  Text(0, 0, ''),\n",
       "  Text(0, 0, ''),\n",
       "  Text(0, 0, ''),\n",
       "  Text(0, 0, ''),\n",
       "  Text(0, 0, ''),\n",
       "  Text(0, 0, ''),\n",
       "  Text(0, 0, ''),\n",
       "  Text(0, 0, ''),\n",
       "  Text(0, 0, ''),\n",
       "  Text(0, 0, ''),\n",
       "  Text(0, 0, ''),\n",
       "  Text(0, 0, ''),\n",
       "  Text(0, 0, ''),\n",
       "  Text(0, 0, ''),\n",
       "  Text(0, 0, ''),\n",
       "  Text(0, 0, ''),\n",
       "  Text(0, 0, '')])"
      ]
     },
     "execution_count": 58,
     "metadata": {},
     "output_type": "execute_result"
    },
    {
     "data": {
      "image/png": "[encoded data removed]",
      "text/plain": [
       "<Figure size 640x480 with 1 Axes>"
      ]
     },
     "metadata": {},
     "output_type": "display_data"
    }
   ],
   "source": [
    "x = np.random.binomial(n=20, p=1/6, size=1000)\n",
    "\n",
    "# See what happens if you increase the number of times the experiment is run\n",
    "#x = np.random.binomial(n=20, p=1/6, size=10000000)\n",
    "skulls = sns.histplot(x, bins=20,binwidth=1)\n",
    "skulls.set(xlim=(0,20))\n",
    "plt.xticks(np.arange(min(x), 20, 1.0))"
   ]
  },
  {
   "cell_type": "code",
   "execution_count": null,
   "id": "dcb527cf",
   "metadata": {},
   "outputs": [],
   "source": []
  }
 ],
 "metadata": {
  "kernelspec": {
   "display_name": "Python 3 (ipykernel)",
   "language": "python",
   "name": "python3"
  },
  "language_info": {
   "codemirror_mode": {
    "name": "ipython",
    "version": 3
   },
   "file_extension": ".py",
   "mimetype": "text/x-python",
   "name": "python",
   "nbconvert_exporter": "python",
   "pygments_lexer": "ipython3",
   "version": "3.9.13"
  }
 },
 "nbformat": 4,
 "nbformat_minor": 5
}
