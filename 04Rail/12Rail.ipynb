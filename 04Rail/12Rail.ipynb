{
 "cells": [
  {
   "attachments": {},
   "cell_type": "markdown",
   "id": "6968b09d",
   "metadata": {},
   "source": [
    "# 12. Railroad Engineering"
   ]
  },
  {
   "cell_type": "code",
   "execution_count": 1,
   "id": "f86486bf",
   "metadata": {},
   "outputs": [],
   "source": [
    "import numpy as np\n",
    "import pandas as pd\n",
    "import matplotlib.pyplot as plt \n",
    "%matplotlib inline"
   ]
  },
  {
   "attachments": {},
   "cell_type": "markdown",
   "id": "e03b815a",
   "metadata": {},
   "source": [
    "# Resistances in Rail Engineering:\n",
    "- Train resistance: Effects of inertia that tend to keep a body at rest and the friction which causes to loose momentum\n",
    "- Grade resistance: Gravitational force being applied on the train traveling up or down the grade. \n",
    "- Curve resistance: When trains travel on a curve, we also need to consider the additional resistance on the wheels"
   ]
  },
  {
   "attachments": {},
   "cell_type": "markdown",
   "id": "bcc53a36",
   "metadata": {},
   "source": [
    "# Davis Equation:\n",
    "\n",
    "$$ R_o = 1.3 + \\frac{29}{w} + bV + \\frac{CAV^2}{wn} $$ \n",
    "\n",
    "- V = speed (mph)\n",
    "- Ro = resistance (lbs/ton)\n",
    "- W = weight of the car (tons)\n",
    "- n = number of axles \n",
    "- w = W/n = axle weight (tons/axle)\n",
    "- b = experimental friction coefficient for shock etc,\n",
    "- A = cross-sectional area of the vehicle \n",
    "- C = drag coefficient based on the shape of the front of the train "
   ]
  },
  {
   "cell_type": "code",
   "execution_count": null,
   "id": "1022d271",
   "metadata": {},
   "outputs": [],
   "source": []
  }
 ],
 "metadata": {
  "kernelspec": {
   "display_name": "Python 3 (ipykernel)",
   "language": "python",
   "name": "python3"
  },
  "language_info": {
   "codemirror_mode": {
    "name": "ipython",
    "version": 3
   },
   "file_extension": ".py",
   "mimetype": "text/x-python",
   "name": "python",
   "nbconvert_exporter": "python",
   "pygments_lexer": "ipython3",
   "version": "3.9.13"
  }
 },
 "nbformat": 4,
 "nbformat_minor": 5
}
